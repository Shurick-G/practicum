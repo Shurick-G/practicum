{
 "cells": [
  {
   "cell_type": "code",
   "execution_count": 50,
   "metadata": {
    "collapsed": true
   },
   "outputs": [],
   "source": [
    "import pandas as pd\n",
    "import matplotlib.pyplot as plot\n",
    "import seaborn as sns\n",
    "from scipy import stats as st\n",
    "import os"
   ]
  },
  {
   "cell_type": "code",
   "execution_count": 51,
   "metadata": {
    "collapsed": false
   },
   "outputs": [],
   "source": [
    "df = pd.read_csv('datasets/games.csv')"
   ]
  },
  {
   "cell_type": "code",
   "execution_count": 52,
   "metadata": {
    "collapsed": false
   },
   "outputs": [
    {
     "data": {
      "text/plain": "                Name Platform  Year_of_Release     Genre  NA_sales  EU_sales  \\\n0         Wii Sports      Wii           2006.0    Sports     41.36     28.96   \n1  Super Mario Bros.      NES           1985.0  Platform     29.08      3.58   \n2     Mario Kart Wii      Wii           2008.0    Racing     15.68     12.76   \n\n   JP_sales  Other_sales  Critic_Score User_Score Rating  \n0      3.77         8.45          76.0          8      E  \n1      6.81         0.77           NaN        NaN    NaN  \n2      3.79         3.29          82.0        8.3      E  ",
      "text/html": "<div>\n<style scoped>\n    .dataframe tbody tr th:only-of-type {\n        vertical-align: middle;\n    }\n\n    .dataframe tbody tr th {\n        vertical-align: top;\n    }\n\n    .dataframe thead th {\n        text-align: right;\n    }\n</style>\n<table border=\"1\" class=\"dataframe\">\n  <thead>\n    <tr style=\"text-align: right;\">\n      <th></th>\n      <th>Name</th>\n      <th>Platform</th>\n      <th>Year_of_Release</th>\n      <th>Genre</th>\n      <th>NA_sales</th>\n      <th>EU_sales</th>\n      <th>JP_sales</th>\n      <th>Other_sales</th>\n      <th>Critic_Score</th>\n      <th>User_Score</th>\n      <th>Rating</th>\n    </tr>\n  </thead>\n  <tbody>\n    <tr>\n      <th>0</th>\n      <td>Wii Sports</td>\n      <td>Wii</td>\n      <td>2006.0</td>\n      <td>Sports</td>\n      <td>41.36</td>\n      <td>28.96</td>\n      <td>3.77</td>\n      <td>8.45</td>\n      <td>76.0</td>\n      <td>8</td>\n      <td>E</td>\n    </tr>\n    <tr>\n      <th>1</th>\n      <td>Super Mario Bros.</td>\n      <td>NES</td>\n      <td>1985.0</td>\n      <td>Platform</td>\n      <td>29.08</td>\n      <td>3.58</td>\n      <td>6.81</td>\n      <td>0.77</td>\n      <td>NaN</td>\n      <td>NaN</td>\n      <td>NaN</td>\n    </tr>\n    <tr>\n      <th>2</th>\n      <td>Mario Kart Wii</td>\n      <td>Wii</td>\n      <td>2008.0</td>\n      <td>Racing</td>\n      <td>15.68</td>\n      <td>12.76</td>\n      <td>3.79</td>\n      <td>3.29</td>\n      <td>82.0</td>\n      <td>8.3</td>\n      <td>E</td>\n    </tr>\n  </tbody>\n</table>\n</div>"
     },
     "execution_count": 52,
     "metadata": {},
     "output_type": "execute_result"
    }
   ],
   "source": [
    "df.head(3)"
   ]
  },
  {
   "cell_type": "code",
   "execution_count": 53,
   "metadata": {
    "collapsed": false
   },
   "outputs": [
    {
     "name": "stdout",
     "output_type": "stream",
     "text": [
      "Name\n",
      "Platform\n",
      "Year_of_Release\n",
      "Genre\n",
      "NA_sales\n",
      "EU_sales\n",
      "JP_sales\n",
      "Other_sales\n",
      "Critic_Score\n",
      "User_Score\n",
      "Rating\n"
     ]
    }
   ],
   "source": [
    "# Так наглядней чем df.columns\n",
    "for column in df.columns:\n",
    "    print(column)"
   ]
  },
  {
   "cell_type": "code",
   "execution_count": 54,
   "metadata": {
    "collapsed": false
   },
   "outputs": [],
   "source": [
    "df.columns = df.columns.map(lambda x: x.lower())"
   ]
  },
  {
   "cell_type": "code",
   "execution_count": 55,
   "metadata": {
    "collapsed": false
   },
   "outputs": [
    {
     "name": "stdout",
     "output_type": "stream",
     "text": [
      "<class 'pandas.core.frame.DataFrame'>\n",
      "RangeIndex: 16715 entries, 0 to 16714\n",
      "Data columns (total 11 columns):\n",
      " #   Column           Non-Null Count  Dtype  \n",
      "---  ------           --------------  -----  \n",
      " 0   name             16713 non-null  object \n",
      " 1   platform         16715 non-null  object \n",
      " 2   year_of_release  16446 non-null  float64\n",
      " 3   genre            16713 non-null  object \n",
      " 4   na_sales         16715 non-null  float64\n",
      " 5   eu_sales         16715 non-null  float64\n",
      " 6   jp_sales         16715 non-null  float64\n",
      " 7   other_sales      16715 non-null  float64\n",
      " 8   critic_score     8137 non-null   float64\n",
      " 9   user_score       10014 non-null  object \n",
      " 10  rating           9949 non-null   object \n",
      "dtypes: float64(6), object(5)\n",
      "memory usage: 1.4+ MB\n"
     ]
    }
   ],
   "source": [
    "df.info()"
   ]
  },
  {
   "cell_type": "code",
   "execution_count": 56,
   "metadata": {
    "collapsed": false
   },
   "outputs": [
    {
     "data": {
      "text/plain": "name                  2\nplatform              0\nyear_of_release     269\ngenre                 2\nna_sales              0\neu_sales              0\njp_sales              0\nother_sales           0\ncritic_score       8578\nuser_score         6701\nrating             6766\ndtype: int64"
     },
     "execution_count": 56,
     "metadata": {},
     "output_type": "execute_result"
    }
   ],
   "source": [
    "df.isna().sum()"
   ]
  },
  {
   "cell_type": "code",
   "execution_count": 57,
   "metadata": {
    "collapsed": false
   },
   "outputs": [
    {
     "data": {
      "text/plain": "269"
     },
     "execution_count": 57,
     "metadata": {},
     "output_type": "execute_result"
    }
   ],
   "source": [
    "df['year_of_release'].isna().sum()"
   ]
  },
  {
   "cell_type": "code",
   "execution_count": 58,
   "metadata": {},
   "outputs": [
    {
     "data": {
      "text/plain": "<AxesSubplot: xlabel='year_of_release'>"
     },
     "execution_count": 58,
     "metadata": {},
     "output_type": "execute_result"
    },
    {
     "data": {
      "text/plain": "<Figure size 640x480 with 1 Axes>",
      "image/png": "[encoded data removed]"
     },
     "metadata": {},
     "output_type": "display_data"
    }
   ],
   "source": [
    "df.groupby('year_of_release')['name'].count().plot.bar(xlim=1995)"
   ]
  },
  {
   "cell_type": "markdown",
   "source": [
    "Изучим записи, которые содержат пропуски в поле `year_of_release`. Таких записей 269, что от общего числа:"
   ],
   "metadata": {
    "collapsed": false
   }
  },
  {
   "cell_type": "code",
   "execution_count": 59,
   "outputs": [
    {
     "data": {
      "text/plain": "0.01609332934489979"
     },
     "execution_count": 59,
     "metadata": {},
     "output_type": "execute_result"
    }
   ],
   "source": [
    "df['year_of_release'].isna().sum() / len(df)"
   ],
   "metadata": {
    "collapsed": false
   }
  },
  {
   "cell_type": "markdown",
   "source": [
    "Чуть больше процента. Впринципе, таким колличеством мрожно и принебречь. Но, всё таки взглянем на них:"
   ],
   "metadata": {
    "collapsed": false
   }
  },
  {
   "cell_type": "code",
   "execution_count": 60,
   "metadata": {},
   "outputs": [
    {
     "data": {
      "text/plain": "                                    name platform  year_of_release  \\\n183                      Madden NFL 2004      PS2              NaN   \n377                     FIFA Soccer 2004      PS2              NaN   \n456           LEGO Batman: The Videogame      Wii              NaN   \n475           wwe Smackdown vs. Raw 2006      PS2              NaN   \n609                       Space Invaders     2600              NaN   \n...                                  ...      ...              ...   \n16373  PDC World Championship Darts 2008      PSP              NaN   \n16405                      Freaky Flyers       GC              NaN   \n16448                          Inversion       PC              NaN   \n16458        Hakuouki: Shinsengumi Kitan      PS3              NaN   \n16522                       Virtua Quest       GC              NaN   \n\n              genre  na_sales  eu_sales  jp_sales  other_sales  critic_score  \\\n183          Sports      4.26      0.26      0.01         0.71          94.0   \n377          Sports      0.59      2.36      0.04         0.51          84.0   \n456          Action      1.80      0.97      0.00         0.29          74.0   \n475        Fighting      1.57      1.02      0.00         0.41           NaN   \n609         Shooter      2.36      0.14      0.00         0.03           NaN   \n...             ...       ...       ...       ...          ...           ...   \n16373        Sports      0.01      0.00      0.00         0.00          43.0   \n16405        Racing      0.01      0.00      0.00         0.00          69.0   \n16448       Shooter      0.01      0.00      0.00         0.00          59.0   \n16458     Adventure      0.01      0.00      0.00         0.00           NaN   \n16522  Role-Playing      0.01      0.00      0.00         0.00          55.0   \n\n      user_score rating  \n183          8.5      E  \n377          6.4      E  \n456          7.9   E10+  \n475          NaN    NaN  \n609          NaN    NaN  \n...          ...    ...  \n16373        tbd   E10+  \n16405        6.5      T  \n16448        6.7      M  \n16458        NaN    NaN  \n16522        5.5      T  \n\n[269 rows x 11 columns]",
      "text/html": "<div>\n<style scoped>\n    .dataframe tbody tr th:only-of-type {\n        vertical-align: middle;\n    }\n\n    .dataframe tbody tr th {\n        vertical-align: top;\n    }\n\n    .dataframe thead th {\n        text-align: right;\n    }\n</style>\n<table border=\"1\" class=\"dataframe\">\n  <thead>\n    <tr style=\"text-align: right;\">\n      <th></th>\n      <th>name</th>\n      <th>platform</th>\n      <th>year_of_release</th>\n      <th>genre</th>\n      <th>na_sales</th>\n      <th>eu_sales</th>\n      <th>jp_sales</th>\n      <th>other_sales</th>\n      <th>critic_score</th>\n      <th>user_score</th>\n      <th>rating</th>\n    </tr>\n  </thead>\n  <tbody>\n    <tr>\n      <th>183</th>\n      <td>Madden NFL 2004</td>\n      <td>PS2</td>\n      <td>NaN</td>\n      <td>Sports</td>\n      <td>4.26</td>\n      <td>0.26</td>\n      <td>0.01</td>\n      <td>0.71</td>\n      <td>94.0</td>\n      <td>8.5</td>\n      <td>E</td>\n    </tr>\n    <tr>\n      <th>377</th>\n      <td>FIFA Soccer 2004</td>\n      <td>PS2</td>\n      <td>NaN</td>\n      <td>Sports</td>\n      <td>0.59</td>\n      <td>2.36</td>\n      <td>0.04</td>\n      <td>0.51</td>\n      <td>84.0</td>\n      <td>6.4</td>\n      <td>E</td>\n    </tr>\n    <tr>\n      <th>456</th>\n      <td>LEGO Batman: The Videogame</td>\n      <td>Wii</td>\n      <td>NaN</td>\n      <td>Action</td>\n      <td>1.80</td>\n      <td>0.97</td>\n      <td>0.00</td>\n      <td>0.29</td>\n      <td>74.0</td>\n      <td>7.9</td>\n      <td>E10+</td>\n    </tr>\n    <tr>\n      <th>475</th>\n      <td>wwe Smackdown vs. Raw 2006</td>\n      <td>PS2</td>\n      <td>NaN</td>\n      <td>Fighting</td>\n      <td>1.57</td>\n      <td>1.02</td>\n      <td>0.00</td>\n      <td>0.41</td>\n      <td>NaN</td>\n      <td>NaN</td>\n      <td>NaN</td>\n    </tr>\n    <tr>\n      <th>609</th>\n      <td>Space Invaders</td>\n      <td>2600</td>\n      <td>NaN</td>\n      <td>Shooter</td>\n      <td>2.36</td>\n      <td>0.14</td>\n      <td>0.00</td>\n      <td>0.03</td>\n      <td>NaN</td>\n      <td>NaN</td>\n      <td>NaN</td>\n    </tr>\n    <tr>\n      <th>...</th>\n      <td>...</td>\n      <td>...</td>\n      <td>...</td>\n      <td>...</td>\n      <td>...</td>\n      <td>...</td>\n      <td>...</td>\n      <td>...</td>\n      <td>...</td>\n      <td>...</td>\n      <td>...</td>\n    </tr>\n    <tr>\n      <th>16373</th>\n      <td>PDC World Championship Darts 2008</td>\n      <td>PSP</td>\n      <td>NaN</td>\n      <td>Sports</td>\n      <td>0.01</td>\n      <td>0.00</td>\n      <td>0.00</td>\n      <td>0.00</td>\n      <td>43.0</td>\n      <td>tbd</td>\n      <td>E10+</td>\n    </tr>\n    <tr>\n      <th>16405</th>\n      <td>Freaky Flyers</td>\n      <td>GC</td>\n      <td>NaN</td>\n      <td>Racing</td>\n      <td>0.01</td>\n      <td>0.00</td>\n      <td>0.00</td>\n      <td>0.00</td>\n      <td>69.0</td>\n      <td>6.5</td>\n      <td>T</td>\n    </tr>\n    <tr>\n      <th>16448</th>\n      <td>Inversion</td>\n      <td>PC</td>\n      <td>NaN</td>\n      <td>Shooter</td>\n      <td>0.01</td>\n      <td>0.00</td>\n      <td>0.00</td>\n      <td>0.00</td>\n      <td>59.0</td>\n      <td>6.7</td>\n      <td>M</td>\n    </tr>\n    <tr>\n      <th>16458</th>\n      <td>Hakuouki: Shinsengumi Kitan</td>\n      <td>PS3</td>\n      <td>NaN</td>\n      <td>Adventure</td>\n      <td>0.01</td>\n      <td>0.00</td>\n      <td>0.00</td>\n      <td>0.00</td>\n      <td>NaN</td>\n      <td>NaN</td>\n      <td>NaN</td>\n    </tr>\n    <tr>\n      <th>16522</th>\n      <td>Virtua Quest</td>\n      <td>GC</td>\n      <td>NaN</td>\n      <td>Role-Playing</td>\n      <td>0.01</td>\n      <td>0.00</td>\n      <td>0.00</td>\n      <td>0.00</td>\n      <td>55.0</td>\n      <td>5.5</td>\n      <td>T</td>\n    </tr>\n  </tbody>\n</table>\n<p>269 rows × 11 columns</p>\n</div>"
     },
     "execution_count": 60,
     "metadata": {},
     "output_type": "execute_result"
    }
   ],
   "source": [
    "df[df['year_of_release'].isna()]"
   ]
  },
  {
   "cell_type": "code",
   "execution_count": 61,
   "outputs": [
    {
     "data": {
      "text/plain": "Action          62\nSports          42\nMisc            29\nShooter         27\nRacing          23\nRole-Playing    17\nSimulation      16\nFighting        12\nPuzzle          11\nAdventure       10\nPlatform        10\nStrategy        10\nName: genre, dtype: int64"
     },
     "execution_count": 61,
     "metadata": {},
     "output_type": "execute_result"
    }
   ],
   "source": [
    "df[df['year_of_release'].isna()]['genre'].value_counts().sort_values(ascending=False)"
   ],
   "metadata": {
    "collapsed": false
   }
  },
  {
   "cell_type": "markdown",
   "source": [
    "Можно заметить, что большенство из таких игр – это спортивные симуляторы (221 например –  это футбол). И они содержат год в названии"
   ],
   "metadata": {
    "collapsed": false
   }
  },
  {
   "cell_type": "code",
   "execution_count": 62,
   "metadata": {},
   "outputs": [
    {
     "data": {
      "text/plain": "                                            name platform  year_of_release  \\\n81                                FIFA Soccer 13      PS3           2012.0   \n190                               FIFA Soccer 13     X360           2012.0   \n202                               FIFA Soccer 11      PS3           2010.0   \n250    Winning Eleven: Pro Evolution Soccer 2007      PS2           2006.0   \n274                               FIFA Soccer 06      PS2           2005.0   \n...                                          ...      ...              ...   \n16033                             FIFA Soccer 08       PC           2007.0   \n16060              Worldwide Soccer Manager 2006       PC           2004.0   \n16176                               Fab 5 Soccer       DS           2008.0   \n16528                  Pro Evolution Soccer 2010       PC           2009.0   \n16551  Winning Eleven: Pro Evolution Soccer 2007       PC           2006.0   \n\n        genre  na_sales  eu_sales  jp_sales  other_sales  critic_score  \\\n81     Action      1.06      5.01      0.13         1.97          88.0   \n190    Action      1.09      3.47      0.03         0.57          90.0   \n202    Sports      0.61      3.28      0.06         1.12          89.0   \n250    Sports      0.10      2.39      1.05         0.86          86.0   \n274    Sports      0.78      2.55      0.04         0.84          80.0   \n...       ...       ...       ...       ...          ...           ...   \n16033  Sports      0.00      0.01      0.00         0.00          77.0   \n16060  Sports      0.00      0.01      0.00         0.00          89.0   \n16176  Sports      0.01      0.00      0.00         0.00           NaN   \n16528  Sports      0.00      0.01      0.00         0.00          78.0   \n16551  Sports      0.00      0.01      0.00         0.00          88.0   \n\n      user_score rating  \n81           6.6      E  \n190          6.1      E  \n202            8      E  \n250          8.9      E  \n274          7.8      E  \n...          ...    ...  \n16033        6.1      E  \n16060        NaN      E  \n16176        tbd      E  \n16528        6.9      E  \n16551        NaN      E  \n\n[221 rows x 11 columns]",
      "text/html": "<div>\n<style scoped>\n    .dataframe tbody tr th:only-of-type {\n        vertical-align: middle;\n    }\n\n    .dataframe tbody tr th {\n        vertical-align: top;\n    }\n\n    .dataframe thead th {\n        text-align: right;\n    }\n</style>\n<table border=\"1\" class=\"dataframe\">\n  <thead>\n    <tr style=\"text-align: right;\">\n      <th></th>\n      <th>name</th>\n      <th>platform</th>\n      <th>year_of_release</th>\n      <th>genre</th>\n      <th>na_sales</th>\n      <th>eu_sales</th>\n      <th>jp_sales</th>\n      <th>other_sales</th>\n      <th>critic_score</th>\n      <th>user_score</th>\n      <th>rating</th>\n    </tr>\n  </thead>\n  <tbody>\n    <tr>\n      <th>81</th>\n      <td>FIFA Soccer 13</td>\n      <td>PS3</td>\n      <td>2012.0</td>\n      <td>Action</td>\n      <td>1.06</td>\n      <td>5.01</td>\n      <td>0.13</td>\n      <td>1.97</td>\n      <td>88.0</td>\n      <td>6.6</td>\n      <td>E</td>\n    </tr>\n    <tr>\n      <th>190</th>\n      <td>FIFA Soccer 13</td>\n      <td>X360</td>\n      <td>2012.0</td>\n      <td>Action</td>\n      <td>1.09</td>\n      <td>3.47</td>\n      <td>0.03</td>\n      <td>0.57</td>\n      <td>90.0</td>\n      <td>6.1</td>\n      <td>E</td>\n    </tr>\n    <tr>\n      <th>202</th>\n      <td>FIFA Soccer 11</td>\n      <td>PS3</td>\n      <td>2010.0</td>\n      <td>Sports</td>\n      <td>0.61</td>\n      <td>3.28</td>\n      <td>0.06</td>\n      <td>1.12</td>\n      <td>89.0</td>\n      <td>8</td>\n      <td>E</td>\n    </tr>\n    <tr>\n      <th>250</th>\n      <td>Winning Eleven: Pro Evolution Soccer 2007</td>\n      <td>PS2</td>\n      <td>2006.0</td>\n      <td>Sports</td>\n      <td>0.10</td>\n      <td>2.39</td>\n      <td>1.05</td>\n      <td>0.86</td>\n      <td>86.0</td>\n      <td>8.9</td>\n      <td>E</td>\n    </tr>\n    <tr>\n      <th>274</th>\n      <td>FIFA Soccer 06</td>\n      <td>PS2</td>\n      <td>2005.0</td>\n      <td>Sports</td>\n      <td>0.78</td>\n      <td>2.55</td>\n      <td>0.04</td>\n      <td>0.84</td>\n      <td>80.0</td>\n      <td>7.8</td>\n      <td>E</td>\n    </tr>\n    <tr>\n      <th>...</th>\n      <td>...</td>\n      <td>...</td>\n      <td>...</td>\n      <td>...</td>\n      <td>...</td>\n      <td>...</td>\n      <td>...</td>\n      <td>...</td>\n      <td>...</td>\n      <td>...</td>\n      <td>...</td>\n    </tr>\n    <tr>\n      <th>16033</th>\n      <td>FIFA Soccer 08</td>\n      <td>PC</td>\n      <td>2007.0</td>\n      <td>Sports</td>\n      <td>0.00</td>\n      <td>0.01</td>\n      <td>0.00</td>\n      <td>0.00</td>\n      <td>77.0</td>\n      <td>6.1</td>\n      <td>E</td>\n    </tr>\n    <tr>\n      <th>16060</th>\n      <td>Worldwide Soccer Manager 2006</td>\n      <td>PC</td>\n      <td>2004.0</td>\n      <td>Sports</td>\n      <td>0.00</td>\n      <td>0.01</td>\n      <td>0.00</td>\n      <td>0.00</td>\n      <td>89.0</td>\n      <td>NaN</td>\n      <td>E</td>\n    </tr>\n    <tr>\n      <th>16176</th>\n      <td>Fab 5 Soccer</td>\n      <td>DS</td>\n      <td>2008.0</td>\n      <td>Sports</td>\n      <td>0.01</td>\n      <td>0.00</td>\n      <td>0.00</td>\n      <td>0.00</td>\n      <td>NaN</td>\n      <td>tbd</td>\n      <td>E</td>\n    </tr>\n    <tr>\n      <th>16528</th>\n      <td>Pro Evolution Soccer 2010</td>\n      <td>PC</td>\n      <td>2009.0</td>\n      <td>Sports</td>\n      <td>0.00</td>\n      <td>0.01</td>\n      <td>0.00</td>\n      <td>0.00</td>\n      <td>78.0</td>\n      <td>6.9</td>\n      <td>E</td>\n    </tr>\n    <tr>\n      <th>16551</th>\n      <td>Winning Eleven: Pro Evolution Soccer 2007</td>\n      <td>PC</td>\n      <td>2006.0</td>\n      <td>Sports</td>\n      <td>0.00</td>\n      <td>0.01</td>\n      <td>0.00</td>\n      <td>0.00</td>\n      <td>88.0</td>\n      <td>NaN</td>\n      <td>E</td>\n    </tr>\n  </tbody>\n</table>\n<p>221 rows × 11 columns</p>\n</div>"
     },
     "execution_count": 62,
     "metadata": {},
     "output_type": "execute_result"
    }
   ],
   "source": [
    "df[(~df['year_of_release'].isna()) & (df['name'].str.contains('Soccer'))]"
   ]
  },
  {
   "cell_type": "markdown",
   "source": [
    "Причём, нельзя просто так взять эту цифру и заполнить ей пропушенные значения, потому что:\n",
    "<ol>\n",
    "    <li>Где-то в названии игры год указан четырех значным числом (2011), а где-то двух значным (11)\n",
    "    <li>В большенстве названий указан следующий год после выхода игры\n",
    "    <li>Где-то год указан в скобках\n",
    "<ol><br>\n",
    "Всё это надо учесть"
   ],
   "metadata": {
    "collapsed": false
   }
  },
  {
   "cell_type": "code",
   "execution_count": 63,
   "outputs": [
    {
     "data": {
      "text/plain": "                                                 name platform  \\\n87                       Star Wars Battlefront (2015)      PS4   \n238                                   Madden NFL 2005      PS2   \n250         Winning Eleven: Pro Evolution Soccer 2007      PS2   \n283                                   Madden NFL 2003      PS2   \n333    Mario & Sonic at the London 2012 Olympic Games      Wii   \n...                                               ...      ...   \n16638                             Tour de France 2014      PS3   \n16658                          Driving Simulator 2011       PC   \n16676                                G1 Jockey 4 2008      PS3   \n16711                                LMA Manager 2007     X360   \n16714                             Winning Post 8 2016      PSV   \n\n       year_of_release       genre  na_sales  eu_sales  jp_sales  other_sales  \\\n87              2015.0     Shooter      2.99      3.49      0.22         1.28   \n238             2004.0      Sports      4.18      0.26      0.01         0.08   \n250             2006.0      Sports      0.10      2.39      1.05         0.86   \n283             2002.0      Sports      3.36      0.21      0.01         0.56   \n333             2011.0      Sports      1.12      1.87      0.27         0.45   \n...                ...         ...       ...       ...       ...          ...   \n16638           2014.0      Sports      0.00      0.01      0.00         0.00   \n16658           2011.0      Racing      0.00      0.01      0.00         0.00   \n16676           2008.0      Sports      0.00      0.00      0.00         0.00   \n16711           2006.0      Sports      0.00      0.01      0.00         0.00   \n16714           2016.0  Simulation      0.00      0.00      0.01         0.00   \n\n       critic_score user_score rating  \n87              NaN        NaN    NaN  \n238            91.0        7.9      E  \n250            86.0        8.9      E  \n283            95.0        7.7      E  \n333             NaN        NaN    NaN  \n...             ...        ...    ...  \n16638           NaN        tbd      E  \n16658           NaN        NaN    NaN  \n16676           NaN        NaN    NaN  \n16711           NaN        NaN    NaN  \n16714           NaN        NaN    NaN  \n\n[867 rows x 11 columns]",
      "text/html": "<div>\n<style scoped>\n    .dataframe tbody tr th:only-of-type {\n        vertical-align: middle;\n    }\n\n    .dataframe tbody tr th {\n        vertical-align: top;\n    }\n\n    .dataframe thead th {\n        text-align: right;\n    }\n</style>\n<table border=\"1\" class=\"dataframe\">\n  <thead>\n    <tr style=\"text-align: right;\">\n      <th></th>\n      <th>name</th>\n      <th>platform</th>\n      <th>year_of_release</th>\n      <th>genre</th>\n      <th>na_sales</th>\n      <th>eu_sales</th>\n      <th>jp_sales</th>\n      <th>other_sales</th>\n      <th>critic_score</th>\n      <th>user_score</th>\n      <th>rating</th>\n    </tr>\n  </thead>\n  <tbody>\n    <tr>\n      <th>87</th>\n      <td>Star Wars Battlefront (2015)</td>\n      <td>PS4</td>\n      <td>2015.0</td>\n      <td>Shooter</td>\n      <td>2.99</td>\n      <td>3.49</td>\n      <td>0.22</td>\n      <td>1.28</td>\n      <td>NaN</td>\n      <td>NaN</td>\n      <td>NaN</td>\n    </tr>\n    <tr>\n      <th>238</th>\n      <td>Madden NFL 2005</td>\n      <td>PS2</td>\n      <td>2004.0</td>\n      <td>Sports</td>\n      <td>4.18</td>\n      <td>0.26</td>\n      <td>0.01</td>\n      <td>0.08</td>\n      <td>91.0</td>\n      <td>7.9</td>\n      <td>E</td>\n    </tr>\n    <tr>\n      <th>250</th>\n      <td>Winning Eleven: Pro Evolution Soccer 2007</td>\n      <td>PS2</td>\n      <td>2006.0</td>\n      <td>Sports</td>\n      <td>0.10</td>\n      <td>2.39</td>\n      <td>1.05</td>\n      <td>0.86</td>\n      <td>86.0</td>\n      <td>8.9</td>\n      <td>E</td>\n    </tr>\n    <tr>\n      <th>283</th>\n      <td>Madden NFL 2003</td>\n      <td>PS2</td>\n      <td>2002.0</td>\n      <td>Sports</td>\n      <td>3.36</td>\n      <td>0.21</td>\n      <td>0.01</td>\n      <td>0.56</td>\n      <td>95.0</td>\n      <td>7.7</td>\n      <td>E</td>\n    </tr>\n    <tr>\n      <th>333</th>\n      <td>Mario &amp; Sonic at the London 2012 Olympic Games</td>\n      <td>Wii</td>\n      <td>2011.0</td>\n      <td>Sports</td>\n      <td>1.12</td>\n      <td>1.87</td>\n      <td>0.27</td>\n      <td>0.45</td>\n      <td>NaN</td>\n      <td>NaN</td>\n      <td>NaN</td>\n    </tr>\n    <tr>\n      <th>...</th>\n      <td>...</td>\n      <td>...</td>\n      <td>...</td>\n      <td>...</td>\n      <td>...</td>\n      <td>...</td>\n      <td>...</td>\n      <td>...</td>\n      <td>...</td>\n      <td>...</td>\n      <td>...</td>\n    </tr>\n    <tr>\n      <th>16638</th>\n      <td>Tour de France 2014</td>\n      <td>PS3</td>\n      <td>2014.0</td>\n      <td>Sports</td>\n      <td>0.00</td>\n      <td>0.01</td>\n      <td>0.00</td>\n      <td>0.00</td>\n      <td>NaN</td>\n      <td>tbd</td>\n      <td>E</td>\n    </tr>\n    <tr>\n      <th>16658</th>\n      <td>Driving Simulator 2011</td>\n      <td>PC</td>\n      <td>2011.0</td>\n      <td>Racing</td>\n      <td>0.00</td>\n      <td>0.01</td>\n      <td>0.00</td>\n      <td>0.00</td>\n      <td>NaN</td>\n      <td>NaN</td>\n      <td>NaN</td>\n    </tr>\n    <tr>\n      <th>16676</th>\n      <td>G1 Jockey 4 2008</td>\n      <td>PS3</td>\n      <td>2008.0</td>\n      <td>Sports</td>\n      <td>0.00</td>\n      <td>0.00</td>\n      <td>0.00</td>\n      <td>0.00</td>\n      <td>NaN</td>\n      <td>NaN</td>\n      <td>NaN</td>\n    </tr>\n    <tr>\n      <th>16711</th>\n      <td>LMA Manager 2007</td>\n      <td>X360</td>\n      <td>2006.0</td>\n      <td>Sports</td>\n      <td>0.00</td>\n      <td>0.01</td>\n      <td>0.00</td>\n      <td>0.00</td>\n      <td>NaN</td>\n      <td>NaN</td>\n      <td>NaN</td>\n    </tr>\n    <tr>\n      <th>16714</th>\n      <td>Winning Post 8 2016</td>\n      <td>PSV</td>\n      <td>2016.0</td>\n      <td>Simulation</td>\n      <td>0.00</td>\n      <td>0.00</td>\n      <td>0.01</td>\n      <td>0.00</td>\n      <td>NaN</td>\n      <td>NaN</td>\n      <td>NaN</td>\n    </tr>\n  </tbody>\n</table>\n<p>867 rows × 11 columns</p>\n</div>"
     },
     "execution_count": 63,
     "metadata": {},
     "output_type": "execute_result"
    }
   ],
   "source": [
    "df.loc[(~df['year_of_release'].isna()) & (df['name'].str.contains('20'))]"
   ],
   "metadata": {
    "collapsed": false
   }
  },
  {
   "cell_type": "markdown",
   "source": [
    "В первую очередь обработаем записи, где год указан четырехзначным числом.<br>\n",
    "Посмотрим на них:"
   ],
   "metadata": {
    "collapsed": false
   }
  },
  {
   "cell_type": "code",
   "execution_count": 66,
   "outputs": [
    {
     "data": {
      "text/plain": "183                          [Madden, NFL, 2004]\n377                         [FIFA, Soccer, 2004]\n475             [wwe, Smackdown, vs., Raw, 2006]\n1650                     [NASCAR, Thunder, 2003]\n2492                      [MLB, SlugFest, 20-03]\n2572        [PES, 2009:, Pro, Evolution, Soccer]\n3486                         [Madden, NFL, 2002]\n4775                        [NFL, GameDay, 2003]\n5156                           [NBA, Live, 2003]\n5336                      [Tomb, Raider, (2013)]\n5655                  [All-Star, Baseball, 2005]\n5889                           [NBA, Live, 2003]\n6954                                  [Jet, X20]\n8918                  [All-Star, Baseball, 2005]\n13195                   [Tour, de, France, 2011]\n13929                        [Sega, Rally, 2006]\n15953    [PDC, World, Championship, Darts, 2008]\n16079                  [Football, Manager, 2007]\n16373    [PDC, World, Championship, Darts, 2008]\nName: name, dtype: object"
     },
     "execution_count": 66,
     "metadata": {},
     "output_type": "execute_result"
    }
   ],
   "source": [
    "df[\n",
    "        (df['year_of_release'].isna())\n",
    "        &\n",
    "        (df['name'].str.contains('20'))\n",
    "    ]['name']\\\n",
    "        .str.split(' ')"
   ],
   "metadata": {
    "collapsed": false
   }
  },
  {
   "cell_type": "markdown",
   "source": [
    "Вручную обработаем совсем уж выбивающиеся значения (их всего два):"
   ],
   "metadata": {
    "collapsed": false
   }
  },
  {
   "cell_type": "code",
   "execution_count": 70,
   "outputs": [],
   "source": [
    "df.loc[(df['year_of_release'].isna())  & (df['name'] == 'PES 2009: Pro Evolution Soccer'), 'year_of_release'] = 2009\n",
    "df.loc[(df['year_of_release'].isna())  & (df['name'] == 'Jet X20'), 'year_of_release'] = 0 # Год всё равно неизвестен"
   ],
   "metadata": {
    "collapsed": false
   }
  },
  {
   "cell_type": "markdown",
   "source": [
    "Остальное обработаем автоматически"
   ],
   "metadata": {
    "collapsed": false
   }
  },
  {
   "cell_type": "code",
   "execution_count": 71,
   "outputs": [],
   "source": [
    "df.loc[(df['year_of_release'].isna())  & (df['name'].str.contains('20')), 'year_of_release'] = \\\n",
    "df[(df['year_of_release'].isna()) & (df['name'].str.contains('20'))]['name'].str.split(' ').map(lambda x: int(x[-1] \\\n",
    "                                                                     .replace('-', '') \\\n",
    "                                                                     .replace('(', '') \\\n",
    "                                                                     .replace(')', ''))-1)"
   ],
   "metadata": {
    "collapsed": false
   }
  },
  {
   "cell_type": "markdown",
   "source": [
    "Теперь обработаем записи, где год указан двухзначным числом"
   ],
   "metadata": {
    "collapsed": false
   }
  },
  {
   "cell_type": "code",
   "execution_count": 84,
   "outputs": [],
   "source": [
    "df.loc[df['year_of_release'].isna(), 'year_of_release'] = \\\n",
    "df.loc[(df['year_of_release'].isna())]['name'].str.split(' ').map(lambda x: x[-1] if len(x[-1])==2 and x[-1].isdigit() else 0)"
   ],
   "metadata": {
    "collapsed": false
   }
  },
  {
   "cell_type": "code",
   "execution_count": 18,
   "outputs": [
    {
     "data": {
      "text/html": [
       "<div>\n",
       "<style scoped>\n",
       "    .dataframe tbody tr th:only-of-type {\n",
       "        vertical-align: middle;\n",
       "    }\n",
       "\n",
       "    .dataframe tbody tr th {\n",
       "        vertical-align: top;\n",
       "    }\n",
       "\n",
       "    .dataframe thead th {\n",
       "        text-align: right;\n",
       "    }\n",
       "</style>\n",
       "<table border=\"1\" class=\"dataframe\">\n",
       "  <thead>\n",
       "    <tr style=\"text-align: right;\">\n",
       "      <th></th>\n",
       "      <th>name</th>\n",
       "      <th>platform</th>\n",
       "      <th>year_of_release</th>\n",
       "      <th>genre</th>\n",
       "      <th>na_sales</th>\n",
       "      <th>eu_sales</th>\n",
       "      <th>jp_sales</th>\n",
       "      <th>other_sales</th>\n",
       "      <th>critic_score</th>\n",
       "      <th>user_score</th>\n",
       "      <th>rating</th>\n",
       "    </tr>\n",
       "  </thead>\n",
       "  <tbody>\n",
       "    <tr>\n",
       "      <th>617</th>\n",
       "      <td>PES 2009: Pro Evolution Soccer</td>\n",
       "      <td>PS2</td>\n",
       "      <td>2008.0</td>\n",
       "      <td>Sports</td>\n",
       "      <td>0.13</td>\n",
       "      <td>0.07</td>\n",
       "      <td>0.26</td>\n",
       "      <td>2.05</td>\n",
       "      <td>NaN</td>\n",
       "      <td>NaN</td>\n",
       "      <td>NaN</td>\n",
       "    </tr>\n",
       "    <tr>\n",
       "      <th>783</th>\n",
       "      <td>PES 2009: Pro Evolution Soccer</td>\n",
       "      <td>PS3</td>\n",
       "      <td>2008.0</td>\n",
       "      <td>Sports</td>\n",
       "      <td>0.11</td>\n",
       "      <td>1.33</td>\n",
       "      <td>0.40</td>\n",
       "      <td>0.26</td>\n",
       "      <td>NaN</td>\n",
       "      <td>NaN</td>\n",
       "      <td>NaN</td>\n",
       "    </tr>\n",
       "    <tr>\n",
       "      <th>2068</th>\n",
       "      <td>PES 2009: Pro Evolution Soccer</td>\n",
       "      <td>X360</td>\n",
       "      <td>2008.0</td>\n",
       "      <td>Sports</td>\n",
       "      <td>0.13</td>\n",
       "      <td>0.76</td>\n",
       "      <td>0.03</td>\n",
       "      <td>0.09</td>\n",
       "      <td>NaN</td>\n",
       "      <td>NaN</td>\n",
       "      <td>NaN</td>\n",
       "    </tr>\n",
       "    <tr>\n",
       "      <th>2572</th>\n",
       "      <td>PES 2009: Pro Evolution Soccer</td>\n",
       "      <td>PSP</td>\n",
       "      <td>Soccer</td>\n",
       "      <td>Sports</td>\n",
       "      <td>0.04</td>\n",
       "      <td>0.33</td>\n",
       "      <td>0.26</td>\n",
       "      <td>0.17</td>\n",
       "      <td>NaN</td>\n",
       "      <td>NaN</td>\n",
       "      <td>NaN</td>\n",
       "    </tr>\n",
       "    <tr>\n",
       "      <th>4329</th>\n",
       "      <td>PES 2009: Pro Evolution Soccer</td>\n",
       "      <td>Wii</td>\n",
       "      <td>2009.0</td>\n",
       "      <td>Sports</td>\n",
       "      <td>0.09</td>\n",
       "      <td>0.26</td>\n",
       "      <td>0.05</td>\n",
       "      <td>0.05</td>\n",
       "      <td>NaN</td>\n",
       "      <td>NaN</td>\n",
       "      <td>NaN</td>\n",
       "    </tr>\n",
       "  </tbody>\n",
       "</table>\n",
       "</div>"
      ],
      "text/plain": [
       "                                name platform year_of_release   genre  \\\n",
       "617   PES 2009: Pro Evolution Soccer      PS2          2008.0  Sports   \n",
       "783   PES 2009: Pro Evolution Soccer      PS3          2008.0  Sports   \n",
       "2068  PES 2009: Pro Evolution Soccer     X360          2008.0  Sports   \n",
       "2572  PES 2009: Pro Evolution Soccer      PSP          Soccer  Sports   \n",
       "4329  PES 2009: Pro Evolution Soccer      Wii          2009.0  Sports   \n",
       "\n",
       "      na_sales  eu_sales  jp_sales  other_sales  critic_score user_score  \\\n",
       "617       0.13      0.07      0.26         2.05           NaN        NaN   \n",
       "783       0.11      1.33      0.40         0.26           NaN        NaN   \n",
       "2068      0.13      0.76      0.03         0.09           NaN        NaN   \n",
       "2572      0.04      0.33      0.26         0.17           NaN        NaN   \n",
       "4329      0.09      0.26      0.05         0.05           NaN        NaN   \n",
       "\n",
       "     rating  \n",
       "617     NaN  \n",
       "783     NaN  \n",
       "2068    NaN  \n",
       "2572    NaN  \n",
       "4329    NaN  "
      ]
     },
     "execution_count": 18,
     "metadata": {},
     "output_type": "execute_result"
    }
   ],
   "source": [
    "df[df['name'] == 'PES 2009: Pro Evolution Soccer' ]"
   ],
   "metadata": {
    "collapsed": false
   }
  },
  {
   "cell_type": "markdown",
   "source": [
    "Т.к. на данном этапе без детального исследования не понятно, можно ли данные с пропусками удалить и какая причина пропуска или закономерность.<br>\n",
    "заменим пропуски года релиза игры на 0. А потом при необходимости заменим это значение или удалим строки с этим значением<br>"
   ],
   "metadata": {
    "collapsed": false
   }
  },
  {
   "cell_type": "code",
   "execution_count": 18,
   "metadata": {
    "collapsed": false
   },
   "outputs": [],
   "source": [
    "df['year_of_release'].fillna(0, inplace=True)\n",
    "# Преведём данные следующих столбцов к формату int\n",
    "df['year_of_release'] = df['year_of_release'].astype('int')"
   ]
  },
  {
   "cell_type": "code",
   "execution_count": null,
   "metadata": {
    "collapsed": false
   },
   "outputs": [],
   "source": []
  },
  {
   "cell_type": "code",
   "execution_count": null,
   "metadata": {},
   "outputs": [],
   "source": []
  },
  {
   "cell_type": "code",
   "execution_count": null,
   "metadata": {},
   "outputs": [],
   "source": []
  },
  {
   "cell_type": "code",
   "execution_count": null,
   "metadata": {},
   "outputs": [],
   "source": []
  },
  {
   "cell_type": "code",
   "execution_count": null,
   "metadata": {},
   "outputs": [],
   "source": []
  },
  {
   "cell_type": "code",
   "execution_count": null,
   "metadata": {},
   "outputs": [],
   "source": []
  },
  {
   "cell_type": "code",
   "execution_count": null,
   "metadata": {},
   "outputs": [],
   "source": []
  },
  {
   "cell_type": "code",
   "execution_count": 39,
   "metadata": {
    "collapsed": false
   },
   "outputs": [
    {
     "data": {
      "text/plain": [
       "2424"
      ]
     },
     "execution_count": 39,
     "metadata": {},
     "output_type": "execute_result"
    }
   ],
   "source": [
    "len(df[df['user_score'] == 'tbd'])"
   ]
  },
  {
   "cell_type": "code",
   "execution_count": null,
   "metadata": {
    "collapsed": false
   },
   "outputs": [],
   "source": [
    "# TBD - аббревиатура от английского To Be Determined (будет определено) или To Be Decided (будет решено). Используется, если какая-то информация еще не определена или решение по вопросу не принято. Акроним служит для отметки неясностей или пропусков, которые надо заполнить, в информации требований."
   ]
  },
  {
   "cell_type": "code",
   "execution_count": 47,
   "metadata": {
    "collapsed": false
   },
   "outputs": [],
   "source": [
    "df['user_score'] = df['user_score'].map(lambda  x: x.replace('tbd', 'NaN') if x=='tbd' else x)\n",
    "df['user_score'] = df['user_score'].astype('float')"
   ]
  },
  {
   "cell_type": "code",
   "execution_count": null,
   "metadata": {
    "collapsed": false
   },
   "outputs": [],
   "source": []
  },
  {
   "cell_type": "code",
   "execution_count": null,
   "metadata": {
    "collapsed": false
   },
   "outputs": [],
   "source": []
  }
 ],
 "metadata": {
  "kernelspec": {
   "display_name": "Python 3.10.7 64-bit",
   "language": "python",
   "name": "python3"
  },
  "language_info": {
   "codemirror_mode": {
    "name": "ipython",
    "version": 3
   },
   "file_extension": ".py",
   "mimetype": "text/x-python",
   "name": "python",
   "nbconvert_exporter": "python",
   "pygments_lexer": "ipython3",
   "version": "3.10.7"
  },
  "vscode": {
   "interpreter": {
    "hash": "72b29b1fb5de4e999a8bf33eded11e64d5666b7a56a3c0384f4de75bad8f812b"
   }
  }
 },
 "nbformat": 4,
 "nbformat_minor": 0
}
