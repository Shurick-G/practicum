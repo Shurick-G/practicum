{
 "cells":[
  {
   "cell_type":"markdown",
   "source":[
    "Александр, привет! Меня зовут Ирина Литвинова. Сегодня я проверю твой проект.<br>\n",
    "<br> Ты можешь обращаться ко мне на \"ты\"😏 Надеюсь, ты не будешь против, если и я буду обращаться к тебе на \"ты\". Но если для тебя это неприемлeмо, дай знать, пожалуйста) <br>\n",
    "<br> Мне очень важна твоя реакция на мои комментарии, особенно <font color='red'>красные<\/font>. Можешь реагировать, например, так ('исправлено', ...)<br>\n",
    "<br> Ты можешь реагировать на мои комментарии своими, выделяя их цветами и наиболее понравившимся тебе способом оформления, но явно  отличающимся от моих комментариев. <br>\n",
    "Это нужно, чтобы не создавалась путаница😉<br>\n",
    "Например, так:<br>\n",
    "    \n",
    "<div class=\"alert alert-block alert-info\"><b>Комментарий студента<\/b>\n",
    "    \n",
    "<b>Изменения:<\/b> Были внесены следующие изменения ...<br><\/div> \n",
    "\n",
    "\n",
    "<br> Пожалуйста, не удаляй мои комментарии, так как они повышают качество повторного ревью и делают его быстрее)<br>\n",
    "<br> Увидев у тебя неточность, в первый раз я лишь укажу на ее наличие и дам тебе возможность самостоятельно найти и исправить ее. На реальной работе твой руководитель будет поступать также, и я пытаюсь подготовить тебя именно к работе. Но если ты пока не справишься с такой задачей - при следующей проверке я дам более точную подсказку!🤓<br>\n",
    "\n",
    "Для твоего удобства мои комментарии будут в <font color='green'>зеленой<\/font>, <font color='orange'>желтой<\/font> или <font color='red'>красной<\/font> рамках:<br>\n",
    "<br>\n",
    "\n",
    "<div class=\"alert alert-block alert-danger\"><b>Комментарий ревьюера<\/b>\n",
    "    \n",
    "<b>Ошибка:<\/b><br>\n",
    "Если требуются исправления. Работа не может быть принята с красными комментариями.<br><\/div>\n",
    "\n",
    "<div class=\"alert alert-block alert-warning\"><b>Комментарий ревьюера<\/b>\n",
    "    \n",
    "<b>Совет:<\/b><br>\n",
    "Если можно немного улучшить.<br><\/div>\n",
    "\n",
    "<div class=\"alert alert-block alert-success\"><b>Комментарий ревьюера<\/b>\n",
    "    \n",
    "<b>Успех:<\/b><br>\n",
    "Если все сделано отлично.<br><\/div>   "
   ],
   "attachments":{
    
   },
   "metadata":{
    "datalore":{
     "node_id":"eNxD7ZNYCpFlWiNE9vckbJ",
     "type":"MD",
     "hide_input_from_viewers":false,
     "hide_output_from_viewers":false,
     "report_properties":{
      
     }
    }
   }
  },
  {
   "cell_type":"markdown",
   "source":[
    "# Выбор локации для скважины"
   ],
   "attachments":{
    
   },
   "metadata":{
    "datalore":{
     "node_id":"VBYbNxtcGCPr8CL9J3jwDa",
     "type":"MD",
     "hide_input_from_viewers":false,
     "hide_output_from_viewers":false,
     "report_properties":{
      "y":0
     }
    }
   }
  },
  {
   "cell_type":"markdown",
   "source":[
    "Допустим, вы работаете в добывающей компании «ГлавРосГосНефть». Нужно решить, где бурить новую скважину.\n",
    "\n",
    "Вам предоставлены пробы нефти в трёх регионах: в каждом 10 000 месторождений, где измерили качество нефти и объём её запасов. Постройте модель машинного обучения, которая поможет определить регион, где добыча принесёт наибольшую прибыль. Проанализируйте возможную прибыль и риски техникой *Bootstrap.*\n",
    "\n",
    "Шаги для выбора локации:\n",
    "\n",
    "- В избранном регионе ищут месторождения, для каждого определяют значения признаков;\n",
    "- Строят модель и оценивают объём запасов;\n",
    "- Выбирают месторождения с самым высокими оценками значений. Количество месторождений зависит от бюджета компании и стоимости разработки одной скважины;\n",
    "- Прибыль равна суммарной прибыли отобранных месторождений."
   ],
   "attachments":{
    
   },
   "metadata":{
    "datalore":{
     "node_id":"GZtEDkhXOUnB2Uy3YfmGnV",
     "type":"MD",
     "hide_input_from_viewers":false,
     "hide_output_from_viewers":false,
     "report_properties":{
      "y":4
     }
    }
   }
  },
  {
   "cell_type":"markdown",
   "source":[
    "<div class=\"alert alert-block alert-success\"><b>Комментарий ревьюера<\/b>\n",
    "    \n",
    "<b>Успех:<\/b><br>\n",
    "👍 Есть введение в проект. Отлично!<br>\n",
    "\n",
    "<\/div> "
   ],
   "attachments":{
    
   },
   "metadata":{
    "datalore":{
     "node_id":"KCiBxs6j64sMXVd4hUBWts",
     "type":"MD",
     "hide_input_from_viewers":false,
     "hide_output_from_viewers":false,
     "report_properties":{
      
     }
    }
   }
  },
  {
   "cell_type":"markdown",
   "source":[
    "## Импорты"
   ],
   "attachments":{
    
   },
   "metadata":{
    "datalore":{
     "node_id":"cy8LjTxVoT7r1d7hpQvpTp",
     "type":"MD",
     "hide_input_from_viewers":true,
     "hide_output_from_viewers":true,
     "report_properties":{
      
     }
    }
   }
  },
  {
   "cell_type":"code",
   "source":[
    "import pandas as pd\n",
    "import numpy as np\n",
    "import os\n",
    "\n",
    "from sklearn.model_selection import train_test_split\n",
    "from sklearn.preprocessing import MinMaxScaler\n",
    "from sklearn.metrics import mean_squared_error\n",
    "\n",
    "from sklearn.linear_model import LinearRegression"
   ],
   "execution_count":2,
   "outputs":[
    
   ],
   "metadata":{
    "datalore":{
     "node_id":"9xORnbn3APnkZcL2iTdtlG",
     "type":"CODE",
     "hide_input_from_viewers":true,
     "hide_output_from_viewers":true,
     "report_properties":{
      
     }
    }
   }
  },
  {
   "cell_type":"markdown",
   "source":[
    "<div class=\"alert alert-block alert-success\"><b>Комментарий ревьюера <\/b>\n",
    "    \n",
    "<b>Успех:<\/b><br>\n",
    "👍 Здорово, что импортируешь необходимые библиотеки в первой ячейке. Так сразу понятно какие используются библиотеки и можно легко настроить свое окружение при необходимости. \n",
    "<\/div> "
   ],
   "attachments":{
    
   },
   "metadata":{
    "datalore":{
     "node_id":"VVamMLXqdJl36iFwlJ0JyE",
     "type":"MD",
     "hide_input_from_viewers":false,
     "hide_output_from_viewers":false,
     "report_properties":{
      
     }
    }
   }
  },
  {
   "cell_type":"markdown",
   "source":[
    "## Загрузка и подготовка данных"
   ],
   "attachments":{
    
   },
   "metadata":{
    "datalore":{
     "node_id":"pGkv0bnOBO1psdRaqrh4sR",
     "type":"MD",
     "hide_input_from_viewers":false,
     "hide_output_from_viewers":false,
     "report_properties":{
      "y":12
     }
    }
   }
  },
  {
   "cell_type":"code",
   "source":[
    "files = os.listdir('datasets')"
   ],
   "execution_count":1,
   "outputs":[
    {
     "ename":"FileNotFoundError",
     "evalue":"FileNotFoundError: [Errno 2] No such file or directory: 'datasets'",
     "traceback":[
      "\u001b[0;31m---------------------------------------------------------------------------",
      "Traceback (most recent call last)",
      "    at line 1 in <module>",
      "FileNotFoundError: [Errno 2] No such file or directory: 'datasets'"
     ],
     "output_type":"error"
    }
   ],
   "metadata":{
    "datalore":{
     "node_id":"3daV69oDz9Zh49Ni6X8NpH",
     "type":"CODE",
     "hide_input_from_viewers":true,
     "hide_output_from_viewers":true,
     "report_properties":{
      
     }
    }
   }
  },
  {
   "cell_type":"markdown",
   "source":[
    "<div class=\"alert alert-block alert-danger\"><b>Комментарий ревьюера<\/b>\n",
    "    \n",
    "<b>Ошибка:<\/b><br>\n",
    "Александр, пожалуйста, перед отправкой проекта проверяй работоспособность кода - это можно сделать, нажав на панели Jupiter Hub 👉 **Kernel** 👉  **Restart & Run All** .<br> \n",
    "Потом обязательно сохрани. Для этого сделай так: 👉  **File**  👉   **Save and Checkpoint** .   \n",
    "Когда сохранишь, пожалуйста, проверь - обрати внимание на сообщение \"**Последняя контрольная точка: несколько секунд назад\n",
    "(автосохранение)**\" <br>  \n",
    "<\/div>"
   ],
   "attachments":{
    
   },
   "metadata":{
    "datalore":{
     "node_id":"VcxTLVSoI7p5gcREKzM5iK",
     "type":"MD",
     "hide_input_from_viewers":false,
     "hide_output_from_viewers":false,
     "report_properties":{
      
     }
    }
   }
  },
  {
   "cell_type":"markdown",
   "source":[
    "![2022-06-25_09-17-28.png](attachment:.\/2022-06-25_09-17-28.png)"
   ],
   "attachments":{
    ".\/2022-06-25_09-17-28.png":{
     "image\/png":"[encoded data removed]"
    }
   },
   "metadata":{
    "datalore":{
     "node_id":"iWjVVnJb0z21XirxONs1QL",
     "type":"MD",
     "hide_input_from_viewers":false,
     "hide_output_from_viewers":false,
     "report_properties":{
      
     }
    }
   }
  },
  {
   "cell_type":"markdown",
   "source":[
    "![2022-06-26_15-59-11.png](attachment:.\/2022-06-26_15-59-11.png)"
   ],
   "attachments":{
    ".\/2022-06-26_15-59-11.png":{
     "image\/png":"[encoded data removed]"
    }
   },
   "metadata":{
    "datalore":{
     "node_id":"EHqo1AdjbMEuruQo6fT8Ma",
     "type":"MD",
     "hide_input_from_viewers":false,
     "hide_output_from_viewers":false,
     "report_properties":{
      
     }
    }
   }
  },
  {
   "cell_type":"markdown",
   "source":[
    "Т.к. в процессе работы нам придеться проделывать одни и теже действия с тремя наборами данных (три региона). Постараемся не противоречить принчипу \"Don't repeat yourself\". Для этого надо или облорачивть повторяющиеся действия в функции или повторять их с помощью цикла. Я буду делать и то и другое, но больше пользоваться циклами.<br><br>\n",
    "А что бы не плодить большое количество переменных, содержащих рабочие объекты, будем складывать всё в одинн словарь.<br><br>\n",
    "Ключами словаря будут номера регионов, а одинаковые сущьности буду содержать одинаковые ключи (переменные). Это должнно упростить работу. <br>\n",
    "Возможно, это усложнит чтение кода, но чуствую – так будет правильнее. Заодно, поупражняюсь в работе со словарями.<br><br>"
   ],
   "attachments":{
    
   },
   "metadata":{
    "datalore":{
     "node_id":"vjpMyCnT4MpoGXvASDnZ82",
     "type":"MD",
     "hide_input_from_viewers":true,
     "hide_output_from_viewers":true,
     "report_properties":{
      
     }
    }
   }
  },
  {
   "cell_type":"markdown",
   "source":[
    "Создадим словарь. Ключами будут номера регионов, значения будут также словарям. В \"переменную\" data загрузим исходные данные каждого региона:"
   ],
   "attachments":{
    
   },
   "metadata":{
    "datalore":{
     "node_id":"COUz3LR3KiKQ7V7J4Co3ZR",
     "type":"MD",
     "hide_input_from_viewers":true,
     "hide_output_from_viewers":true,
     "report_properties":{
      
     }
    }
   }
  },
  {
   "cell_type":"code",
   "source":[
    "geos = {}\n",
    "for i in range(0, len(files)):\n",
    "    geos[f'{i}'] = {'data':pd.read_csv(f'datasets\/geo_data_{i}.csv')}"
   ],
   "execution_count":null,
   "outputs":[
    
   ],
   "metadata":{
    "datalore":{
     "node_id":"2RMwGOJCQ75IqVLGAfEZWE",
     "type":"CODE",
     "hide_input_from_viewers":true,
     "hide_output_from_viewers":true,
     "report_properties":{
      
     }
    }
   }
  },
  {
   "cell_type":"markdown",
   "source":[
    "Посмотрим, что получилось:"
   ],
   "attachments":{
    
   },
   "metadata":{
    "datalore":{
     "node_id":"u1vrpeqjxkS8lOm4D0VzYj",
     "type":"MD",
     "hide_input_from_viewers":true,
     "hide_output_from_viewers":true,
     "report_properties":{
      
     }
    }
   }
  },
  {
   "cell_type":"code",
   "source":[
    "geos"
   ],
   "execution_count":null,
   "outputs":[
    
   ],
   "metadata":{
    "datalore":{
     "node_id":"vPoAkW6clXztDAov7XrB32",
     "type":"CODE",
     "hide_input_from_viewers":true,
     "hide_output_from_viewers":true,
     "report_properties":{
      
     }
    }
   }
  },
  {
   "cell_type":"markdown",
   "source":[
    "Получилось всё как я хотел : )"
   ],
   "attachments":{
    
   },
   "metadata":{
    "datalore":{
     "node_id":"zGQg5I52Xs6ankcn1oXGHI",
     "type":"MD",
     "hide_input_from_viewers":true,
     "hide_output_from_viewers":true,
     "report_properties":{
      
     }
    }
   }
  },
  {
   "cell_type":"code",
   "source":[
    "geos['0']['data'].head(3)"
   ],
   "execution_count":null,
   "outputs":[
    
   ],
   "metadata":{
    "datalore":{
     "node_id":"N4wFgLNqGBuVwEwOyqiac8",
     "type":"CODE",
     "hide_input_from_viewers":true,
     "hide_output_from_viewers":true,
     "report_properties":{
      
     }
    }
   }
  },
  {
   "cell_type":"markdown",
   "source":[
    "На всякий случай, проверим дванные на наличие дубликатов:"
   ],
   "attachments":{
    
   },
   "metadata":{
    "datalore":{
     "node_id":"mp0kAiYxWTi1WjX3WqtduN",
     "type":"MD",
     "hide_input_from_viewers":true,
     "hide_output_from_viewers":true,
     "report_properties":{
      
     }
    }
   }
  },
  {
   "cell_type":"code",
   "source":[
    "for geo_name, geo in geos.items():\n",
    "    print(f\"geo_data_{geo_name} содержит {geo['data'].duplicated().sum()} дубликатов\")"
   ],
   "execution_count":null,
   "outputs":[
    
   ],
   "metadata":{
    "datalore":{
     "node_id":"6uP3VdeohtszQ9RSbVevD7",
     "type":"CODE",
     "hide_input_from_viewers":true,
     "hide_output_from_viewers":true,
     "report_properties":{
      
     }
    }
   }
  },
  {
   "cell_type":"markdown",
   "source":[
    "<div class=\"alert alert-block alert-warning\"><b>Комментарий ревьюера<\/b>\n",
    "    \n",
    "<b>Совет:<\/b><br>\n",
    "Александр,     \n",
    "* Чтобы лучше узнать данные, можно проверить дубликаты по `id`    \n",
    "* Посмотреть распределение признаков и целевой переменной для каждого региона, т.е. построить гистограмму.    \n",
    "* Еще важно уделять внимание мультиколлинеарности признаков в линейных моделях.<br>\n",
    "Мультиколлинеарность — явление, при котором наблюдается сильная корреляция между признаками, что может негативно отразиться на модели.<br>\n",
    "\n",
    "Рекомендую посмотреть отрывок из курса Статистики - [\"Корреляция и регрессия\".](https:\/\/stepik.org\/lesson\/8086\/step\/1?unit=1365) <br>\n",
    "Для удобной визуализации можно использовать - [\"Тепловая карта корреляции\".](https:\/\/www.delftstack.com\/ru\/howto\/seaborn\/correlation-heatplot-seaborn-python\/) <br>\n",
    "<\/div>"
   ],
   "attachments":{
    
   },
   "metadata":{
    "datalore":{
     "node_id":"01TbJYVv47iacGVnrRmpxj",
     "type":"MD",
     "hide_input_from_viewers":false,
     "hide_output_from_viewers":false,
     "report_properties":{
      
     }
    }
   }
  },
  {
   "cell_type":"markdown",
   "source":[
    "Для  разбивки признаков на обычные и целивые используем функцию из предыдущего проекта. Немного доработаем её,что бы она так же уберала не нужные для работы столбцы"
   ],
   "attachments":{
    
   },
   "metadata":{
    "datalore":{
     "node_id":"NkRIIUTrH0CeqNYlzP275R",
     "type":"MD",
     "hide_input_from_viewers":true,
     "hide_output_from_viewers":true,
     "report_properties":{
      
     }
    }
   }
  },
  {
   "cell_type":"code",
   "source":[
    "def split_sample(sample, drop_columns, target_column):\n",
    "    return sample.drop(drop_columns, axis=1), sample[target_column]"
   ],
   "execution_count":null,
   "outputs":[
    
   ],
   "metadata":{
    "datalore":{
     "node_id":"uzfYEZdYFF7Hey8putLyrB",
     "type":"CODE",
     "hide_input_from_viewers":true,
     "hide_output_from_viewers":true,
     "report_properties":{
      
     }
    }
   }
  },
  {
   "cell_type":"markdown",
   "source":[
    "В следующем шаге в цикле для всех тёх регионов совершим следующие действия:<br> \n",
    "<ol>\n",
    "    <li>Разобъём данные на обучающую и валидационную выборки в соотношении 75:25<\/li>\n",
    "    <li>Применим к полусенным выборкам описанную выше функцию для разделения признаков<\/li>\n",
    "    <li>Проведем стандартизацию данных методом MinMaxScaler<\/li>\n",
    "<\/ol><br>\n",
    "Полученные объекты будем сохранять в соответствуеющие разделы словаря:"
   ],
   "attachments":{
    
   },
   "metadata":{
    "datalore":{
     "node_id":"nVcyXzaFORHPESXKvIHVDJ",
     "type":"MD",
     "hide_input_from_viewers":true,
     "hide_output_from_viewers":true,
     "report_properties":{
      
     }
    }
   }
  },
  {
   "cell_type":"code",
   "source":[
    "scaler = MinMaxScaler()\n",
    "\n",
    "for geo in geos.values():\n",
    "    # Деление выборки на обучающую и авлидационную\n",
    "    # В каждой итерации переменнные перезапишутся\n",
    "    train, valid = train_test_split(geo['data'], test_size=0.75, random_state=12345) \n",
    "    # Выделим из полученных выборок обучающие признаки и целевой.\n",
    "    # Сразу \"складируем\" их в нужные места:\n",
    "    geo['samples'] = {\n",
    "        'train':{'feature':split_sample(train, ['id', 'product'], 'product')[0],\n",
    "                 'target': split_sample(train, ['id', 'product'], 'product')[1]\n",
    "        },\n",
    "        'valid':{'feature':split_sample(valid, ['id', 'product'], 'product')[0],\n",
    "                 'target': split_sample(valid, ['id', 'product'], 'product')[1]\n",
    "        },\n",
    "        # Для прогнозирования объёма запасов скажин (только feature)\n",
    "        'all':split_sample(geo['data'], ['id', 'product'], 'product')[0] \n",
    "    }\n",
    "    \n",
    "    # Подготовим scaler для стандартизации:\n",
    "    scaler.fit(geo['samples']['train']['feature'])\n",
    "    # Проведем стандатизацию перезаписав признаки:\n",
    "    geo['samples']['train']['feature'] = scaler.transform(geo['samples']['train']['feature'])\n",
    "    geo['samples']['valid']['feature'] = scaler.transform(geo['samples']['valid']['feature'])"
   ],
   "execution_count":null,
   "outputs":[
    
   ],
   "metadata":{
    "datalore":{
     "node_id":"2fafUoL8nbdK00nA1X5UUX",
     "type":"CODE",
     "hide_input_from_viewers":false,
     "hide_output_from_viewers":false,
     "report_properties":{
      
     }
    }
   }
  },
  {
   "cell_type":"markdown",
   "source":[
    "<div class=\"alert alert-block alert-danger\"><b>Комментарий ревьюера<\/b>\n",
    "    \n",
    "<b>Ошибка:<\/b><br>\n",
    "Саша, надо разбить данные на обучающую и валидационную выборки в соотношении 75:25, т.е. валид.выборка - 25%. Поэтому `test_size` должен быть равен `0.25`\n",
    "<\/div>"
   ],
   "attachments":{
    
   },
   "metadata":{
    "datalore":{
     "node_id":"SgPomUM9KwQ9QYm9BH5fb5",
     "type":"MD",
     "hide_input_from_viewers":false,
     "hide_output_from_viewers":false,
     "report_properties":{
      
     }
    }
   }
  },
  {
   "cell_type":"markdown",
   "source":[
    "## Обучение и проверка модели"
   ],
   "attachments":{
    
   },
   "metadata":{
    "datalore":{
     "node_id":"5mGEJ4T9QiGGLHClD0i6L3",
     "type":"MD",
     "hide_input_from_viewers":false,
     "hide_output_from_viewers":false,
     "report_properties":{
      "y":15
     }
    }
   }
  },
  {
   "cell_type":"markdown",
   "source":[
    "В следующем шаге в цикле для всех тёх регионов совершим следующие действия:<br> \n",
    "<ol>\n",
    "    <li>Обучим три модели на данных каждого региона отдельно<\/li>\n",
    "    <li>Сделаем предсказания на валидационных выборках регионов<\/li>\n",
    "    <li>Сохраним предсказаения для каждого региона в соответствующих разделах словаря<\/li>\n",
    "    <li>Расчитаем и сохраним MSE каждой модели<\/li>\n",
    "    <li>Выведим на экран средний запас предсказанного сырья и RMSE моделей.<\/li>\n",
    "<\/ol><br>"
   ],
   "attachments":{
    
   },
   "metadata":{
    "datalore":{
     "node_id":"UzTci7sl5sJ8cjoeoTI26c",
     "type":"MD",
     "hide_input_from_viewers":true,
     "hide_output_from_viewers":true,
     "report_properties":{
      
     }
    }
   }
  },
  {
   "cell_type":"code",
   "source":[
    "for geo_name, geo in geos.items():\n",
    "    # Обучение модели \n",
    "    geo['model'] = LinearRegression()\n",
    "    geo['model'].fit(geo['samples']['train']['feature'], geo['samples']['train']['target'])\n",
    "    # Проверка\n",
    "    geo['predictions'] = geo['model'].predict(geo['samples']['valid']['feature'])\n",
    "    geo['mse'] = mean_squared_error(geo['samples']['valid']['target'], geo['predictions'])\n",
    "    \n",
    "    print(f\"\"\"Регион {geo_name}:\n",
    "    Средний запас предсказанного сырья {geo['predictions'].mean()}\n",
    "    MSE модели региона {geo['mse']**0.5}\"\"\")\n",
    "    print()"
   ],
   "execution_count":null,
   "outputs":[
    
   ],
   "metadata":{
    "datalore":{
     "node_id":"rnYnPUlxiQAshwluYBDTxj",
     "type":"CODE",
     "hide_input_from_viewers":true,
     "hide_output_from_viewers":true,
     "report_properties":{
      
     }
    }
   }
  },
  {
   "cell_type":"markdown",
   "source":[
    "<div class=\"alert alert-block alert-warning\"><b>Комментарий ревьюера<\/b>\n",
    "    \n",
    "<b>Совет:<\/b><br>\n",
    "Чем больше ошибка (RMSE), тем сильнее ошибается модель в предсказаниях. <br>  \n",
    "Здесь стоит обратить внимание на размер ошибки, в двух регионах она катастрофически большая - почти 40% от  среднего запаса. И только в одном регионе она минимальная. Если посмотреть корреляцию между признаками и целевой переменной, можно понять почему в одном из регионов ошибка значительно меньше:)<br>\n",
    "<br>    \n",
    "Т.к. средний запас в каждом регионе ниже объема безубыточности и при выборе скважин опираемся на предсказания, то качество предсказания имеет огромное значение - важно определить скважины с максимальным запасом.   \n",
    "    \n",
    "<\/div>  "
   ],
   "attachments":{
    
   },
   "metadata":{
    "datalore":{
     "node_id":"5KtWB48IsCmkIe1RkD1BcY",
     "type":"MD",
     "hide_input_from_viewers":false,
     "hide_output_from_viewers":false,
     "report_properties":{
      
     }
    }
   }
  },
  {
   "cell_type":"markdown",
   "source":[
    "## Подготовка к расчёту прибыли"
   ],
   "attachments":{
    
   },
   "metadata":{
    "datalore":{
     "node_id":"96OJ44t4fwPJlgXBnGoSsB",
     "type":"MD",
     "hide_input_from_viewers":false,
     "hide_output_from_viewers":false,
     "report_properties":{
      "y":18
     }
    }
   }
  },
  {
   "cell_type":"markdown",
   "source":[
    "Все ключевые значения для расчётов сохраним в отдельных переменных.<br> \n",
    "Для дальнейшего использования переведем все денежные значения к измерению в тысяах, а соответствующим переменным добваим суффикс \"_ths\" (thousands)"
   ],
   "attachments":{
    
   },
   "metadata":{
    "datalore":{
     "node_id":"ZtrUPtfySGAdnEHsodkeia",
     "type":"MD",
     "hide_input_from_viewers":true,
     "hide_output_from_viewers":true,
     "report_properties":{
      
     }
    }
   }
  },
  {
   "cell_type":"code",
   "source":[
    "region_budget_mlr = 10 # Бюджет на разработку скважин в регионе в миллиарадах\n",
    "product_price_ths = 450 # Доход с каждой единицы продукта в тысячах (thousands)\n",
    "\n",
    "# Переведём бюджет на разработку в тысячи:\n",
    "region_budget_ths = 10 * 1000000000 \/ 1000 # thousands\n",
    "\n",
    "# Минимально допустимая вероятность убытков\n",
    "min_loss_prob = 0.025\n",
    "\n",
    "# по условию задачи в каждом регионе будут разрабаотывать 200 лучших скажин\n",
    "# сохраним это число:\n",
    "n_top = 200"
   ],
   "execution_count":null,
   "outputs":[
    
   ],
   "metadata":{
    "datalore":{
     "node_id":"f6LprXvCbiBWoglRxT1g13",
     "type":"CODE",
     "hide_input_from_viewers":false,
     "hide_output_from_viewers":false,
     "report_properties":{
      
     }
    }
   }
  },
  {
   "cell_type":"markdown",
   "source":[
    "<div class=\"alert alert-block alert-warning\"><b>Комментарий ревьюера<\/b>\n",
    "    \n",
    "<b>Совет:<\/b><br>\n",
    "* Согласно руководству по написанию кода на Python [PEP-8](https:\/\/pythonworld.ru\/osnovy\/pep-8-rukovodstvo-po-napisaniyu-koda-na-python.html#section-29) названия констант принято задавать заглавными буквами, например, `BUDGET`. А еще важно объявлять их в начале проекта после импортов, затем загрузка данных. Так проще будет их найти и изменить, если возникнет такая необходимость.\n",
    "* Для записи больших чисел и более удобного чтения, чтобы не запутаться в нулях, можно использовать такую запись: `10_000_000_000` или `10e9`, что означает 10 * 10**9.    \n",
    "<\/div>"
   ],
   "attachments":{
    
   },
   "metadata":{
    "datalore":{
     "node_id":"N3yP7kkvSGuqSRp8IhFACk",
     "type":"MD",
     "hide_input_from_viewers":false,
     "hide_output_from_viewers":false,
     "report_properties":{
      
     }
    }
   }
  },
  {
   "cell_type":"code",
   "source":[
    "region_budget_ths"
   ],
   "execution_count":null,
   "outputs":[
    
   ],
   "metadata":{
    "datalore":{
     "node_id":"rcBbZkHn1jkvbO7AVi9Clb",
     "type":"CODE",
     "hide_input_from_viewers":true,
     "hide_output_from_viewers":true,
     "report_properties":{
      
     }
    }
   }
  },
  {
   "cell_type":"markdown",
   "source":[
    "Рассчитайте достаточный объём сырья для безубыточной разработки новой скважины:"
   ],
   "attachments":{
    
   },
   "metadata":{
    "datalore":{
     "node_id":"9BVzkALzelEIn9lhO39C0l",
     "type":"MD",
     "hide_input_from_viewers":true,
     "hide_output_from_viewers":true,
     "report_properties":{
      
     }
    }
   }
  },
  {
   "cell_type":"code",
   "source":[
    "breakeven_volume = region_budget_ths \/ (n_top * product_price_ths)"
   ],
   "execution_count":null,
   "outputs":[
    
   ],
   "metadata":{
    "datalore":{
     "node_id":"oTgf18XmNDnW1UGXIDjg6P",
     "type":"CODE",
     "hide_input_from_viewers":true,
     "hide_output_from_viewers":true,
     "report_properties":{
      
     }
    }
   }
  },
  {
   "cell_type":"markdown",
   "source":[
    "Что бы разработка скважены не была убыточной, запас сырье вней должен быть не меньше чем:"
   ],
   "attachments":{
    
   },
   "metadata":{
    "datalore":{
     "node_id":"XaH9HA6kaA2oZfXJXlIbkB",
     "type":"MD",
     "hide_input_from_viewers":true,
     "hide_output_from_viewers":true,
     "report_properties":{
      
     }
    }
   }
  },
  {
   "cell_type":"code",
   "source":[
    " print(\"{:.2f} тыс.ед.\".format(breakeven_volume))"
   ],
   "execution_count":null,
   "outputs":[
    
   ],
   "metadata":{
    "datalore":{
     "node_id":"m1nsiRzmzfxSqBdk74yEcz",
     "type":"CODE",
     "hide_input_from_viewers":true,
     "hide_output_from_viewers":true,
     "report_properties":{
      
     }
    }
   }
  },
  {
   "cell_type":"markdown",
   "source":[
    "<div class=\"alert alert-block alert-success\"><b>Комментарий ревьюера <\/b>\n",
    "    \n",
    "<b>Успех:<\/b><br>\n",
    "👍 Достаточный объём сырья для безубыточной разработки новой скважины рассчитан верно.\n",
    "<\/div>"
   ],
   "attachments":{
    
   },
   "metadata":{
    "datalore":{
     "node_id":"iIH5hAHfQmooPOrCe1373W",
     "type":"MD",
     "hide_input_from_viewers":false,
     "hide_output_from_viewers":false,
     "report_properties":{
      
     }
    }
   }
  },
  {
   "cell_type":"markdown",
   "source":[
    "Сравним полученный объём сырья со средним запасом в каждом регионе:"
   ],
   "attachments":{
    
   },
   "metadata":{
    "datalore":{
     "node_id":"ftqqbjGuhZeTTwgqiFIwVg",
     "type":"MD",
     "hide_input_from_viewers":true,
     "hide_output_from_viewers":true,
     "report_properties":{
      
     }
    }
   }
  },
  {
   "cell_type":"code",
   "source":[
    "for geo_name, geo in geos.items():\n",
    "    diff = geo['predictions'].mean() - breakeven_volume\n",
    "    if diff < 0:\n",
    "        print(f\"В регионе № {geo_name} разработка с большой вероятностью будет убыточна, но надо детально изучить риски.\")\n",
    "    else:\n",
    "        print(f\"В регионе № {geo_name} разработка с большой вероятностью не будет убыточной, но надо детально изучить риски.\")"
   ],
   "execution_count":null,
   "outputs":[
    
   ],
   "metadata":{
    "datalore":{
     "node_id":"TAHNAqrH4UWDm5wjJVVN7r",
     "type":"CODE",
     "hide_input_from_viewers":true,
     "hide_output_from_viewers":true,
     "report_properties":{
      
     }
    }
   }
  },
  {
   "cell_type":"markdown",
   "source":[
    "### Вывод:<br>\n",
    "<u>                       <\/u>"
   ],
   "attachments":{
    
   },
   "metadata":{
    "datalore":{
     "node_id":"XOVeSUIKIhjFZzdMMGObMJ",
     "type":"MD",
     "hide_input_from_viewers":true,
     "hide_output_from_viewers":true,
     "report_properties":{
      
     }
    }
   }
  },
  {
   "cell_type":"markdown",
   "source":[
    "По предварительным расчетам во всех трёх регионах разработка, с большой вероятностью будет убыточной.<br>\n",
    "Но надо просчитать риски статистически"
   ],
   "attachments":{
    
   },
   "metadata":{
    "datalore":{
     "node_id":"4EeXrZcL8ra0Ct5YkCD00u",
     "type":"MD",
     "hide_input_from_viewers":true,
     "hide_output_from_viewers":true,
     "report_properties":{
      
     }
    }
   }
  },
  {
   "cell_type":"markdown",
   "source":[
    "<div class=\"alert alert-block alert-warning\"><b>Комментарий ревьюера<\/b>\n",
    "    \n",
    "<b>Совет:<\/b><br>\n",
    "Корректнее объём сырья для безубыточной разработки скважины сравнивать со средним реальным запасом продукта во всем регионе, а не с предсказанными значениями) Но результаты будут совпадать:)\n",
    "<\/div>"
   ],
   "attachments":{
    
   },
   "metadata":{
    "datalore":{
     "node_id":"NoqU2MUCZiZ6i5HpjA5HcW",
     "type":"MD",
     "hide_input_from_viewers":false,
     "hide_output_from_viewers":false,
     "report_properties":{
      
     }
    }
   }
  },
  {
   "cell_type":"markdown",
   "source":[
    "<div class=\"alert alert-block alert-success\"><b>Комментарий ревьюера <\/b><br>\n",
    "    \n",
    "В каждом регионе средний объем сырья меньше достаточного объёма для безубыточности и при выборе скважин опираемся на предсказания, поэтому точность прогноза имеет большое значение и без модели нам не обойтись.  <br>   \n",
    "\n",
    "Есть 25 000 точек, из которых в результате надо выбрать 200. В результате,  среди этих скважин могут быть скважины с достаточным и недостаточным запасом сырья. <br>\n",
    "    \n",
    "Имеено техника \"Bootstrap\" опираясь на предсказания позволяет оценить риск убытков при случайным отборе 500 точек. 1000 раз отбирая случайным образом точки, считаем какой % случаев принесет убытки. \n",
    "    \n",
    "   \n",
    "<\/div>"
   ],
   "attachments":{
    
   },
   "metadata":{
    "datalore":{
     "node_id":"W4BKWKahThqF8RWG6L2Xhn",
     "type":"MD",
     "hide_input_from_viewers":false,
     "hide_output_from_viewers":false,
     "report_properties":{
      
     }
    }
   }
  },
  {
   "cell_type":"markdown",
   "source":[
    "Выберим скважины с максимальными значениями предсказаний:"
   ],
   "attachments":{
    
   },
   "metadata":{
    "datalore":{
     "node_id":"iJy1B2wyHgTYOJKKdqt9Jj",
     "type":"MD",
     "hide_input_from_viewers":true,
     "hide_output_from_viewers":true,
     "report_properties":{
      
     }
    }
   }
  },
  {
   "cell_type":"markdown",
   "source":[
    "## Расчёт прибыли и рисков "
   ],
   "attachments":{
    
   },
   "metadata":{
    "datalore":{
     "node_id":"3tdkETJkXUlTvX5elsIXS4",
     "type":"MD",
     "hide_input_from_viewers":false,
     "hide_output_from_viewers":false,
     "report_properties":{
      "y":21
     }
    }
   }
  },
  {
   "cell_type":"markdown",
   "source":[
    " Написание функции для расчета прибыли:"
   ],
   "attachments":{
    
   },
   "metadata":{
    "datalore":{
     "node_id":"8xReFHvtsnUevOym7pGDFn",
     "type":"MD",
     "hide_input_from_viewers":true,
     "hide_output_from_viewers":true,
     "report_properties":{
      
     }
    }
   }
  },
  {
   "cell_type":"code",
   "source":[
    "def calculat_profit_ths(predictions, \n",
    "                    f_region_budget_ths=region_budget_ths, \n",
    "                    f_product_price_ths=product_price_ths, f_n_top=n_top):\n",
    "                    # Префиск f в параметраф функции, означает, что это параметр функции, \n",
    "                    # а не глобальная перменная \n",
    "    \n",
    "    predictions[::-1].sort()\n",
    "    top = predictions[:f_n_top]\n",
    "\n",
    "    return (top.sum() * f_product_price_ths) - f_region_budget_ths"
   ],
   "execution_count":null,
   "outputs":[
    
   ],
   "metadata":{
    "datalore":{
     "node_id":"Z9g5I3yzfSPJDqwmnQZZTD",
     "type":"CODE",
     "hide_input_from_viewers":true,
     "hide_output_from_viewers":true,
     "report_properties":{
      
     }
    }
   }
  },
  {
   "cell_type":"markdown",
   "source":[
    "<div class=\"alert alert-block alert-warning\"><b>Комментарий ревьюера<\/b>\n",
    "    \n",
    "<b>Совет:<\/b><br>\n",
    "Для дальнейших расчетов необходимо использовать предсказания и таргет для валид выборки: `target_valid`, `predictions_valid` для каждого региона (они у тебя уже есть). <br>\n",
    "    \n",
    "Можно, например, создать датафрейм с `target_valid`, `predictions_valid` для каждого региона и подавать в `bootstrap`\n",
    "```python    \n",
    "data_0= pd.DataFrame(target_valid)   \n",
    "data_0['предсказания'] = predictions_valid   \n",
    "```  \n",
    "Так сделать для каждого региона.    \n",
    "    \n",
    "<\/div>  "
   ],
   "attachments":{
    
   },
   "metadata":{
    "datalore":{
     "node_id":"JKtlfEIvndopm83OY5MIYt",
     "type":"MD",
     "hide_input_from_viewers":false,
     "hide_output_from_viewers":false,
     "report_properties":{
      
     }
    }
   }
  },
  {
   "cell_type":"markdown",
   "source":[
    "<div class=\"alert alert-block alert-danger\"><b>Комментарий ревьюера<\/b>\n",
    "    \n",
    "<b>Ошибка:<\/b><br>\n",
    "Функцию прибыли надо скорректировать.<br>\n",
    "* Сортируем датасет по предсказаниям по убыванию\n",
    "* Оставляем первые 200 реальных значений продукта\n",
    "* Суммируем получившиеся таргеты, умножаем на цену и отнимаем расходы.      \n",
    "<br>\n",
    "Функция может выглядеть так, например:\n",
    "    \n",
    "```python \n",
    "''' в функцию попадают 500 случайных значений из датасета, к-й содержит предсказания и таргет_валид'''    \n",
    "def calculat_profit_ths(датасет):\n",
    "    ''' сортируем по предсказаниям'''\n",
    "    датасет_sorted = датасет.sort_values(by = 'предсказания', ascending=False)\n",
    "    ''' берем первые 200 реальных значений продукта'''    \n",
    "    target_sorted = датасет_sorted['таргет_валид'][:200]\n",
    "    \n",
    "    product = target_sorted.sum()\n",
    "    return product * цена - расходы       \n",
    "```    \n",
    "Для цены, расходов и 200 точек надо использовать константы \n",
    "<\/div>"
   ],
   "attachments":{
    
   },
   "metadata":{
    "datalore":{
     "node_id":"mOfG3j6lwMASRtxxOP4ZQq",
     "type":"MD",
     "hide_input_from_viewers":false,
     "hide_output_from_viewers":false,
     "report_properties":{
      
     }
    }
   }
  },
  {
   "cell_type":"markdown",
   "source":[
    "Тестируем функцию:"
   ],
   "attachments":{
    
   },
   "metadata":{
    "datalore":{
     "node_id":"bFZcNyMzg3SYIOEDeJIdS6",
     "type":"MD",
     "hide_input_from_viewers":true,
     "hide_output_from_viewers":true,
     "report_properties":{
      
     }
    }
   }
  },
  {
   "cell_type":"code",
   "source":[
    "calculat_profit_ths(geos['0']['predictions'])"
   ],
   "execution_count":null,
   "outputs":[
    
   ],
   "metadata":{
    "datalore":{
     "node_id":"Mu9kinMUpoNK36ixkbiqFk",
     "type":"CODE",
     "hide_input_from_viewers":true,
     "hide_output_from_viewers":true,
     "report_properties":{
      
     }
    }
   }
  },
  {
   "cell_type":"markdown",
   "source":[
    "Работает адекватно. И более того, мы видим, что если из числа намеченных скважен разработать 200 лучших, такая разрботка будет прибыльна"
   ],
   "attachments":{
    
   },
   "metadata":{
    "datalore":{
     "node_id":"VL439iZweIE4WKNV9cxEPT",
     "type":"MD",
     "hide_input_from_viewers":true,
     "hide_output_from_viewers":true,
     "report_properties":{
      
     }
    }
   }
  },
  {
   "cell_type":"code",
   "source":[
    "sample_n = 200\n",
    "\n",
    "for geo_name, geo in geos.items():\n",
    "    # noinspection PyRedeclaration\n",
    "    bootstraped_profit_sample = []\n",
    "    for i in range(1000):\n",
    "        np.random.shuffle(geo['predictions'])\n",
    "        predictions_subsample = geo['predictions'][:sample_n]\n",
    "        bootstraped_profit_sample.append(calculat_profit_ths(predictions_subsample, f_n_top=sample_n))\n",
    "    bootstraped_profit_sample = pd.Series(bootstraped_profit_sample)\n",
    "    \n",
    "    geo['predicted_profit'] = {}\n",
    "    geo['predicted_profit']['mean']  = bootstraped_profit_sample.mean()\n",
    "    geo['predicted_profit']['lower'] = bootstraped_profit_sample.quantile(0.025)\n",
    "    geo['predicted_profit']['upper'] = bootstraped_profit_sample.quantile(0.975)\n",
    "    geo['predicted_profit']['risk']  = (bootstraped_profit_sample < 0).mean()\n",
    "    geo['predicted_profit']['top_200'] = calculat_profit_ths(geo['predictions'])"
   ],
   "execution_count":null,
   "outputs":[
    
   ],
   "metadata":{
    "datalore":{
     "node_id":"gurAHZZX52Kd2kqz6E6xHa",
     "type":"CODE",
     "hide_input_from_viewers":true,
     "hide_output_from_viewers":true,
     "report_properties":{
      
     }
    }
   }
  },
  {
   "cell_type":"markdown",
   "source":[
    "<div class=\"alert alert-block alert-danger\"><b>Комментарий ревьюера<\/b>\n",
    "    \n",
    "<b>Ошибка:<\/b><br>\n",
    "Применение Bootstrap тоже надо скорректировать)<br>\n",
    "\n",
    "```python  \n",
    "...  \n",
    "bootstraped_profit_sample = [] \n",
    "state = np.random.RandomState(12345)    \n",
    "for i in range(1000):\n",
    "    ''' нам надо выбрать 500 случайных значений из датасета, к-й содержит предсказания и таргет_валид'''\n",
    "    data_500 = data_0.sample(500, replace=True, random_state=state)    \n",
    "    bootstraped_profit_sample.append(функция_прибыли(data_500)) \n",
    "''' получили 1000 значений прибыли'''\n",
    "  \n",
    "    ...\n",
    "```    \n",
    "   \n",
    "<\/div>"
   ],
   "attachments":{
    
   },
   "metadata":{
    "datalore":{
     "node_id":"wZXf3jDhDIueVSLjLkwMva",
     "type":"MD",
     "hide_input_from_viewers":false,
     "hide_output_from_viewers":false,
     "report_properties":{
      
     }
    }
   }
  },
  {
   "cell_type":"markdown",
   "source":[
    "<div class=\"alert alert-block alert-success\"><b>Комментарий ревьюера<\/b><br>\n",
    "    \n",
    "Напомню почему при семплировании данных лучше устанавливать `replace = True`. Это необходимо чтобы наблюдение в выборку попало несколько раз, что позволяет добиться независимости при каждом выборе, иначе вероятность достать элемент из выборки будет с каждым разом увеличиваться. Чем больше размер подвыборки, тем выраженнее будет зависимость, поэтому без возврата не удастся получить разнообразные варианты, а подвыборку бОльшего размера вообще не получить.\n",
    "\n",
    "Почему именно так. Вспомним, что выборка - это некоторое представление о генеральной совокупности, ее часть. Значит, что где-то в регионе существуют и другие потенциальные точки добычи нефти, о которых мы можем не знать, но они являются частью этой генеральной совокупности. В этом случае повторяющиеся наблюдения можно считать разными точками добычи из всей генеральной совокупности с близкими характеристиками.\n",
    "    \n",
    "<\/div>  "
   ],
   "attachments":{
    
   },
   "metadata":{
    "datalore":{
     "node_id":"VBuAMvg6fx7hPF0rHv4s8M",
     "type":"MD",
     "hide_input_from_viewers":false,
     "hide_output_from_viewers":false,
     "report_properties":{
      
     }
    }
   }
  },
  {
   "cell_type":"markdown",
   "source":[
    "<div class=\"alert alert-block alert-success\"><b>Комментарий ревьюера<\/b>\n",
    "    \n",
    "<b>Успех:<\/b><br>\n",
    "    👍 Расчет средней прибыли `['mean']`, квантилей `['lower']\/['upper']` и риска убытков `['risk']` верный!)   \n",
    "<\/div>  "
   ],
   "attachments":{
    
   },
   "metadata":{
    "datalore":{
     "node_id":"y0aOAK9lw6RAK3P1PHyfZ9",
     "type":"MD",
     "hide_input_from_viewers":false,
     "hide_output_from_viewers":false,
     "report_properties":{
      
     }
    }
   }
  },
  {
   "cell_type":"code",
   "source":[
    "for geo_name, geo in geos.items():\n",
    "    print(f\"Регион № {geo_name}:\")\n",
    "    print(f\"Средняя прибыль:{geo['predicted_profit']['mean']:.2f}\")\n",
    "    print(f\"Доверительный интервал(95%): {geo['predicted_profit']['lower']:.2f} : {geo['predicted_profit']['upper']:.2f}\")\n",
    "    print(f\"Риск разработки: {geo['predicted_profit']['risk'] * 100} %\")\n",
    "    print(f\"Расчетная прибыль при разработки 200 лучших скважен: {geo['predicted_profit']['top_200']:.2f}\", )\n",
    "    print()"
   ],
   "execution_count":null,
   "outputs":[
    
   ],
   "metadata":{
    "datalore":{
     "node_id":"RRgJHzSgFPMtAGLg1UPXvk",
     "type":"CODE",
     "hide_input_from_viewers":true,
     "hide_output_from_viewers":true,
     "report_properties":{
      
     }
    }
   }
  },
  {
   "cell_type":"markdown",
   "source":[
    "### Вывод: "
   ],
   "attachments":{
    
   },
   "metadata":{
    "datalore":{
     "node_id":"7KLkZRmJY4C0aakXuwAkrR",
     "type":"MD",
     "hide_input_from_viewers":true,
     "hide_output_from_viewers":true,
     "report_properties":{
      
     }
    }
   }
  },
  {
   "cell_type":"markdown",
   "source":[
    "По поим расчетам, вероятность убытка каздого региона при разработке скважын \"случаным образом\" составляет 100%.\n",
    "Но при разработке 200 лучших место рожений каждый регион становиться прибыльным, причем наиболее прибыльным выглядит мпервый регион"
   ],
   "attachments":{
    
   },
   "metadata":{
    "datalore":{
     "node_id":"iaxbW3SvZCT8QDdXGZewIy",
     "type":"MD",
     "hide_input_from_viewers":true,
     "hide_output_from_viewers":true,
     "report_properties":{
      
     }
    }
   }
  },
  {
   "cell_type":"markdown",
   "source":[
    "<div class=\"alert alert-block alert-danger\"><b>Комментарий ревьюера<\/b>\n",
    "    \n",
    "<b>Ошибка:<\/b><br>\n",
    "Александр, после перерасчетов скорректируй, пожалуйста, итоговый вывод и выбери перспективный регион.\n",
    "   \n",
    "<\/div>"
   ],
   "attachments":{
    
   },
   "metadata":{
    "datalore":{
     "node_id":"NbvpwEr6Q57zBg9HXH19Rq",
     "type":"MD",
     "hide_input_from_viewers":false,
     "hide_output_from_viewers":false,
     "report_properties":{
      
     }
    }
   }
  },
  {
   "cell_type":"markdown",
   "source":[
    "<div style=\"background: #cceeaa; padding: 5px; border: 1px solid green; border-radius: 5px;\">\n",
    "<font color='green'> \n",
    "    <b><u>Общий вывод по проекту<\/u><\/b>\n",
    "<font color='green'><br> \n",
    "\n",
    "\n",
    "Александр, приложено много усилий, ты - молодец! Есть несколько важных моментов, которые я отметила и которые можно было бы улучшить, подсказки ты найдешь в моих комментариях. \n",
    "\n",
    "**Что мне особенно понравилось в твоей работе:**:\n",
    " \n",
    "\n",
    "* Рассчитан средний запас предсказанного сырья и размер ошибки для каждого региона.\n",
    "* Рассчитан достаточный объём сырья для безубыточной разработки новой скважины. \n",
    "* Есть расчет рисков, прибыли и доверительного интервала.   \n",
    "* Проект полностью соответствует плану!<br>\n",
    "\n",
    "\n",
    "**На что стоит обратить внимание**:\n",
    "    \n",
    "* Осталось совсем немного поправить, а именно: исправить ошибку в коде, скорректировать разделение на выборки, функцию прибыли, Bootstrap и итоговый вывод. Подсказки ты найдешь в моих комментариях.\n",
    "* Александр, в проекте ты уделяешь внимание словарям, у тебя неплохо получается работать с ними, но не забывай: код - инструмент, цель - выводы, постарайся формулировать их более развернуто))\n",
    "\n",
    "\n",
    "\n",
    "**Доработка займет у тебя совсем немного времени) Желаю удачи и жду твой проект на повторное ревью!**😉 "
   ],
   "attachments":{
    
   },
   "metadata":{
    "datalore":{
     "node_id":"LftJnjILosDZ5Qg5yFAYwc",
     "type":"MD",
     "hide_input_from_viewers":false,
     "hide_output_from_viewers":false,
     "report_properties":{
      
     }
    }
   }
  },
  {
   "cell_type":"markdown",
   "source":[
    "## Чек-лист готовности проекта"
   ],
   "attachments":{
    
   },
   "metadata":{
    "datalore":{
     "node_id":"agvuWUUT1kdIsGbPm0f5ib",
     "type":"MD",
     "hide_input_from_viewers":false,
     "hide_output_from_viewers":false,
     "report_properties":{
      "y":24
     }
    }
   }
  },
  {
   "cell_type":"markdown",
   "source":[
    "Поставьте 'x' в выполненных пунктах. Далее нажмите Shift+Enter."
   ],
   "attachments":{
    
   },
   "metadata":{
    "datalore":{
     "node_id":"3HfcetNFfOM46q2wsllbLz",
     "type":"MD",
     "hide_input_from_viewers":false,
     "hide_output_from_viewers":false,
     "report_properties":{
      "y":27
     }
    }
   }
  },
  {
   "cell_type":"markdown",
   "source":[
    "- [x]  Jupyter Notebook открыт\n",
    "- [ ]  Весь код выполняется без ошибок\n",
    "- [ ]  Ячейки с кодом расположены в порядке исполнения\n",
    "- [ ]  Выполнен шаг 1: данные подготовлены\n",
    "- [ ]  Выполнен шаг 2: модели обучены и проверены\n",
    "    - [ ]  Данные корректно разбиты на обучающую и валидационную выборки\n",
    "    - [ ]  Модели обучены, предсказания сделаны\n",
    "    - [ ]  Предсказания и правильные ответы на валидационной выборке сохранены\n",
    "    - [ ]  На экране напечатаны результаты\n",
    "    - [ ]  Сделаны выводы\n",
    "- [ ]  Выполнен шаг 3: проведена подготовка к расчёту прибыли\n",
    "    - [ ]  Для всех ключевых значений созданы константы Python\n",
    "    - [ ]  Посчитано минимальное среднее количество продукта в месторождениях региона, достаточное для разработки\n",
    "    - [ ]  По предыдущему пункту сделаны выводы\n",
    "    - [ ]  Написана функция расчёта прибыли\n",
    "- [ ]  Выполнен шаг 4: посчитаны риски и прибыль\n",
    "    - [ ]  Проведена процедура *Bootstrap*\n",
    "    - [ ]  Все параметры бутстрепа соответствуют условию\n",
    "    - [ ]  Найдены все нужные величины\n",
    "    - [ ]  Предложен регион для разработки месторождения\n",
    "    - [ ]  Выбор региона обоснован"
   ],
   "attachments":{
    
   },
   "metadata":{
    "datalore":{
     "node_id":"ga3g3jQijDA9srREhIJsFd",
     "type":"MD",
     "hide_input_from_viewers":false,
     "hide_output_from_viewers":false,
     "report_properties":{
      "y":30
     }
    }
   }
  },
  {
   "cell_type":"code",
   "source":[
    
   ],
   "execution_count":null,
   "outputs":[
    
   ],
   "metadata":{
    "datalore":{
     "node_id":"qvvJsNCL4P59GYlh02venL",
     "type":"CODE",
     "hide_input_from_viewers":false,
     "hide_output_from_viewers":false,
     "report_properties":{
      
     }
    }
   }
  }
 ],
 "metadata":{
  "kernelspec":{
   "display_name":"Python",
   "language":"python",
   "name":"python"
  },
  "datalore":{
   "version":1,
   "computation_mode":"JUPYTER",
   "package_manager":"pip",
   "base_environment":"default",
   "packages":[
    {
     "name":"practicum",
     "version":"main",
     "url":"https:\/\/github.com\/Shurick-G\/practicum@main",
     "source":"GIT"
    }
   ]
  }
 },
 "nbformat":4,
 "nbformat_minor":4
}