{
 "cells": [
  {
   "cell_type": "markdown",
   "metadata": {},
   "source": [
    "Привет, Александр!)\n",
    "<br> Меня зовут Дуолан 👋 Буду проверять твой проект. Давай вместе доведем его до идеала 😉\n",
    "<br> Дальнейшее общение будет происходить на «ты», если это не вызывает никаких проблем.\n",
    "<br> Желательно реагировать на каждый мой комментарий («исправил», «не понятно как исправить ошибку», ...)\n",
    "<br> Пожалуйста, не удаляй мои комментарии, они будут необходимы для повторного ревью.\n",
    "\n",
    "Комментарии будут в <font color='green'>зеленой</font>, <font color='blue'>синей</font> или <font color='red'>красной</font> рамках:\n",
    "\n",
    "<div class=\"alert alert-block alert-success\">\n",
    "<b>✔️ Успех:</b> Если все сделано отлично\n",
    "</div>\n",
    "\n",
    "<div class=\"alert alert-block alert-warning\">\n",
    "<b>⚠️ Совет:</b> Если можно немного улучшить\n",
    "</div>\n",
    "\n",
    "<div class=\"alert alert-block alert-danger\">\n",
    "<b>❌ Замечание:</b> Если требуются исправления\n",
    "</div>\n",
    "\n",
    "Работа не может быть принята с красными комментариями.\n",
    "\n",
    "-------------------\n",
    "\n",
    "Будет очень хорошо, если ты будешь помечать свои действия следующим образом:\n",
    "\n",
    "<div class=\"alert alert-block alert-info\">\n",
    "<b>Комментарий студента:</b> ...\n",
    "</div>\n",
    "\n",
    "<div class=\"alert alert-block alert-info\">\n",
    "<b>Изменения:</b> Были внесены следующие изменения ...\n",
    "</div>"
   ]
  },
  {
   "cell_type": "markdown",
   "metadata": {
    "toc": true
   },
   "source": [
    "<h1>Содержание<span class=\"tocSkip\"></span></h1>\n",
    "<div class=\"toc\"><ul class=\"toc-item\"><li><ul class=\"toc-item\"><li><span><a href=\"#Импорт-библиотек\" data-toc-modified-id=\"Импорт-библиотек-0.1\"><span class=\"toc-item-num\">0.1&nbsp;&nbsp;</span>Импорт библиотек</a></span></li></ul></li><li><span><a href=\"#Подготовка-данных\" data-toc-modified-id=\"Подготовка-данных-1\"><span class=\"toc-item-num\">1&nbsp;&nbsp;</span>Подготовка данных</a></span><ul class=\"toc-item\"><li><span><a href=\"#Стандартизация-(Масштабирование)\" data-toc-modified-id=\"Стандартизация-(Масштабирование)-1.1\"><span class=\"toc-item-num\">1.1&nbsp;&nbsp;</span>Стандартизация (Масштабирование)</a></span></li></ul></li><li><span><a href=\"#Исследование-задачи\" data-toc-modified-id=\"Исследование-задачи-2\"><span class=\"toc-item-num\">2&nbsp;&nbsp;</span>Исследование задачи</a></span><ul class=\"toc-item\"><li><span><a href=\"#Функции:\" data-toc-modified-id=\"Функции:-2.1\"><span class=\"toc-item-num\">2.1&nbsp;&nbsp;</span>Функции:</a></span></li><li><span><a href=\"#Логистическая-регресски\" data-toc-modified-id=\"Логистическая-регресски-2.2\"><span class=\"toc-item-num\">2.2&nbsp;&nbsp;</span>Логистическая регресски</a></span></li><li><span><a href=\"#Дерево-решений\" data-toc-modified-id=\"Дерево-решений-2.3\"><span class=\"toc-item-num\">2.3&nbsp;&nbsp;</span>Дерево решений</a></span></li><li><span><a href=\"#Случайный-лес\" data-toc-modified-id=\"Случайный-лес-2.4\"><span class=\"toc-item-num\">2.4&nbsp;&nbsp;</span>Случайный лес</a></span></li></ul></li><li><span><a href=\"#Борьба-с-дисбалансом\" data-toc-modified-id=\"Борьба-с-дисбалансом-3\"><span class=\"toc-item-num\">3&nbsp;&nbsp;</span>Борьба с дисбалансом</a></span><ul class=\"toc-item\"><li><span><a href=\"#Увеличение-выборки-и-уменьшение--сегментов-обучающей-выборки\" data-toc-modified-id=\"Увеличение-выборки-и-уменьшение--сегментов-обучающей-выборки-3.1\"><span class=\"toc-item-num\">3.1&nbsp;&nbsp;</span>Увеличение выборки и уменьшение  сегментов обучающей выборки</a></span></li><li><span><a href=\"#Для-дерева-решений\" data-toc-modified-id=\"Для-дерева-решений-3.2\"><span class=\"toc-item-num\">3.2&nbsp;&nbsp;</span>Для дерева решений</a></span></li><li><span><a href=\"#Для-случайного-леса\" data-toc-modified-id=\"Для-случайного-леса-3.3\"><span class=\"toc-item-num\">3.3&nbsp;&nbsp;</span>Для случайного леса</a></span></li></ul></li><li><span><a href=\"#Тестирование-модели\" data-toc-modified-id=\"Тестирование-модели-4\"><span class=\"toc-item-num\">4&nbsp;&nbsp;</span>Тестирование модели</a></span></li><li><span><a href=\"#Общий-вывод-проекта\" data-toc-modified-id=\"Общий-вывод-проекта-5\"><span class=\"toc-item-num\">5&nbsp;&nbsp;</span>Общий вывод проекта</a></span></li></ul></div>"
   ]
  },
  {
   "cell_type": "markdown",
   "metadata": {},
   "source": [
    "# Отток клиентов"
   ]
  },
  {
   "cell_type": "markdown",
   "metadata": {},
   "source": [
    "Из «Бета-Банка» стали уходить клиенты. Каждый месяц. Немного, но заметно. Банковские маркетологи посчитали: сохранять текущих клиентов дешевле, чем привлекать новых.\n",
    "\n",
    "Нужно спрогнозировать, уйдёт клиент из банка в ближайшее время или нет. Вам предоставлены исторические данные о поведении клиентов и расторжении договоров с банком. \n",
    "\n",
    "Постройте модель с предельно большим значением *F1*-меры. Чтобы сдать проект успешно, нужно довести метрику до 0.59. Проверьте *F1*-меру на тестовой выборке самостоятельно.\n",
    "\n",
    "Дополнительно измеряйте *AUC-ROC*, сравнивайте её значение с *F1*-мерой.\n",
    "\n",
    "Источник данных: [https://www.kaggle.com/barelydedicated/bank-customer-churn-modeling](https://www.kaggle.com/barelydedicated/bank-customer-churn-modeling)"
   ]
  },
  {
   "cell_type": "markdown",
   "metadata": {},
   "source": [
    "### Импорт библиотек"
   ]
  },
  {
   "cell_type": "code",
   "execution_count": 1,
   "metadata": {},
   "outputs": [],
   "source": [
    "import pandas as pd\n",
    "import numpy as np\n",
    "import matplotlib.pyplot as plt\n",
    "%matplotlib inline\n",
    "\n",
    "# Методы классификации:\n",
    "from sklearn.linear_model import LogisticRegression\n",
    "from sklearn.tree import DecisionTreeClassifier\n",
    "from sklearn.ensemble import RandomForestClassifier\n",
    "\n",
    "# Вспомогательные методы:\n",
    "from sklearn.preprocessing import StandardScaler\n",
    "from sklearn.model_selection import train_test_split\n",
    "from sklearn.utils import shuffle\n",
    "\n",
    "# Методы измерения метрик классифиукаци:\n",
    "from sklearn.metrics import accuracy_score\n",
    "from sklearn.metrics import recall_score \n",
    "from sklearn.metrics import precision_score\n",
    "from sklearn.metrics import roc_curve\n",
    "from sklearn.metrics import roc_auc_score \n",
    "from sklearn.metrics import precision_recall_curve\n",
    "from sklearn.metrics import f1_score\n",
    "\n",
    "import warnings\n",
    "warnings.filterwarnings(\"ignore\")"
   ]
  },
  {
   "cell_type": "markdown",
   "metadata": {},
   "source": [
    "<div class=\"alert alert-block alert-success\">\n",
    "<b>✔️ Успех:</b>\n",
    "\n",
    "Импорт выглядит отлично 👍\n",
    "</div>"
   ]
  },
  {
   "cell_type": "markdown",
   "metadata": {},
   "source": [
    "## Подготовка данных"
   ]
  },
  {
   "cell_type": "markdown",
   "metadata": {},
   "source": [
    "Загрузим данные"
   ]
  },
  {
   "cell_type": "code",
   "execution_count": 2,
   "metadata": {},
   "outputs": [],
   "source": [
    "df = pd.read_csv('/datasets/Churn.csv')"
   ]
  },
  {
   "cell_type": "markdown",
   "metadata": {},
   "source": [
    "Посмотреим на данные"
   ]
  },
  {
   "cell_type": "code",
   "execution_count": 3,
   "metadata": {},
   "outputs": [
    {
     "data": {
      "text/html": [
       "<div>\n",
       "<style scoped>\n",
       "    .dataframe tbody tr th:only-of-type {\n",
       "        vertical-align: middle;\n",
       "    }\n",
       "\n",
       "    .dataframe tbody tr th {\n",
       "        vertical-align: top;\n",
       "    }\n",
       "\n",
       "    .dataframe thead th {\n",
       "        text-align: right;\n",
       "    }\n",
       "</style>\n",
       "<table border=\"1\" class=\"dataframe\">\n",
       "  <thead>\n",
       "    <tr style=\"text-align: right;\">\n",
       "      <th></th>\n",
       "      <th>RowNumber</th>\n",
       "      <th>CustomerId</th>\n",
       "      <th>Surname</th>\n",
       "      <th>CreditScore</th>\n",
       "      <th>Geography</th>\n",
       "      <th>Gender</th>\n",
       "      <th>Age</th>\n",
       "      <th>Tenure</th>\n",
       "      <th>Balance</th>\n",
       "      <th>NumOfProducts</th>\n",
       "      <th>HasCrCard</th>\n",
       "      <th>IsActiveMember</th>\n",
       "      <th>EstimatedSalary</th>\n",
       "      <th>Exited</th>\n",
       "    </tr>\n",
       "  </thead>\n",
       "  <tbody>\n",
       "    <tr>\n",
       "      <th>0</th>\n",
       "      <td>1</td>\n",
       "      <td>15634602</td>\n",
       "      <td>Hargrave</td>\n",
       "      <td>619</td>\n",
       "      <td>France</td>\n",
       "      <td>Female</td>\n",
       "      <td>42</td>\n",
       "      <td>2.0</td>\n",
       "      <td>0.00</td>\n",
       "      <td>1</td>\n",
       "      <td>1</td>\n",
       "      <td>1</td>\n",
       "      <td>101348.88</td>\n",
       "      <td>1</td>\n",
       "    </tr>\n",
       "    <tr>\n",
       "      <th>1</th>\n",
       "      <td>2</td>\n",
       "      <td>15647311</td>\n",
       "      <td>Hill</td>\n",
       "      <td>608</td>\n",
       "      <td>Spain</td>\n",
       "      <td>Female</td>\n",
       "      <td>41</td>\n",
       "      <td>1.0</td>\n",
       "      <td>83807.86</td>\n",
       "      <td>1</td>\n",
       "      <td>0</td>\n",
       "      <td>1</td>\n",
       "      <td>112542.58</td>\n",
       "      <td>0</td>\n",
       "    </tr>\n",
       "    <tr>\n",
       "      <th>2</th>\n",
       "      <td>3</td>\n",
       "      <td>15619304</td>\n",
       "      <td>Onio</td>\n",
       "      <td>502</td>\n",
       "      <td>France</td>\n",
       "      <td>Female</td>\n",
       "      <td>42</td>\n",
       "      <td>8.0</td>\n",
       "      <td>159660.80</td>\n",
       "      <td>3</td>\n",
       "      <td>1</td>\n",
       "      <td>0</td>\n",
       "      <td>113931.57</td>\n",
       "      <td>1</td>\n",
       "    </tr>\n",
       "  </tbody>\n",
       "</table>\n",
       "</div>"
      ],
      "text/plain": [
       "   RowNumber  CustomerId   Surname  CreditScore Geography  Gender  Age  \\\n",
       "0          1    15634602  Hargrave          619    France  Female   42   \n",
       "1          2    15647311      Hill          608     Spain  Female   41   \n",
       "2          3    15619304      Onio          502    France  Female   42   \n",
       "\n",
       "   Tenure    Balance  NumOfProducts  HasCrCard  IsActiveMember  \\\n",
       "0     2.0       0.00              1          1               1   \n",
       "1     1.0   83807.86              1          0               1   \n",
       "2     8.0  159660.80              3          1               0   \n",
       "\n",
       "   EstimatedSalary  Exited  \n",
       "0        101348.88       1  \n",
       "1        112542.58       0  \n",
       "2        113931.57       1  "
      ]
     },
     "execution_count": 3,
     "metadata": {},
     "output_type": "execute_result"
    }
   ],
   "source": [
    "df.head(3)"
   ]
  },
  {
   "cell_type": "code",
   "execution_count": 4,
   "metadata": {},
   "outputs": [
    {
     "name": "stdout",
     "output_type": "stream",
     "text": [
      "<class 'pandas.core.frame.DataFrame'>\n",
      "RangeIndex: 10000 entries, 0 to 9999\n",
      "Data columns (total 14 columns):\n",
      " #   Column           Non-Null Count  Dtype  \n",
      "---  ------           --------------  -----  \n",
      " 0   RowNumber        10000 non-null  int64  \n",
      " 1   CustomerId       10000 non-null  int64  \n",
      " 2   Surname          10000 non-null  object \n",
      " 3   CreditScore      10000 non-null  int64  \n",
      " 4   Geography        10000 non-null  object \n",
      " 5   Gender           10000 non-null  object \n",
      " 6   Age              10000 non-null  int64  \n",
      " 7   Tenure           9091 non-null   float64\n",
      " 8   Balance          10000 non-null  float64\n",
      " 9   NumOfProducts    10000 non-null  int64  \n",
      " 10  HasCrCard        10000 non-null  int64  \n",
      " 11  IsActiveMember   10000 non-null  int64  \n",
      " 12  EstimatedSalary  10000 non-null  float64\n",
      " 13  Exited           10000 non-null  int64  \n",
      "dtypes: float64(3), int64(8), object(3)\n",
      "memory usage: 1.1+ MB\n"
     ]
    }
   ],
   "source": [
    "df.info()"
   ]
  },
  {
   "cell_type": "markdown",
   "metadata": {},
   "source": [
    "Данные уже представленны в нужных форматах.<br>\n",
    "Очевидно лишними для анализа являются следующие поля:\n",
    "<ul>\n",
    "    <li>RowNumber</li>\n",
    "    <li>CustomerId</li>\n",
    "</ul><br>\n",
    "Поле `Surname` – тоже, врдли будеи влиять на какие либо закономерности, но взгляним на его значения:\n"
   ]
  },
  {
   "cell_type": "code",
   "execution_count": 5,
   "metadata": {},
   "outputs": [
    {
     "data": {
      "text/plain": [
       "Smith       32\n",
       "Martin      29\n",
       "Scott       29\n",
       "Walker      28\n",
       "Brown       26\n",
       "            ..\n",
       "Lawless      1\n",
       "Knupp        1\n",
       "Muramats     1\n",
       "Verjus       1\n",
       "Reichard     1\n",
       "Name: Surname, Length: 2932, dtype: int64"
      ]
     },
     "execution_count": 5,
     "metadata": {},
     "output_type": "execute_result"
    }
   ],
   "source": [
    "df['Surname'].value_counts()"
   ]
  },
  {
   "cell_type": "code",
   "execution_count": 6,
   "metadata": {},
   "outputs": [
    {
     "data": {
      "text/plain": [
       "2932"
      ]
     },
     "execution_count": 6,
     "metadata": {},
     "output_type": "execute_result"
    }
   ],
   "source": [
    "df['Surname'].nunique()"
   ]
  },
  {
   "cell_type": "markdown",
   "metadata": {},
   "source": [
    "Некоторые фамилии повторяются, но во первых не думаю что от фамилии будет что-то зависить, а во вторых, уникальных значений слишком много и т.к. это категориальная переменная, их обраблотка сильно заттруднит анализ. Удалим эти поля:"
   ]
  },
  {
   "cell_type": "code",
   "execution_count": 7,
   "metadata": {},
   "outputs": [],
   "source": [
    "df = df.drop(['CustomerId', 'RowNumber', 'Surname'], axis=1)"
   ]
  },
  {
   "cell_type": "markdown",
   "metadata": {},
   "source": [
    "<div class=\"alert alert-block alert-success\">\n",
    "<b>✔️ Успех:</b>\n",
    "\n",
    "Удалить неинформативные признаки - хорошее решение 👍\n",
    "</div>"
   ]
  },
  {
   "cell_type": "markdown",
   "metadata": {},
   "source": [
    "Изучем поле/признак \"География\":"
   ]
  },
  {
   "cell_type": "code",
   "execution_count": 8,
   "metadata": {},
   "outputs": [
    {
     "data": {
      "text/plain": [
       "3"
      ]
     },
     "execution_count": 8,
     "metadata": {},
     "output_type": "execute_result"
    }
   ],
   "source": [
    "df['Geography'].nunique()"
   ]
  },
  {
   "cell_type": "code",
   "execution_count": 9,
   "metadata": {},
   "outputs": [
    {
     "data": {
      "text/plain": [
       "array(['France', 'Spain', 'Germany'], dtype=object)"
      ]
     },
     "execution_count": 9,
     "metadata": {},
     "output_type": "execute_result"
    }
   ],
   "source": [
    "df['Geography'].unique()"
   ]
  },
  {
   "cell_type": "markdown",
   "metadata": {},
   "source": [
    "Во первых уникальных значений всего 3, что делает опработку таких значений достаточно простой, а во вторых принадлежность клиента к той или иной стране, может существенно повлиять на его предпочтения. "
   ]
  },
  {
   "cell_type": "markdown",
   "metadata": {},
   "source": [
    "Изучем поле/признак \"Пол\":"
   ]
  },
  {
   "cell_type": "code",
   "execution_count": 10,
   "metadata": {},
   "outputs": [
    {
     "data": {
      "text/plain": [
       "array(['Female', 'Male'], dtype=object)"
      ]
     },
     "execution_count": 10,
     "metadata": {},
     "output_type": "execute_result"
    }
   ],
   "source": [
    "df['Gender'].unique()"
   ]
  },
  {
   "cell_type": "markdown",
   "metadata": {},
   "source": [
    "Два значения, видимо данные старые :) Пропусков нет, можно работать"
   ]
  },
  {
   "cell_type": "markdown",
   "metadata": {},
   "source": [
    "Изучим дата сет на наличие пропусков:"
   ]
  },
  {
   "cell_type": "code",
   "execution_count": 11,
   "metadata": {},
   "outputs": [
    {
     "data": {
      "text/plain": [
       "CreditScore          0\n",
       "Geography            0\n",
       "Gender               0\n",
       "Age                  0\n",
       "Tenure             909\n",
       "Balance              0\n",
       "NumOfProducts        0\n",
       "HasCrCard            0\n",
       "IsActiveMember       0\n",
       "EstimatedSalary      0\n",
       "Exited               0\n",
       "dtype: int64"
      ]
     },
     "execution_count": 11,
     "metadata": {},
     "output_type": "execute_result"
    }
   ],
   "source": [
    "df.isna().sum()"
   ]
  },
  {
   "cell_type": "code",
   "execution_count": 12,
   "metadata": {},
   "outputs": [
    {
     "data": {
      "text/html": [
       "<div>\n",
       "<style scoped>\n",
       "    .dataframe tbody tr th:only-of-type {\n",
       "        vertical-align: middle;\n",
       "    }\n",
       "\n",
       "    .dataframe tbody tr th {\n",
       "        vertical-align: top;\n",
       "    }\n",
       "\n",
       "    .dataframe thead th {\n",
       "        text-align: right;\n",
       "    }\n",
       "</style>\n",
       "<table border=\"1\" class=\"dataframe\">\n",
       "  <thead>\n",
       "    <tr style=\"text-align: right;\">\n",
       "      <th></th>\n",
       "      <th>CreditScore</th>\n",
       "      <th>Geography</th>\n",
       "      <th>Gender</th>\n",
       "      <th>Age</th>\n",
       "      <th>Tenure</th>\n",
       "      <th>Balance</th>\n",
       "      <th>NumOfProducts</th>\n",
       "      <th>HasCrCard</th>\n",
       "      <th>IsActiveMember</th>\n",
       "      <th>EstimatedSalary</th>\n",
       "      <th>Exited</th>\n",
       "    </tr>\n",
       "  </thead>\n",
       "  <tbody>\n",
       "    <tr>\n",
       "      <th>30</th>\n",
       "      <td>591</td>\n",
       "      <td>Spain</td>\n",
       "      <td>Female</td>\n",
       "      <td>39</td>\n",
       "      <td>NaN</td>\n",
       "      <td>0.00</td>\n",
       "      <td>3</td>\n",
       "      <td>1</td>\n",
       "      <td>0</td>\n",
       "      <td>140469.38</td>\n",
       "      <td>1</td>\n",
       "    </tr>\n",
       "    <tr>\n",
       "      <th>48</th>\n",
       "      <td>550</td>\n",
       "      <td>Germany</td>\n",
       "      <td>Male</td>\n",
       "      <td>38</td>\n",
       "      <td>NaN</td>\n",
       "      <td>103391.38</td>\n",
       "      <td>1</td>\n",
       "      <td>0</td>\n",
       "      <td>1</td>\n",
       "      <td>90878.13</td>\n",
       "      <td>0</td>\n",
       "    </tr>\n",
       "    <tr>\n",
       "      <th>51</th>\n",
       "      <td>585</td>\n",
       "      <td>Germany</td>\n",
       "      <td>Male</td>\n",
       "      <td>36</td>\n",
       "      <td>NaN</td>\n",
       "      <td>146050.97</td>\n",
       "      <td>2</td>\n",
       "      <td>0</td>\n",
       "      <td>0</td>\n",
       "      <td>86424.57</td>\n",
       "      <td>0</td>\n",
       "    </tr>\n",
       "  </tbody>\n",
       "</table>\n",
       "</div>"
      ],
      "text/plain": [
       "    CreditScore Geography  Gender  Age  Tenure    Balance  NumOfProducts  \\\n",
       "30          591     Spain  Female   39     NaN       0.00              3   \n",
       "48          550   Germany    Male   38     NaN  103391.38              1   \n",
       "51          585   Germany    Male   36     NaN  146050.97              2   \n",
       "\n",
       "    HasCrCard  IsActiveMember  EstimatedSalary  Exited  \n",
       "30          1               0        140469.38       1  \n",
       "48          0               1         90878.13       0  \n",
       "51          0               0         86424.57       0  "
      ]
     },
     "execution_count": 12,
     "metadata": {},
     "output_type": "execute_result"
    }
   ],
   "source": [
    "df[df['Tenure'].isna()].head(3)"
   ]
  },
  {
   "cell_type": "code",
   "execution_count": 13,
   "metadata": {},
   "outputs": [
    {
     "data": {
      "text/plain": [
       "0.0909"
      ]
     },
     "execution_count": 13,
     "metadata": {},
     "output_type": "execute_result"
    }
   ],
   "source": [
    "df['Tenure'].isna().mean()"
   ]
  },
  {
   "cell_type": "markdown",
   "metadata": {},
   "source": [
    "Пропускм обнаружены только в поле `Tenure` (crолько лет человек является клиентом банка).<br>\n",
    "Пропущенных данных около 9% – не много.<br>\n",
    "Изучим центральные тенденции этого признака:"
   ]
  },
  {
   "cell_type": "code",
   "execution_count": 14,
   "metadata": {},
   "outputs": [
    {
     "data": {
      "text/plain": [
       "count    9091.000000\n",
       "mean        4.997690\n",
       "std         2.894723\n",
       "min         0.000000\n",
       "25%         2.000000\n",
       "50%         5.000000\n",
       "75%         7.000000\n",
       "max        10.000000\n",
       "Name: Tenure, dtype: float64"
      ]
     },
     "execution_count": 14,
     "metadata": {},
     "output_type": "execute_result"
    }
   ],
   "source": [
    "df['Tenure'].describe()"
   ]
  },
  {
   "cell_type": "code",
   "execution_count": 15,
   "metadata": {},
   "outputs": [
    {
     "data": {
      "text/plain": [
       "<AxesSubplot:>"
      ]
     },
     "execution_count": 15,
     "metadata": {},
     "output_type": "execute_result"
    },
    {
     "data": {
      "image/png": "[encoded data removed]",
      "text/plain": [
       "<Figure size 432x288 with 1 Axes>"
      ]
     },
     "metadata": {
      "needs_background": "light"
     },
     "output_type": "display_data"
    }
   ],
   "source": [
    "df.boxplot('Tenure')"
   ]
  },
  {
   "cell_type": "markdown",
   "metadata": {},
   "source": [
    "Значения распределены относительно равномерно, явных выбросов не наблюдаеться.<br>\n",
    "Заполним пропуски среднеарифметическим:"
   ]
  },
  {
   "cell_type": "code",
   "execution_count": 16,
   "metadata": {},
   "outputs": [],
   "source": [
    "df['Tenure'].fillna(df['Tenure'].mean(), inplace=True)"
   ]
  },
  {
   "cell_type": "markdown",
   "metadata": {},
   "source": [
    "<div class=\"alert alert-block alert-warning\">\n",
    "<b>⚠️ Совет:</b>\n",
    "\n",
    "Посмотри еще на такие варианты работы с пропусками:\n",
    "\n",
    "1. Распределение по годам использования банка практически ровное, если сейчас заменить 909 пропусков медианой, то мы увеличим в 2 раза значение для 5 лет. Это кажется некорректным. Можно сделать заполнение пропусков случайными числами, тогда мы снизим влияние на наше распределение.\n",
    "\n",
    "2. Так как значений в этом признаке ограниченное количество, можно сделать его категориальным признаком. Пропуски можно считать как за отдельную категорию (заполнить значением -1). Затем заменить тип данных Tenure на object и применить технику OHE.\n",
    "\n",
    "3. Заполнить \"0\", считая, что это новые клиенты.\n",
    "</div>"
   ]
  },
  {
   "cell_type": "markdown",
   "metadata": {},
   "source": [
    "<div class=\"alert alert-block alert-info\">\n",
    "Принял. Исправлять не буду, т.к.  уже выбился из графика\n",
    "</div>"
   ]
  },
  {
   "cell_type": "markdown",
   "metadata": {},
   "source": [
    "Применим кодирование для категориальных признаков. Т.к. в проекте нет порядковых кодегориальных перменных, используем прямое кодирование `pd.get_dummies`.<br>\n",
    "Сохраним данные в переменную `dfd` – DataFrame dummied"
   ]
  },
  {
   "cell_type": "code",
   "execution_count": 17,
   "metadata": {},
   "outputs": [],
   "source": [
    "# dfd = pd.get_dummies(df, drop_first=True)"
   ]
  },
  {
   "cell_type": "markdown",
   "metadata": {},
   "source": [
    "<div class=\"alert alert-block alert-info\">\n",
    "Закомментировал код с учетом комментария ниже. Ниже же будут и исправления\n",
    "</div>"
   ]
  },
  {
   "cell_type": "markdown",
   "metadata": {},
   "source": [
    "<div class=\"alert alert-block alert-success\">\n",
    "<b>✔️ Успех:</b>\n",
    "\n",
    "В данном случае это наиболее подходящий способ закодировать категориальные колонки 👍\n",
    "</div>"
   ]
  },
  {
   "cell_type": "markdown",
   "metadata": {},
   "source": [
    "<div class=\"alert alert-block alert-danger\">\n",
    "<b>❌ Замечание:</b>\n",
    "\n",
    "Кодировать данные стоит после разбиения. Так у нас не будет утечки данных.\n",
    "\n",
    "Подробнее об этом можно прочитать здесь https://datascience.stackexchange.com/questions/108663/why-label-encoding-before-split-is-data-leakage\n",
    "  \n",
    "Суть в том, что в предобработке данных мы не должны заглядывать в тестовую выборку. Когда кодировщик fit-ится на всей выборке, там ведь есть и тестовая выборка, поэтому это называют утечкой или подглядыванием.\n",
    "    \n",
    "Данные из тестовой выборки не должны попасть в тренировочную (любая информация)\n",
    "\n",
    "Например:\n",
    "    \n",
    "В масштабировании перед разбиением дисперсия берется по всему датасету (в котором есть и тестовая выборка) != в масштабировании после разбиения дисперсия считается отдельно по каждой выборке. В кодировании то же самое 👌🏻\n",
    "\n",
    "P.S. после прямого кодирования кол-во столбцов в выборках может отличаться. Тогда лишние признаки можно удалить\n",
    "</div>\n",
    "\n",
    "```python\n",
    "features_train = pd.get_dummies(features_train, drop_first=True)\n",
    "features_valid = pd.get_dummies(features_valid, drop_first=True)\n",
    "features_test = pd.get_dummies(features_test, drop_first=True)\n",
    "```"
   ]
  },
  {
   "cell_type": "markdown",
   "metadata": {},
   "source": [
    "Поделим данные на признаки (features) и целевой признак (features).<br>\n",
    "И следующим шагом, поделим получившиеся данные на обучающую (train) и проверочную (valid) выборки:"
   ]
  },
  {
   "cell_type": "code",
   "execution_count": 18,
   "metadata": {},
   "outputs": [],
   "source": [
    "# target = dfd['Exited']\n",
    "# features =dfd.drop('Exited', axis=1)\n",
    "# train_features, valid_features, train_target, valid_target = train_test_split(features, target, test_size=0.25, random_state=12345) "
   ]
  },
  {
   "cell_type": "markdown",
   "metadata": {},
   "source": [
    "<div class=\"alert alert-block alert-info\">\n",
    "Закомментировал код с учетом комментария ниже. Ниже же будут и исправления\n",
    "</div>"
   ]
  },
  {
   "cell_type": "markdown",
   "metadata": {},
   "source": [
    "<div class=\"alert alert-block alert-danger\">\n",
    "<b>❌ Замечание:</b>\n",
    "\n",
    "Для финального результата лучшей модели нам нужна тестовая выборка. Валидационную используют для выбора лучших гиперпараметров. Можешь разбить данные на три выборки?) Рекомендую использовать соотношение 3:1:1.\n",
    "</div>"
   ]
  },
  {
   "cell_type": "markdown",
   "metadata": {},
   "source": [
    "<div class=\"alert alert-block alert-info\">\n",
    "Понял:\n",
    "<ol>\n",
    "    <li>Делим данные на три выборки (train, valid, test)</li>\n",
    "    <li>Кодируем категориальные переменные</li>\n",
    "</ol><br><br>\n",
    "Исполняю:\n",
    "</div>"
   ]
  },
  {
   "cell_type": "code",
   "execution_count": 19,
   "metadata": {},
   "outputs": [],
   "source": [
    "train, valid_test = train_test_split(df, test_size=0.6, random_state=12345) "
   ]
  },
  {
   "cell_type": "code",
   "execution_count": 20,
   "metadata": {},
   "outputs": [],
   "source": [
    "valid, test = train_test_split(valid_test, test_size=0.5, random_state=12345) "
   ]
  },
  {
   "cell_type": "code",
   "execution_count": 21,
   "metadata": {},
   "outputs": [],
   "source": [
    "def split_sample(sample, target_column):\n",
    "    return sample.drop(target_column, axis=1), sample[target_column]"
   ]
  },
  {
   "cell_type": "code",
   "execution_count": 22,
   "metadata": {},
   "outputs": [],
   "source": [
    "train_features, train_target = split_sample(train, 'Exited')\n",
    "valid_features, valid_target = split_sample(valid, 'Exited')\n",
    "test_features, test_target = split_sample(test, 'Exited')"
   ]
  },
  {
   "cell_type": "code",
   "execution_count": 23,
   "metadata": {
    "scrolled": true
   },
   "outputs": [
    {
     "data": {
      "text/html": [
       "<div>\n",
       "<style scoped>\n",
       "    .dataframe tbody tr th:only-of-type {\n",
       "        vertical-align: middle;\n",
       "    }\n",
       "\n",
       "    .dataframe tbody tr th {\n",
       "        vertical-align: top;\n",
       "    }\n",
       "\n",
       "    .dataframe thead th {\n",
       "        text-align: right;\n",
       "    }\n",
       "</style>\n",
       "<table border=\"1\" class=\"dataframe\">\n",
       "  <thead>\n",
       "    <tr style=\"text-align: right;\">\n",
       "      <th></th>\n",
       "      <th>CreditScore</th>\n",
       "      <th>Geography</th>\n",
       "      <th>Gender</th>\n",
       "      <th>Age</th>\n",
       "      <th>Tenure</th>\n",
       "      <th>Balance</th>\n",
       "      <th>NumOfProducts</th>\n",
       "      <th>HasCrCard</th>\n",
       "      <th>IsActiveMember</th>\n",
       "      <th>EstimatedSalary</th>\n",
       "    </tr>\n",
       "  </thead>\n",
       "  <tbody>\n",
       "    <tr>\n",
       "      <th>5201</th>\n",
       "      <td>569</td>\n",
       "      <td>France</td>\n",
       "      <td>Male</td>\n",
       "      <td>36</td>\n",
       "      <td>1.00000</td>\n",
       "      <td>67087.69</td>\n",
       "      <td>1</td>\n",
       "      <td>1</td>\n",
       "      <td>0</td>\n",
       "      <td>154775.70</td>\n",
       "    </tr>\n",
       "    <tr>\n",
       "      <th>5502</th>\n",
       "      <td>614</td>\n",
       "      <td>Spain</td>\n",
       "      <td>Female</td>\n",
       "      <td>40</td>\n",
       "      <td>4.99769</td>\n",
       "      <td>113348.50</td>\n",
       "      <td>1</td>\n",
       "      <td>1</td>\n",
       "      <td>1</td>\n",
       "      <td>77789.01</td>\n",
       "    </tr>\n",
       "    <tr>\n",
       "      <th>1715</th>\n",
       "      <td>685</td>\n",
       "      <td>Germany</td>\n",
       "      <td>Male</td>\n",
       "      <td>43</td>\n",
       "      <td>9.00000</td>\n",
       "      <td>108589.47</td>\n",
       "      <td>2</td>\n",
       "      <td>0</td>\n",
       "      <td>1</td>\n",
       "      <td>194808.51</td>\n",
       "    </tr>\n",
       "  </tbody>\n",
       "</table>\n",
       "</div>"
      ],
      "text/plain": [
       "      CreditScore Geography  Gender  Age   Tenure    Balance  NumOfProducts  \\\n",
       "5201          569    France    Male   36  1.00000   67087.69              1   \n",
       "5502          614     Spain  Female   40  4.99769  113348.50              1   \n",
       "1715          685   Germany    Male   43  9.00000  108589.47              2   \n",
       "\n",
       "      HasCrCard  IsActiveMember  EstimatedSalary  \n",
       "5201          1               0        154775.70  \n",
       "5502          1               1         77789.01  \n",
       "1715          0               1        194808.51  "
      ]
     },
     "execution_count": 23,
     "metadata": {},
     "output_type": "execute_result"
    }
   ],
   "source": [
    "train_features.head(3)"
   ]
  },
  {
   "cell_type": "code",
   "execution_count": 24,
   "metadata": {
    "scrolled": true
   },
   "outputs": [
    {
     "data": {
      "text/plain": [
       "8437    0\n",
       "698     0\n",
       "4561    0\n",
       "Name: Exited, dtype: int64"
      ]
     },
     "execution_count": 24,
     "metadata": {},
     "output_type": "execute_result"
    }
   ],
   "source": [
    "test_target.head(3)"
   ]
  },
  {
   "cell_type": "code",
   "execution_count": 25,
   "metadata": {},
   "outputs": [],
   "source": [
    "train_features = pd.get_dummies(train_features, drop_first=True)\n",
    "valid_features = pd.get_dummies(valid_features, drop_first=True)\n",
    "test_features = pd.get_dummies(test_features, drop_first=True)"
   ]
  },
  {
   "cell_type": "markdown",
   "metadata": {},
   "source": [
    "### Стандартизация (Масштабирование)"
   ]
  },
  {
   "cell_type": "markdown",
   "metadata": {},
   "source": [
    "Ещё раз посмотрим на данные получившиеся данные:"
   ]
  },
  {
   "cell_type": "code",
   "execution_count": 26,
   "metadata": {},
   "outputs": [
    {
     "data": {
      "text/html": [
       "<div>\n",
       "<style scoped>\n",
       "    .dataframe tbody tr th:only-of-type {\n",
       "        vertical-align: middle;\n",
       "    }\n",
       "\n",
       "    .dataframe tbody tr th {\n",
       "        vertical-align: top;\n",
       "    }\n",
       "\n",
       "    .dataframe thead th {\n",
       "        text-align: right;\n",
       "    }\n",
       "</style>\n",
       "<table border=\"1\" class=\"dataframe\">\n",
       "  <thead>\n",
       "    <tr style=\"text-align: right;\">\n",
       "      <th></th>\n",
       "      <th>CreditScore</th>\n",
       "      <th>Age</th>\n",
       "      <th>Tenure</th>\n",
       "      <th>Balance</th>\n",
       "      <th>NumOfProducts</th>\n",
       "      <th>HasCrCard</th>\n",
       "      <th>IsActiveMember</th>\n",
       "      <th>EstimatedSalary</th>\n",
       "      <th>Geography_Germany</th>\n",
       "      <th>Geography_Spain</th>\n",
       "      <th>Gender_Male</th>\n",
       "    </tr>\n",
       "  </thead>\n",
       "  <tbody>\n",
       "    <tr>\n",
       "      <th>5201</th>\n",
       "      <td>569</td>\n",
       "      <td>36</td>\n",
       "      <td>1.00000</td>\n",
       "      <td>67087.69</td>\n",
       "      <td>1</td>\n",
       "      <td>1</td>\n",
       "      <td>0</td>\n",
       "      <td>154775.70</td>\n",
       "      <td>0</td>\n",
       "      <td>0</td>\n",
       "      <td>1</td>\n",
       "    </tr>\n",
       "    <tr>\n",
       "      <th>5502</th>\n",
       "      <td>614</td>\n",
       "      <td>40</td>\n",
       "      <td>4.99769</td>\n",
       "      <td>113348.50</td>\n",
       "      <td>1</td>\n",
       "      <td>1</td>\n",
       "      <td>1</td>\n",
       "      <td>77789.01</td>\n",
       "      <td>0</td>\n",
       "      <td>1</td>\n",
       "      <td>0</td>\n",
       "    </tr>\n",
       "    <tr>\n",
       "      <th>1715</th>\n",
       "      <td>685</td>\n",
       "      <td>43</td>\n",
       "      <td>9.00000</td>\n",
       "      <td>108589.47</td>\n",
       "      <td>2</td>\n",
       "      <td>0</td>\n",
       "      <td>1</td>\n",
       "      <td>194808.51</td>\n",
       "      <td>1</td>\n",
       "      <td>0</td>\n",
       "      <td>1</td>\n",
       "    </tr>\n",
       "    <tr>\n",
       "      <th>1951</th>\n",
       "      <td>604</td>\n",
       "      <td>53</td>\n",
       "      <td>8.00000</td>\n",
       "      <td>144453.75</td>\n",
       "      <td>1</td>\n",
       "      <td>1</td>\n",
       "      <td>0</td>\n",
       "      <td>190998.96</td>\n",
       "      <td>0</td>\n",
       "      <td>0</td>\n",
       "      <td>1</td>\n",
       "    </tr>\n",
       "    <tr>\n",
       "      <th>6415</th>\n",
       "      <td>674</td>\n",
       "      <td>42</td>\n",
       "      <td>9.00000</td>\n",
       "      <td>0.00</td>\n",
       "      <td>2</td>\n",
       "      <td>1</td>\n",
       "      <td>0</td>\n",
       "      <td>4292.72</td>\n",
       "      <td>0</td>\n",
       "      <td>0</td>\n",
       "      <td>0</td>\n",
       "    </tr>\n",
       "    <tr>\n",
       "      <th>...</th>\n",
       "      <td>...</td>\n",
       "      <td>...</td>\n",
       "      <td>...</td>\n",
       "      <td>...</td>\n",
       "      <td>...</td>\n",
       "      <td>...</td>\n",
       "      <td>...</td>\n",
       "      <td>...</td>\n",
       "      <td>...</td>\n",
       "      <td>...</td>\n",
       "      <td>...</td>\n",
       "    </tr>\n",
       "    <tr>\n",
       "      <th>4478</th>\n",
       "      <td>549</td>\n",
       "      <td>31</td>\n",
       "      <td>4.00000</td>\n",
       "      <td>0.00</td>\n",
       "      <td>2</td>\n",
       "      <td>0</td>\n",
       "      <td>1</td>\n",
       "      <td>25684.85</td>\n",
       "      <td>0</td>\n",
       "      <td>0</td>\n",
       "      <td>1</td>\n",
       "    </tr>\n",
       "    <tr>\n",
       "      <th>4094</th>\n",
       "      <td>513</td>\n",
       "      <td>29</td>\n",
       "      <td>10.00000</td>\n",
       "      <td>0.00</td>\n",
       "      <td>2</td>\n",
       "      <td>0</td>\n",
       "      <td>1</td>\n",
       "      <td>25514.77</td>\n",
       "      <td>0</td>\n",
       "      <td>0</td>\n",
       "      <td>1</td>\n",
       "    </tr>\n",
       "    <tr>\n",
       "      <th>3492</th>\n",
       "      <td>655</td>\n",
       "      <td>45</td>\n",
       "      <td>4.99769</td>\n",
       "      <td>57327.04</td>\n",
       "      <td>1</td>\n",
       "      <td>0</td>\n",
       "      <td>1</td>\n",
       "      <td>47349.00</td>\n",
       "      <td>0</td>\n",
       "      <td>0</td>\n",
       "      <td>0</td>\n",
       "    </tr>\n",
       "    <tr>\n",
       "      <th>2177</th>\n",
       "      <td>667</td>\n",
       "      <td>24</td>\n",
       "      <td>4.00000</td>\n",
       "      <td>0.00</td>\n",
       "      <td>2</td>\n",
       "      <td>0</td>\n",
       "      <td>1</td>\n",
       "      <td>34335.55</td>\n",
       "      <td>0</td>\n",
       "      <td>0</td>\n",
       "      <td>0</td>\n",
       "    </tr>\n",
       "    <tr>\n",
       "      <th>4578</th>\n",
       "      <td>691</td>\n",
       "      <td>38</td>\n",
       "      <td>1.00000</td>\n",
       "      <td>0.00</td>\n",
       "      <td>2</td>\n",
       "      <td>0</td>\n",
       "      <td>0</td>\n",
       "      <td>44653.50</td>\n",
       "      <td>0</td>\n",
       "      <td>0</td>\n",
       "      <td>1</td>\n",
       "    </tr>\n",
       "  </tbody>\n",
       "</table>\n",
       "<p>4000 rows × 11 columns</p>\n",
       "</div>"
      ],
      "text/plain": [
       "      CreditScore  Age    Tenure    Balance  NumOfProducts  HasCrCard  \\\n",
       "5201          569   36   1.00000   67087.69              1          1   \n",
       "5502          614   40   4.99769  113348.50              1          1   \n",
       "1715          685   43   9.00000  108589.47              2          0   \n",
       "1951          604   53   8.00000  144453.75              1          1   \n",
       "6415          674   42   9.00000       0.00              2          1   \n",
       "...           ...  ...       ...        ...            ...        ...   \n",
       "4478          549   31   4.00000       0.00              2          0   \n",
       "4094          513   29  10.00000       0.00              2          0   \n",
       "3492          655   45   4.99769   57327.04              1          0   \n",
       "2177          667   24   4.00000       0.00              2          0   \n",
       "4578          691   38   1.00000       0.00              2          0   \n",
       "\n",
       "      IsActiveMember  EstimatedSalary  Geography_Germany  Geography_Spain  \\\n",
       "5201               0        154775.70                  0                0   \n",
       "5502               1         77789.01                  0                1   \n",
       "1715               1        194808.51                  1                0   \n",
       "1951               0        190998.96                  0                0   \n",
       "6415               0          4292.72                  0                0   \n",
       "...              ...              ...                ...              ...   \n",
       "4478               1         25684.85                  0                0   \n",
       "4094               1         25514.77                  0                0   \n",
       "3492               1         47349.00                  0                0   \n",
       "2177               1         34335.55                  0                0   \n",
       "4578               0         44653.50                  0                0   \n",
       "\n",
       "      Gender_Male  \n",
       "5201            1  \n",
       "5502            0  \n",
       "1715            1  \n",
       "1951            1  \n",
       "6415            0  \n",
       "...           ...  \n",
       "4478            1  \n",
       "4094            1  \n",
       "3492            0  \n",
       "2177            0  \n",
       "4578            1  \n",
       "\n",
       "[4000 rows x 11 columns]"
      ]
     },
     "execution_count": 26,
     "metadata": {},
     "output_type": "execute_result"
    }
   ],
   "source": [
    "train_features\n",
    "# .head(3)"
   ]
  },
  {
   "cell_type": "markdown",
   "metadata": {},
   "source": [
    "Выделим в отдельный список поля, которые необходимо стандартизировать (привести к единому масштабу)"
   ]
  },
  {
   "cell_type": "code",
   "execution_count": 27,
   "metadata": {},
   "outputs": [],
   "source": [
    "numeric = ['CreditScore', 'Age', 'Tenure', 'Balance',  'NumOfProducts', 'EstimatedSalary']"
   ]
  },
  {
   "cell_type": "markdown",
   "metadata": {},
   "source": [
    "Проведем процидуру стандартизации:"
   ]
  },
  {
   "cell_type": "markdown",
   "metadata": {},
   "source": [
    "<div class=\"alert alert-block alert-info\">\n",
    "В ячейке ниже появилась новаяф строка. Она омечена комментарием:\n",
    "</div>"
   ]
  },
  {
   "cell_type": "code",
   "execution_count": 28,
   "metadata": {},
   "outputs": [
    {
     "data": {
      "text/html": [
       "<div>\n",
       "<style scoped>\n",
       "    .dataframe tbody tr th:only-of-type {\n",
       "        vertical-align: middle;\n",
       "    }\n",
       "\n",
       "    .dataframe tbody tr th {\n",
       "        vertical-align: top;\n",
       "    }\n",
       "\n",
       "    .dataframe thead th {\n",
       "        text-align: right;\n",
       "    }\n",
       "</style>\n",
       "<table border=\"1\" class=\"dataframe\">\n",
       "  <thead>\n",
       "    <tr style=\"text-align: right;\">\n",
       "      <th></th>\n",
       "      <th>CreditScore</th>\n",
       "      <th>Age</th>\n",
       "      <th>Tenure</th>\n",
       "      <th>Balance</th>\n",
       "      <th>NumOfProducts</th>\n",
       "      <th>HasCrCard</th>\n",
       "      <th>IsActiveMember</th>\n",
       "      <th>EstimatedSalary</th>\n",
       "      <th>Geography_Germany</th>\n",
       "      <th>Geography_Spain</th>\n",
       "      <th>Gender_Male</th>\n",
       "    </tr>\n",
       "  </thead>\n",
       "  <tbody>\n",
       "    <tr>\n",
       "      <th>5699</th>\n",
       "      <td>0.329869</td>\n",
       "      <td>-0.380663</td>\n",
       "      <td>0.354436</td>\n",
       "      <td>0.942384</td>\n",
       "      <td>-0.878050</td>\n",
       "      <td>1</td>\n",
       "      <td>1</td>\n",
       "      <td>-0.209397</td>\n",
       "      <td>0</td>\n",
       "      <td>0</td>\n",
       "      <td>1</td>\n",
       "    </tr>\n",
       "    <tr>\n",
       "      <th>1521</th>\n",
       "      <td>-1.518134</td>\n",
       "      <td>-0.942632</td>\n",
       "      <td>0.354436</td>\n",
       "      <td>-1.254401</td>\n",
       "      <td>0.836054</td>\n",
       "      <td>0</td>\n",
       "      <td>1</td>\n",
       "      <td>-0.077970</td>\n",
       "      <td>0</td>\n",
       "      <td>1</td>\n",
       "      <td>0</td>\n",
       "    </tr>\n",
       "    <tr>\n",
       "      <th>3981</th>\n",
       "      <td>-0.150403</td>\n",
       "      <td>-1.410939</td>\n",
       "      <td>-1.474965</td>\n",
       "      <td>-1.254401</td>\n",
       "      <td>0.836054</td>\n",
       "      <td>0</td>\n",
       "      <td>1</td>\n",
       "      <td>1.100747</td>\n",
       "      <td>0</td>\n",
       "      <td>0</td>\n",
       "      <td>1</td>\n",
       "    </tr>\n",
       "    <tr>\n",
       "      <th>5136</th>\n",
       "      <td>0.674411</td>\n",
       "      <td>2.335517</td>\n",
       "      <td>-0.012289</td>\n",
       "      <td>0.335932</td>\n",
       "      <td>0.836054</td>\n",
       "      <td>1</td>\n",
       "      <td>1</td>\n",
       "      <td>-1.349405</td>\n",
       "      <td>1</td>\n",
       "      <td>0</td>\n",
       "      <td>0</td>\n",
       "    </tr>\n",
       "    <tr>\n",
       "      <th>6747</th>\n",
       "      <td>-1.163151</td>\n",
       "      <td>-0.474325</td>\n",
       "      <td>-0.743205</td>\n",
       "      <td>0.827139</td>\n",
       "      <td>-0.878050</td>\n",
       "      <td>1</td>\n",
       "      <td>0</td>\n",
       "      <td>0.618492</td>\n",
       "      <td>0</td>\n",
       "      <td>0</td>\n",
       "      <td>1</td>\n",
       "    </tr>\n",
       "  </tbody>\n",
       "</table>\n",
       "</div>"
      ],
      "text/plain": [
       "      CreditScore       Age    Tenure   Balance  NumOfProducts  HasCrCard  \\\n",
       "5699     0.329869 -0.380663  0.354436  0.942384      -0.878050          1   \n",
       "1521    -1.518134 -0.942632  0.354436 -1.254401       0.836054          0   \n",
       "3981    -0.150403 -1.410939 -1.474965 -1.254401       0.836054          0   \n",
       "5136     0.674411  2.335517 -0.012289  0.335932       0.836054          1   \n",
       "6747    -1.163151 -0.474325 -0.743205  0.827139      -0.878050          1   \n",
       "\n",
       "      IsActiveMember  EstimatedSalary  Geography_Germany  Geography_Spain  \\\n",
       "5699               1        -0.209397                  0                0   \n",
       "1521               1        -0.077970                  0                1   \n",
       "3981               1         1.100747                  0                0   \n",
       "5136               1        -1.349405                  1                0   \n",
       "6747               0         0.618492                  0                0   \n",
       "\n",
       "      Gender_Male  \n",
       "5699            1  \n",
       "1521            0  \n",
       "3981            1  \n",
       "5136            0  \n",
       "6747            1  "
      ]
     },
     "execution_count": 28,
     "metadata": {},
     "output_type": "execute_result"
    }
   ],
   "source": [
    "scaler = StandardScaler()\n",
    "scaler.fit(train_features[numeric])\n",
    "\n",
    "train_features[numeric] = scaler.transform(train_features[numeric])\n",
    "valid_features[numeric] = scaler.transform(valid_features[numeric])\n",
    "test_features[numeric] = scaler.transform(test_features[numeric]) # ! Новая выборка, появилась после исправлений\n",
    "\n",
    "valid_features.head()"
   ]
  },
  {
   "cell_type": "markdown",
   "metadata": {},
   "source": [
    "<div class=\"alert alert-block alert-success\">\n",
    "<b>✔️ Успех:</b>\n",
    "\n",
    "Отлично, признаки масштабированы 👍 Не забыли, что fit нужно делать только на train выборке.\n",
    "</div>"
   ]
  },
  {
   "cell_type": "markdown",
   "metadata": {},
   "source": [
    "## Исследование задачи"
   ]
  },
  {
   "cell_type": "markdown",
   "metadata": {},
   "source": [
    "Проверим баланс классов:"
   ]
  },
  {
   "cell_type": "code",
   "execution_count": 31,
   "metadata": {},
   "outputs": [
    {
     "data": {
      "text/plain": [
       "0    3156\n",
       "1     844\n",
       "Name: Exited, dtype: int64"
      ]
     },
     "execution_count": 31,
     "metadata": {},
     "output_type": "execute_result"
    }
   ],
   "source": [
    "train_target.value_counts()"
   ]
  },
  {
   "cell_type": "markdown",
   "metadata": {},
   "source": [
    "Баланс классов заметно смещен в сторону значения `0`. Для начала поробуем построить модели и изучить модели не обращая снимания на дисбаланс"
   ]
  },
  {
   "cell_type": "markdown",
   "metadata": {},
   "source": [
    "создадим словарь словарь в который будем сохранять метрики:"
   ]
  },
  {
   "cell_type": "code",
   "execution_count": 32,
   "metadata": {},
   "outputs": [],
   "source": [
    "models_chars = {}"
   ]
  },
  {
   "cell_type": "markdown",
   "metadata": {},
   "source": [
    "<div class=\"alert alert-block alert-success\">\n",
    "<b>✔️ Успех:</b>\n",
    "\n",
    "Виден явный дисбаланс классов в пользу отрицательного класса. Если мы будем всех людей прогнозировать, что они не уйдут из банка, то в 80% случаев мы будем правы.\n",
    "</div>"
   ]
  },
  {
   "cell_type": "markdown",
   "metadata": {},
   "source": [
    "### Функции:"
   ]
  },
  {
   "cell_type": "markdown",
   "metadata": {},
   "source": [
    "Тестируя разные модели. на потребуеться получать их характеристи и сравнивать их. Что бы не писать каждый раз абзацы кода, папишим две функции:\n",
    "<ol>\n",
    "    <li>Функция подсчитывающая характеристики, сохраняющая их в словарь <i>models_chars</i> и выводящая на экран notebook`a</li>\n",
    "    <li>Функция строящая графики Precision-Recall и ROC кривых</li>\n",
    "</ol>"
   ]
  },
  {
   "cell_type": "code",
   "execution_count": 33,
   "metadata": {},
   "outputs": [],
   "source": [
    "def add_model_chars(valid_prediction, valid_target, valid_probabilities, models_type):\n",
    "    models_chars[models_type] = {\n",
    "        'accuracy':accuracy_score(valid_prediction, valid_target),\n",
    "        'recall_score':recall_score(valid_target, valid_prediction),\n",
    "        'precision_score':precision_score(valid_target, valid_prediction),\n",
    "        'f1_score':f1_score(valid_target, valid_prediction),\n",
    "        'auc_roc':roc_auc_score(valid_target, valid_probabilities[:, 1])\n",
    "    }\n",
    "    return models_chars[models_type]"
   ]
  },
  {
   "cell_type": "code",
   "execution_count": 34,
   "metadata": {},
   "outputs": [],
   "source": [
    "def build_graphs(model, valid_features, valid_target, valid_probabilities):\n",
    "    # valid_probabilities = model.predict_proba(valid_features)\n",
    "    precision, recall, thresholds = precision_recall_curve(valid_target, valid_probabilities[:, 1])\n",
    "    fpr, tpr, thresholds = roc_curve(valid_target, valid_probabilities[:, 1]) \n",
    "\n",
    "    fig = plt.figure(figsize=(12, 3))\n",
    "    pr_curve = fig.add_subplot(1, 2, 1)\n",
    "    roc1_curve = fig.add_subplot(1, 2, 2)\n",
    "\n",
    "    pr_curve.step(recall, precision, where='post')\n",
    "    pr_curve.set_xlabel('Recall')\n",
    "    pr_curve.set_ylabel('Precision')\n",
    "    pr_curve.set_xlim([0.0, 1.0])\n",
    "    pr_curve.set_ylim([0.0, 1.0])\n",
    "    pr_curve.set_title('Кривая Precision-Recall')\n",
    "\n",
    "    roc1_curve.plot(fpr, tpr)\n",
    "    roc1_curve.plot([0, 1], [0, 1], linestyle='--')\n",
    "    roc1_curve.set_xlabel('False Positive Rate')\n",
    "    roc1_curve.set_ylabel('True Positive Rate')\n",
    "    roc1_curve.set_xlim([0.0, 1.0])\n",
    "    roc1_curve.set_ylim([0.0, 1.0])\n",
    "    roc1_curve.set_title('ROC-кривая')\n",
    "\n",
    "    return fig.show()"
   ]
  },
  {
   "cell_type": "markdown",
   "metadata": {},
   "source": [
    "Поочерёдно исследуем модели:"
   ]
  },
  {
   "cell_type": "markdown",
   "metadata": {},
   "source": [
    "<div class=\"alert alert-block alert-success\">\n",
    "<b>✔️ Успех:</b>\n",
    "\n",
    "Хорошие помощники 👍\n",
    "</div>"
   ]
  },
  {
   "cell_type": "markdown",
   "metadata": {},
   "source": [
    "### Логистическая регресски"
   ]
  },
  {
   "cell_type": "code",
   "execution_count": 35,
   "metadata": {},
   "outputs": [
    {
     "data": {
      "text/plain": [
       "{'accuracy': 0.8086666666666666,\n",
       " 'recall_score': 0.23720136518771331,\n",
       " 'precision_score': 0.5225563909774437,\n",
       " 'f1_score': 0.32629107981220656,\n",
       " 'auc_roc': 0.7590081747259304}"
      ]
     },
     "execution_count": 35,
     "metadata": {},
     "output_type": "execute_result"
    }
   ],
   "source": [
    "model =  LogisticRegression(random_state=12345, solver='liblinear', max_iter=1000, )\n",
    "model.fit(train_features, train_target)\n",
    "valid_prediction = model.predict(valid_features)\n",
    "valid_probabilities = model.predict_proba(valid_features)\n",
    "\n",
    "add_model_chars(valid_prediction, valid_target, valid_probabilities, models_type='LR')"
   ]
  },
  {
   "cell_type": "code",
   "execution_count": 36,
   "metadata": {},
   "outputs": [
    {
     "data": {
      "image/png": "[encoded data removed]",
      "text/plain": [
       "<Figure size 864x216 with 2 Axes>"
      ]
     },
     "metadata": {
      "needs_background": "light"
     },
     "output_type": "display_data"
    }
   ],
   "source": [
    "build_graphs(model, valid_features, valid_target, valid_probabilities)"
   ]
  },
  {
   "cell_type": "markdown",
   "metadata": {},
   "source": [
    "### Дерево решений"
   ]
  },
  {
   "cell_type": "code",
   "execution_count": 37,
   "metadata": {},
   "outputs": [
    {
     "name": "stdout",
     "output_type": "stream",
     "text": [
      "best accuracy score: 0.862\n",
      "При depth 6\n"
     ]
    }
   ],
   "source": [
    "best_result = 0\n",
    "\n",
    "for depth in range(1, 10):\n",
    "    model = DecisionTreeClassifier(random_state=12345, max_depth=depth, ) \n",
    "    model.fit(train_features, train_target) \n",
    "    valid_prediction = model.predict(valid_features) \n",
    "    result =  accuracy_score(valid_prediction, valid_target)\n",
    "    if result > best_result:\n",
    "        best_model = model\n",
    "        best_result = result\n",
    "        best_depth = depth\n",
    "\n",
    "print('best accuracy score:', best_result)\n",
    "print('При depth', best_depth)\n"
   ]
  },
  {
   "cell_type": "code",
   "execution_count": 38,
   "metadata": {},
   "outputs": [
    {
     "name": "stdout",
     "output_type": "stream",
     "text": [
      "CPU times: user 12.5 ms, sys: 98 µs, total: 12.6 ms\n",
      "Wall time: 11.4 ms\n"
     ]
    },
    {
     "data": {
      "text/plain": [
       "{'accuracy': 0.862,\n",
       " 'recall_score': 0.4334470989761092,\n",
       " 'precision_score': 0.7559523809523809,\n",
       " 'f1_score': 0.5509761388286334,\n",
       " 'auc_roc': 0.8420876089704257}"
      ]
     },
     "execution_count": 38,
     "metadata": {},
     "output_type": "execute_result"
    }
   ],
   "source": [
    "%%time\n",
    "valid_prediction = best_model.predict(valid_features)\n",
    "valid_probabilities = best_model.predict_proba(valid_features)\n",
    "add_model_chars(\n",
    "    valid_prediction, valid_target, valid_probabilities, 'DTC')"
   ]
  },
  {
   "cell_type": "code",
   "execution_count": 39,
   "metadata": {},
   "outputs": [
    {
     "data": {
      "image/png": "[encoded data removed]",
      "text/plain": [
       "<Figure size 864x216 with 2 Axes>"
      ]
     },
     "metadata": {
      "needs_background": "light"
     },
     "output_type": "display_data"
    }
   ],
   "source": [
    "build_graphs(best_model, valid_features, valid_target, valid_probabilities)"
   ]
  },
  {
   "cell_type": "markdown",
   "metadata": {},
   "source": [
    "### Случайный лес"
   ]
  },
  {
   "cell_type": "markdown",
   "metadata": {},
   "source": [
    "Сначало подберем лучшее значени глубины:"
   ]
  },
  {
   "cell_type": "code",
   "execution_count": 40,
   "metadata": {},
   "outputs": [
    {
     "name": "stdout",
     "output_type": "stream",
     "text": [
      "best accuracy_score: 0.859\n",
      "При depth: 6\n",
      "f1_score 0.4990859232175502\n"
     ]
    }
   ],
   "source": [
    "best_result = 0\n",
    "\n",
    "for depth in  range(1, 16, 1):\n",
    "    model = RandomForestClassifier(random_state=12345, n_estimators=3, max_depth=depth, \n",
    "    # class_weight='balanced'\n",
    "    )\n",
    "    model.fit(train_features, train_target) # обучите модель на тренировочной выборке\n",
    "    valid_prediction = model.predict(valid_features) # получите предсказания модели на валидационной выборке\n",
    "    result =  accuracy_score(valid_prediction, valid_target)\n",
    "    if result > best_result:\n",
    "\n",
    "        best_result = result\n",
    "        best_depth = depth\n",
    "\n",
    "print('best accuracy_score:', best_result)\n",
    "print('При depth:', best_depth)\n",
    "print('f1_score', f1_score(valid_target, valid_prediction))"
   ]
  },
  {
   "cell_type": "markdown",
   "metadata": {},
   "source": [
    "При подборе оптимально числа деревьев возникли некоторые трудности, по этому я сохранял результаты в списки и потом построил графики:"
   ]
  },
  {
   "cell_type": "code",
   "execution_count": 41,
   "metadata": {},
   "outputs": [
    {
     "name": "stdout",
     "output_type": "stream",
     "text": [
      "best accuracy_score: 0.8616666666666667\n",
      "При n_estimators: 40\n",
      "f1_score 0.5228310502283104\n",
      "\n",
      "best_f1: 0.5421166306695464\n",
      "При n_estimators: 10\n",
      "При этом accuracy: 0.8586666666666667\n"
     ]
    }
   ],
   "source": [
    "best_result_accuracy = 0\n",
    "best_f1 = 0\n",
    "\n",
    "f1_list              = []\n",
    "accuracy_score_list  = []\n",
    "n_estimators_list    = []\n",
    "\n",
    "for n_estimators in range(10, 200, 10):\n",
    "    model = RandomForestClassifier(random_state=12345, n_estimators=n_estimators, max_depth=best_depth)\n",
    "    model.fit(train_features, train_target) # обучите модель на тренировочной выборке\n",
    "    valid_prediction = model.predict(valid_features) # получите предсказания модели на валидационной выборке\n",
    "    result =  accuracy_score(valid_prediction, valid_target)\n",
    "    f1 = f1_score(valid_target, valid_prediction)\n",
    "    accuracy_score_list.append(result)\n",
    "    f1_list.append(f1)\n",
    "    n_estimators_list.append(n_estimators)\n",
    "\n",
    "    if result > best_result_accuracy:\n",
    "        best_model = model\n",
    "        best_result_accuracy = result\n",
    "        best_n_estimators = n_estimators\n",
    "\n",
    "    if  f1 > best_f1:\n",
    "        best_f1 = f1\n",
    "        best_n_estimators_for_f1 = n_estimators\n",
    "        accuracy_for_f1 = result\n",
    "\n",
    "\n",
    "print('best accuracy_score:', best_result_accuracy)\n",
    "print('При n_estimators:', best_n_estimators)   \n",
    "print('f1_score', f1_score(valid_target, valid_prediction))\n",
    "print()\n",
    "print('best_f1:', best_f1) \n",
    "print('При n_estimators:', best_n_estimators_for_f1)\n",
    "print('При этом accuracy:', accuracy_for_f1)\n",
    "\n"
   ]
  },
  {
   "cell_type": "code",
   "execution_count": 42,
   "metadata": {},
   "outputs": [
    {
     "data": {
      "image/png": "[encoded data removed]",
      "text/plain": [
       "<Figure size 432x288 with 1 Axes>"
      ]
     },
     "metadata": {
      "needs_background": "light"
     },
     "output_type": "display_data"
    }
   ],
   "source": [
    "plt.figure()\n",
    "plt.plot(n_estimators_list, f1_list)\n",
    "plt.grid()"
   ]
  },
  {
   "cell_type": "code",
   "execution_count": 43,
   "metadata": {},
   "outputs": [
    {
     "data": {
      "image/png": "[encoded data removed]",
      "text/plain": [
       "<Figure size 432x288 with 1 Axes>"
      ]
     },
     "metadata": {
      "needs_background": "light"
     },
     "output_type": "display_data"
    }
   ],
   "source": [
    "plt.figure()\n",
    "plt.plot(n_estimators_list, accuracy_score_list)\n",
    "plt.grid()"
   ]
  },
  {
   "cell_type": "markdown",
   "metadata": {},
   "source": [
    "Удалось подобрать оптимально оличество деревьев (110). Незначительно просел показатель f1. но это мы поправим при борьбе с дисбалансом"
   ]
  },
  {
   "cell_type": "code",
   "execution_count": 44,
   "metadata": {},
   "outputs": [
    {
     "name": "stdout",
     "output_type": "stream",
     "text": [
      "CPU times: user 41.5 ms, sys: 105 µs, total: 41.6 ms\n",
      "Wall time: 40.3 ms\n"
     ]
    },
    {
     "data": {
      "text/plain": [
       "{'accuracy': 0.8616666666666667,\n",
       " 'recall_score': 0.3890784982935154,\n",
       " 'precision_score': 0.8,\n",
       " 'f1_score': 0.5235361653272101,\n",
       " 'auc_roc': 0.850484305148296}"
      ]
     },
     "execution_count": 44,
     "metadata": {},
     "output_type": "execute_result"
    }
   ],
   "source": [
    "%%time\n",
    "valid_prediction = best_model.predict(valid_features)\n",
    "valid_probabilities = best_model.predict_proba(valid_features)\n",
    "add_model_chars(valid_prediction, valid_target, valid_probabilities, models_type='RFC')"
   ]
  },
  {
   "cell_type": "code",
   "execution_count": 45,
   "metadata": {},
   "outputs": [
    {
     "data": {
      "image/png": "[encoded data removed]",
      "text/plain": [
       "<Figure size 864x216 with 2 Axes>"
      ]
     },
     "metadata": {
      "needs_background": "light"
     },
     "output_type": "display_data"
    }
   ],
   "source": [
    "build_graphs(best_model, valid_features, valid_target, valid_probabilities)"
   ]
  },
  {
   "cell_type": "code",
   "execution_count": 46,
   "metadata": {},
   "outputs": [
    {
     "data": {
      "text/html": [
       "<div>\n",
       "<style scoped>\n",
       "    .dataframe tbody tr th:only-of-type {\n",
       "        vertical-align: middle;\n",
       "    }\n",
       "\n",
       "    .dataframe tbody tr th {\n",
       "        vertical-align: top;\n",
       "    }\n",
       "\n",
       "    .dataframe thead th {\n",
       "        text-align: right;\n",
       "    }\n",
       "</style>\n",
       "<table border=\"1\" class=\"dataframe\">\n",
       "  <thead>\n",
       "    <tr style=\"text-align: right;\">\n",
       "      <th></th>\n",
       "      <th>LR</th>\n",
       "      <th>DTC</th>\n",
       "      <th>RFC</th>\n",
       "    </tr>\n",
       "  </thead>\n",
       "  <tbody>\n",
       "    <tr>\n",
       "      <th>accuracy</th>\n",
       "      <td>0.808667</td>\n",
       "      <td>0.862000</td>\n",
       "      <td>0.861667</td>\n",
       "    </tr>\n",
       "    <tr>\n",
       "      <th>recall_score</th>\n",
       "      <td>0.237201</td>\n",
       "      <td>0.433447</td>\n",
       "      <td>0.389078</td>\n",
       "    </tr>\n",
       "    <tr>\n",
       "      <th>precision_score</th>\n",
       "      <td>0.522556</td>\n",
       "      <td>0.755952</td>\n",
       "      <td>0.800000</td>\n",
       "    </tr>\n",
       "    <tr>\n",
       "      <th>f1_score</th>\n",
       "      <td>0.326291</td>\n",
       "      <td>0.550976</td>\n",
       "      <td>0.523536</td>\n",
       "    </tr>\n",
       "    <tr>\n",
       "      <th>auc_roc</th>\n",
       "      <td>0.759008</td>\n",
       "      <td>0.842088</td>\n",
       "      <td>0.850484</td>\n",
       "    </tr>\n",
       "  </tbody>\n",
       "</table>\n",
       "</div>"
      ],
      "text/plain": [
       "                       LR       DTC       RFC\n",
       "accuracy         0.808667  0.862000  0.861667\n",
       "recall_score     0.237201  0.433447  0.389078\n",
       "precision_score  0.522556  0.755952  0.800000\n",
       "f1_score         0.326291  0.550976  0.523536\n",
       "auc_roc          0.759008  0.842088  0.850484"
      ]
     },
     "execution_count": 46,
     "metadata": {},
     "output_type": "execute_result"
    }
   ],
   "source": [
    "pd.DataFrame(models_chars)"
   ]
  },
  {
   "cell_type": "markdown",
   "metadata": {},
   "source": [
    "Самой точной получилась модель Решающего дерева (DTC). И хотя она уступает модели \"Случайного леса\" в показатели \"Площадь ROC кривой\", она выигрывает в accuracy и f1_score, а баланс recall/precision по сравнению с со случайным лесом в сторону recall говорит о том, что модель будет точнее определять положительный класса, но и чаще присваевать его классу отрицательному.  Чтобы понять что важнее, надо уже разбираться в бизнес вопросах, а это выходит за рамки задания.<br><br>\n",
    "А также в пользу модели \"Решающего дерева\" говорит время исполнения \"предсказания\": 15 мс против 171 у \"Случайного леса\", что быстрее более чем в 10 раз.<br><br>\n",
    "Для дальнейшей работы, перепишем переменную `best_model`, т.к. сейчас в ней шраниться модель \"Случайного леса\" "
   ]
  },
  {
   "cell_type": "code",
   "execution_count": 47,
   "metadata": {},
   "outputs": [
    {
     "name": "stdout",
     "output_type": "stream",
     "text": [
      "best accuracy score: 0.862\n",
      "При depth 6\n"
     ]
    }
   ],
   "source": [
    "best_result = 0\n",
    "\n",
    "for depth in range(1, 10):\n",
    "    model = DecisionTreeClassifier(random_state=12345, max_depth=depth, ) \n",
    "    model.fit(train_features, train_target) \n",
    "    valid_prediction = model.predict(valid_features) \n",
    "    result =  accuracy_score(valid_prediction, valid_target)\n",
    "    if result > best_result:\n",
    "        best_model = model\n",
    "        best_result = result\n",
    "        best_depth = depth\n",
    "\n",
    "print('best accuracy score:', best_result)\n",
    "print('При depth', best_depth)\n"
   ]
  },
  {
   "cell_type": "markdown",
   "metadata": {},
   "source": [
    "<div class=\"alert alert-block alert-success\">\n",
    "<b>✔️ Успех:</b>\n",
    "\n",
    "Модели обучены корректно 👍\n",
    "</div>"
   ]
  },
  {
   "cell_type": "markdown",
   "metadata": {},
   "source": [
    "## Борьба с дисбалансом"
   ]
  },
  {
   "cell_type": "code",
   "execution_count": 48,
   "metadata": {},
   "outputs": [
    {
     "data": {
      "text/plain": [
       "0    3156\n",
       "1     844\n",
       "Name: Exited, dtype: int64"
      ]
     },
     "execution_count": 48,
     "metadata": {},
     "output_type": "execute_result"
    }
   ],
   "source": [
    "train_target.value_counts()"
   ]
  },
  {
   "cell_type": "markdown",
   "metadata": {},
   "source": [
    "### Увеличение выборки и уменьшение  сегментов обучающей выборки"
   ]
  },
  {
   "cell_type": "markdown",
   "metadata": {},
   "source": [
    "### Для дерева решений"
   ]
  },
  {
   "cell_type": "markdown",
   "metadata": {},
   "source": [
    "Для борьбы с дисбалансом классов будем использовать измененние велечин выборок, увеличения количества объектов положительном классе и уменьшения в отрицательном. Т.к. нам неизвестно какой вариант лучше, протестируем оба. <br>\n",
    "Для упрощения работы, напишем соотвествующие функции:"
   ]
  },
  {
   "cell_type": "code",
   "execution_count": 49,
   "metadata": {},
   "outputs": [],
   "source": [
    "# Увеличение выборки\n",
    "def upsample(features, target, repeat):\n",
    "    features_zeros = features[target == 0]\n",
    "    features_ones = features[target == 1]\n",
    "    target_zeros = target[target == 0]\n",
    "    target_ones = target[target == 1]\n",
    "\n",
    "    features_upsampled = pd.concat([features_zeros] + [features_ones] * repeat)\n",
    "    target_upsampled = pd.concat([target_zeros] + [target_ones] * repeat)\n",
    "    \n",
    "    features_upsampled, target_upsampled = shuffle(features_upsampled, target_upsampled, random_state=12345)\n",
    "    \n",
    "    return features_upsampled, target_upsampled"
   ]
  },
  {
   "cell_type": "code",
   "execution_count": 50,
   "metadata": {},
   "outputs": [],
   "source": [
    "# Уменьшение выборки\n",
    "def downsample(features, target, fraction):\n",
    "    features_zeros = features[target == 0]\n",
    "    features_ones = features[target == 1]\n",
    "    target_zeros = target[target == 0]\n",
    "    target_ones = target[target == 1]\n",
    "\n",
    "    features_downsampled = pd.concat([features_zeros.sample(frac=fraction, random_state=12345)] + [features_ones])\n",
    "    target_downsampled = pd.concat([target_zeros.sample(frac=fraction, random_state=12345)] + [target_ones])\n",
    "    \n",
    "    features_downsampled, target_downsampled = shuffle(features_downsampled, target_downsampled, random_state=12345)\n",
    "    \n",
    "    return features_downsampled, target_downsampled"
   ]
  },
  {
   "cell_type": "markdown",
   "metadata": {},
   "source": [
    "Переберем одним циклом увеличение и уменьшение выборки одновременно, сохраняя результаты в соответствующие списки:"
   ]
  },
  {
   "cell_type": "code",
   "execution_count": 51,
   "metadata": {},
   "outputs": [
    {
     "name": "stdout",
     "output_type": "stream",
     "text": [
      "best f1_up: 0.5863192182410424\n",
      "При repeat: 2\n",
      "\n",
      "best best_f1_down: 0.5680297397769516\n",
      "При fraction: 0.5\n"
     ]
    }
   ],
   "source": [
    "best_f1_up = 0\n",
    "best_f1_down = 0\n",
    "f1_up_list   = []\n",
    "f1_down_list = []\n",
    "repeat_list  = []\n",
    "\n",
    "\n",
    "for repeat in range(1, 50):\n",
    "    repeat_list.append(repeat)\n",
    "    # UP\n",
    "    features_upsampled, target_upsampled = upsample(train_features, train_target, repeat)\n",
    "    best_model.fit(features_upsampled, target_upsampled)\n",
    "    valid_prediction_up = best_model.predict(valid_features)\n",
    "    f1_up =  f1_score(valid_target, valid_prediction_up)\n",
    "    f1_up_list.append(f1_up)\n",
    "\n",
    "    # DOWN\n",
    "    fraction = 1 / repeat\n",
    "    features_downsampled, target_downsampled = downsample(train_features, train_target, fraction)\n",
    "    best_model.fit(features_downsampled, target_downsampled)\n",
    "    valid_prediction_down = best_model.predict(valid_features)\n",
    "    f1_down = f1_score(valid_target, valid_prediction_down)\n",
    "    f1_down_list.append(f1_down)\n",
    "\n",
    "    if f1_up > best_f1_up:\n",
    "        best_f1_up = f1_up\n",
    "        best_repeat = repeat\n",
    "\n",
    "    if f1_down > best_f1_down:\n",
    "        best_f1_down = f1_down\n",
    "        best_fraction = fraction\n",
    "\n",
    "\n",
    "print('best f1_up:', best_f1_up)\n",
    "print('При repeat:', best_repeat) \n",
    "print()\n",
    "print('best best_f1_down:', best_f1_down)\n",
    "print('При fraction:', best_fraction) "
   ]
  },
  {
   "cell_type": "code",
   "execution_count": 52,
   "metadata": {},
   "outputs": [
    {
     "data": {
      "image/png": "[encoded data removed]",
      "text/plain": [
       "<Figure size 432x288 with 1 Axes>"
      ]
     },
     "metadata": {
      "needs_background": "light"
     },
     "output_type": "display_data"
    }
   ],
   "source": [
    "plt.figure()\n",
    "plt.plot(repeat_list, f1_up_list,  label='UP', )\n",
    "plt.plot(repeat_list, f1_down_list, label='Down')\n",
    "plt.grid()"
   ]
  },
  {
   "cell_type": "markdown",
   "metadata": {},
   "source": [
    "Увеличение количества объектов положительного класса сильнее влият на результат, но и уменьшение отрицательного класса позваляет результатк улучшить.<br>\n",
    "Так же на графике хорошо видно, как при продолжительном увеличении, так и при уменьшении эффект теряеться.<br><br>\n",
    "Т.к. оба способа подходять для увелечения эффективности модели, попробуем использовать оба одновременно, перебирая возможные сочетания параметров:"
   ]
  },
  {
   "cell_type": "code",
   "execution_count": 53,
   "metadata": {},
   "outputs": [],
   "source": [
    "best_f1_up = 0\n",
    "best_f1_down = 0\n",
    "metrics = []\n",
    "\n",
    "for repeat in range(1, 10):\n",
    "    for i in range(1, 100, 10):\n",
    "        fraction = i / 100\n",
    "\n",
    "        features_upsampled, target_upsampled = upsample(train_features, train_target, repeat)\n",
    "        features_downsampled, target_downsampled = downsample(features_upsampled, target_upsampled, fraction)\n",
    "\n",
    "        best_model.fit(features_downsampled, target_downsampled)\n",
    "        valid_prediction = best_model.predict(valid_features)\n",
    "        f1 = f1_score(valid_target, valid_prediction)\n",
    "        \n",
    "        metrics.append({\n",
    "            'repeat':repeat,\n",
    "            'fraction':fraction,\n",
    "            'f1':f1\n",
    "        })"
   ]
  },
  {
   "cell_type": "code",
   "execution_count": 54,
   "metadata": {},
   "outputs": [
    {
     "data": {
      "text/html": [
       "<div>\n",
       "<style scoped>\n",
       "    .dataframe tbody tr th:only-of-type {\n",
       "        vertical-align: middle;\n",
       "    }\n",
       "\n",
       "    .dataframe tbody tr th {\n",
       "        vertical-align: top;\n",
       "    }\n",
       "\n",
       "    .dataframe thead th {\n",
       "        text-align: right;\n",
       "    }\n",
       "</style>\n",
       "<table border=\"1\" class=\"dataframe\">\n",
       "  <thead>\n",
       "    <tr style=\"text-align: right;\">\n",
       "      <th></th>\n",
       "      <th>repeat</th>\n",
       "      <th>fraction</th>\n",
       "      <th>f1</th>\n",
       "    </tr>\n",
       "  </thead>\n",
       "  <tbody>\n",
       "    <tr>\n",
       "      <th>19</th>\n",
       "      <td>2</td>\n",
       "      <td>0.91</td>\n",
       "      <td>0.582152</td>\n",
       "    </tr>\n",
       "  </tbody>\n",
       "</table>\n",
       "</div>"
      ],
      "text/plain": [
       "    repeat  fraction        f1\n",
       "19       2      0.91  0.582152"
      ]
     },
     "execution_count": 54,
     "metadata": {},
     "output_type": "execute_result"
    }
   ],
   "source": [
    "metrics = pd.DataFrame(metrics)\n",
    "metrics[metrics['f1'] == metrics['f1'].max()]"
   ]
  },
  {
   "cell_type": "markdown",
   "metadata": {},
   "source": [
    "Лучшая комбинация параметров:\n",
    "<ul>\n",
    "    <li>repeat = 1</li>\n",
    "    <li>fraction = 0.4</li>\n",
    "</ul><br>\n",
    "`repeat = 1` – означет, что увеличения выборки с объектами положительного класса и вовсе не происходит, но для удобства, так всё и оставми пока.<br>\n",
    "График ниже, наглядно демонстрирует итеративный перебор двух параметров:"
   ]
  },
  {
   "cell_type": "code",
   "execution_count": 55,
   "metadata": {},
   "outputs": [
    {
     "data": {
      "text/plain": [
       "<AxesSubplot:>"
      ]
     },
     "execution_count": 55,
     "metadata": {},
     "output_type": "execute_result"
    },
    {
     "data": {
      "image/png": "[encoded data removed]",
      "text/plain": [
       "<Figure size 432x288 with 1 Axes>"
      ]
     },
     "metadata": {
      "needs_background": "light"
     },
     "output_type": "display_data"
    }
   ],
   "source": [
    "metrics['f1'].plot.line()"
   ]
  },
  {
   "cell_type": "code",
   "execution_count": 56,
   "metadata": {},
   "outputs": [
    {
     "data": {
      "text/plain": [
       "{'accuracy': 0.8006666666666666,\n",
       " 'recall_score': 0.6501706484641638,\n",
       " 'precision_score': 0.49224806201550386,\n",
       " 'f1_score': 0.5602941176470588,\n",
       " 'auc_roc': 0.8184894853966198}"
      ]
     },
     "execution_count": 56,
     "metadata": {},
     "output_type": "execute_result"
    }
   ],
   "source": [
    "repeat = 1\n",
    "fraction = 0.41\n",
    "\n",
    "features_upsampled, target_upsampled = upsample(train_features, train_target, repeat)\n",
    "features_downsampled, target_downsampled = downsample(features_upsampled, target_upsampled, fraction)\n",
    "\n",
    "best_model.fit(features_downsampled, target_downsampled)\n",
    "valid_prediction = best_model.predict(valid_features)\n",
    "valid_probabilities = best_model.predict_proba(valid_features)\n",
    "\n",
    "add_model_chars(valid_prediction, valid_target, valid_probabilities, models_type='DTC_sample_balanced')"
   ]
  },
  {
   "cell_type": "markdown",
   "metadata": {},
   "source": [
    "Удалось добиться увеличения f1 до приемлмого показателя."
   ]
  },
  {
   "cell_type": "markdown",
   "metadata": {},
   "source": [
    "Посмотрим результаты изменяя порог (threshold):"
   ]
  },
  {
   "cell_type": "code",
   "execution_count": 57,
   "metadata": {},
   "outputs": [],
   "source": [
    "metrics = []\n",
    "probabilities_one_valid = valid_probabilities[:, 1]\n",
    "\n",
    "for threshold in np.arange(0, 0.8, 0.02):\n",
    "    predicted_valid = [int(probabilit > threshold) for probabilit in probabilities_one_valid] \n",
    "\n",
    "    metrics.append({\n",
    "            'threshold':threshold,\n",
    "            'precision':precision_score(valid_target, predicted_valid),\n",
    "            'recall':recall_score (valid_target, predicted_valid),\n",
    "            'f1':f1_score(valid_target, predicted_valid),\n",
    "        })"
   ]
  },
  {
   "cell_type": "code",
   "execution_count": 58,
   "metadata": {},
   "outputs": [
    {
     "data": {
      "text/plain": [
       "<AxesSubplot:xlabel='threshold'>"
      ]
     },
     "execution_count": 58,
     "metadata": {},
     "output_type": "execute_result"
    },
    {
     "data": {
      "image/png": "[encoded data removed]",
      "text/plain": [
       "<Figure size 432x288 with 1 Axes>"
      ]
     },
     "metadata": {
      "needs_background": "light"
     },
     "output_type": "display_data"
    }
   ],
   "source": [
    "pd.DataFrame(metrics).plot.line(x='threshold', y='f1', grid=True)"
   ]
  },
  {
   "cell_type": "code",
   "execution_count": 59,
   "metadata": {},
   "outputs": [
    {
     "data": {
      "text/html": [
       "<div>\n",
       "<style scoped>\n",
       "    .dataframe tbody tr th:only-of-type {\n",
       "        vertical-align: middle;\n",
       "    }\n",
       "\n",
       "    .dataframe tbody tr th {\n",
       "        vertical-align: top;\n",
       "    }\n",
       "\n",
       "    .dataframe thead th {\n",
       "        text-align: right;\n",
       "    }\n",
       "</style>\n",
       "<table border=\"1\" class=\"dataframe\">\n",
       "  <thead>\n",
       "    <tr style=\"text-align: right;\">\n",
       "      <th></th>\n",
       "      <th>threshold</th>\n",
       "      <th>precision</th>\n",
       "      <th>recall</th>\n",
       "      <th>f1</th>\n",
       "    </tr>\n",
       "  </thead>\n",
       "  <tbody>\n",
       "    <tr>\n",
       "      <th>26</th>\n",
       "      <td>0.52</td>\n",
       "      <td>0.550079</td>\n",
       "      <td>0.590444</td>\n",
       "      <td>0.569547</td>\n",
       "    </tr>\n",
       "    <tr>\n",
       "      <th>27</th>\n",
       "      <td>0.54</td>\n",
       "      <td>0.550079</td>\n",
       "      <td>0.590444</td>\n",
       "      <td>0.569547</td>\n",
       "    </tr>\n",
       "    <tr>\n",
       "      <th>28</th>\n",
       "      <td>0.56</td>\n",
       "      <td>0.550079</td>\n",
       "      <td>0.590444</td>\n",
       "      <td>0.569547</td>\n",
       "    </tr>\n",
       "    <tr>\n",
       "      <th>29</th>\n",
       "      <td>0.58</td>\n",
       "      <td>0.550079</td>\n",
       "      <td>0.590444</td>\n",
       "      <td>0.569547</td>\n",
       "    </tr>\n",
       "    <tr>\n",
       "      <th>30</th>\n",
       "      <td>0.60</td>\n",
       "      <td>0.550079</td>\n",
       "      <td>0.590444</td>\n",
       "      <td>0.569547</td>\n",
       "    </tr>\n",
       "    <tr>\n",
       "      <th>31</th>\n",
       "      <td>0.62</td>\n",
       "      <td>0.550079</td>\n",
       "      <td>0.590444</td>\n",
       "      <td>0.569547</td>\n",
       "    </tr>\n",
       "    <tr>\n",
       "      <th>32</th>\n",
       "      <td>0.64</td>\n",
       "      <td>0.550079</td>\n",
       "      <td>0.590444</td>\n",
       "      <td>0.569547</td>\n",
       "    </tr>\n",
       "  </tbody>\n",
       "</table>\n",
       "</div>"
      ],
      "text/plain": [
       "    threshold  precision    recall        f1\n",
       "26       0.52   0.550079  0.590444  0.569547\n",
       "27       0.54   0.550079  0.590444  0.569547\n",
       "28       0.56   0.550079  0.590444  0.569547\n",
       "29       0.58   0.550079  0.590444  0.569547\n",
       "30       0.60   0.550079  0.590444  0.569547\n",
       "31       0.62   0.550079  0.590444  0.569547\n",
       "32       0.64   0.550079  0.590444  0.569547"
      ]
     },
     "execution_count": 59,
     "metadata": {},
     "output_type": "execute_result"
    }
   ],
   "source": [
    "metrics = pd.DataFrame(metrics)\n",
    "metrics[metrics['f1'] == metrics['f1'].max()]"
   ]
  },
  {
   "cell_type": "code",
   "execution_count": 60,
   "metadata": {},
   "outputs": [],
   "source": [
    "valid_prediction = [int(probabilit > 0.52) for probabilit in probabilities_one_valid] "
   ]
  },
  {
   "cell_type": "code",
   "execution_count": 61,
   "metadata": {},
   "outputs": [
    {
     "data": {
      "text/plain": [
       "{'accuracy': 0.8256666666666667,\n",
       " 'recall_score': 0.590443686006826,\n",
       " 'precision_score': 0.5500794912559619,\n",
       " 'f1_score': 0.5695473251028806,\n",
       " 'auc_roc': 0.8184894853966198}"
      ]
     },
     "execution_count": 61,
     "metadata": {},
     "output_type": "execute_result"
    }
   ],
   "source": [
    "add_model_chars(valid_prediction, valid_target, valid_probabilities, models_type='DTC_sample_balanced_thresholded')"
   ]
  },
  {
   "cell_type": "markdown",
   "metadata": {},
   "source": [
    "Добиться улучшения модели за счёт изменения порога не удалось. Но ранее, при выполнении работы, я пробовал методы борьбы с дисбалансом на модели \"Случайны лес\" и там удалос достичь более внушительных результатов. По этому, повторю все теже дествия ещё раз. но со случайным лесом:"
   ]
  },
  {
   "cell_type": "markdown",
   "metadata": {},
   "source": [
    "### Для случайного леса"
   ]
  },
  {
   "cell_type": "markdown",
   "metadata": {},
   "source": [
    "Снова обучим модель:"
   ]
  },
  {
   "cell_type": "code",
   "execution_count": 62,
   "metadata": {},
   "outputs": [
    {
     "name": "stdout",
     "output_type": "stream",
     "text": [
      "best accuracy_score: 0.859\n",
      "При depth: 6\n",
      "f1_score 0.4990859232175502\n"
     ]
    }
   ],
   "source": [
    "best_result = 0\n",
    "\n",
    "for depth in  range(1, 16, 1):\n",
    "    model = RandomForestClassifier(random_state=12345, n_estimators=3, max_depth=depth, \n",
    "    # class_weight='balanced'\n",
    "    )\n",
    "    model.fit(train_features, train_target) # обучите модель на тренировочной выборке\n",
    "    valid_prediction = model.predict(valid_features) # получите предсказания модели на валидационной выборке\n",
    "    result =  accuracy_score(valid_prediction, valid_target)\n",
    "    if result > best_result:\n",
    "\n",
    "        best_result = result\n",
    "        best_depth = depth\n",
    "\n",
    "print('best accuracy_score:', best_result)\n",
    "print('При depth:', best_depth)\n",
    "print('f1_score', f1_score(valid_target, valid_prediction))"
   ]
  },
  {
   "cell_type": "code",
   "execution_count": 63,
   "metadata": {},
   "outputs": [
    {
     "name": "stdout",
     "output_type": "stream",
     "text": [
      "best accuracy_score: 0.8616666666666667\n",
      "При n_estimators: 40\n",
      "f1_score 0.5228310502283104\n",
      "\n",
      "best_f1: 0.5421166306695464\n",
      "При n_estimators: 10\n",
      "При этом accuracy: 0.8586666666666667\n"
     ]
    }
   ],
   "source": [
    "best_result_accuracy = 0\n",
    "best_f1 = 0\n",
    "\n",
    "f1_list              = []\n",
    "accuracy_score_list  = []\n",
    "n_estimators_list    = []\n",
    "\n",
    "for n_estimators in range(10, 200, 10):\n",
    "    model = RandomForestClassifier(random_state=12345, n_estimators=n_estimators, max_depth=best_depth)\n",
    "    model.fit(train_features, train_target) # обучите модель на тренировочной выборке\n",
    "    valid_prediction = model.predict(valid_features) # получите предсказания модели на валидационной выборке\n",
    "    result =  accuracy_score(valid_prediction, valid_target)\n",
    "    f1 = f1_score(valid_target, valid_prediction)\n",
    "    accuracy_score_list.append(result)\n",
    "    f1_list.append(f1)\n",
    "    n_estimators_list.append(n_estimators)\n",
    "\n",
    "    if result > best_result_accuracy:\n",
    "        best_model = model\n",
    "        best_result_accuracy = result\n",
    "        best_n_estimators = n_estimators\n",
    "\n",
    "    if  f1 > best_f1:\n",
    "        best_f1 = f1\n",
    "        best_n_estimators_for_f1 = n_estimators\n",
    "        accuracy_for_f1 = result\n",
    "\n",
    "\n",
    "print('best accuracy_score:', best_result_accuracy)\n",
    "print('При n_estimators:', best_n_estimators)   \n",
    "print('f1_score', f1_score(valid_target, valid_prediction))\n",
    "print()\n",
    "print('best_f1:', best_f1) \n",
    "print('При n_estimators:', best_n_estimators_for_f1)\n",
    "print('При этом accuracy:', accuracy_for_f1)\n",
    "\n"
   ]
  },
  {
   "cell_type": "markdown",
   "metadata": {},
   "source": [
    "Повторим исследование влияния метода (увелечение/уменьшение выборки) на показатели модели:"
   ]
  },
  {
   "cell_type": "code",
   "execution_count": 65,
   "metadata": {},
   "outputs": [
    {
     "name": "stdout",
     "output_type": "stream",
     "text": [
      "best f1_up: 0.6147798742138365\n",
      "При repeat: 3\n",
      "\n",
      "best best_f1_down: 0.6094100074682598\n",
      "При fraction: 0.3333333333333333\n"
     ]
    }
   ],
   "source": [
    "best_f1_up = 0\n",
    "best_f1_down = 0\n",
    "f1_up_list   = []\n",
    "f1_down_list = []\n",
    "repeat_list  = []\n",
    "\n",
    "\n",
    "for repeat in range(1, 50):\n",
    "    repeat_list.append(repeat)\n",
    "    # UP\n",
    "    features_upsampled, target_upsampled = upsample(train_features, train_target, repeat)\n",
    "    best_model.fit(features_upsampled, target_upsampled)\n",
    "    valid_prediction_up = best_model.predict(valid_features)\n",
    "    f1_up =  f1_score(valid_target, valid_prediction_up)\n",
    "    f1_up_list.append(f1_up)\n",
    "\n",
    "    # DOWN\n",
    "    fraction = 1 / repeat\n",
    "    features_downsampled, target_downsampled = downsample(train_features, train_target, fraction)\n",
    "    best_model.fit(features_downsampled, target_downsampled)\n",
    "    valid_prediction_down = best_model.predict(valid_features)\n",
    "    f1_down = f1_score(valid_target, valid_prediction_down)\n",
    "    f1_down_list.append(f1_down)\n",
    "\n",
    "    if f1_up > best_f1_up:\n",
    "        best_f1_up = f1_up\n",
    "        best_repeat = repeat\n",
    "\n",
    "    if f1_down > best_f1_down:\n",
    "        best_f1_down = f1_down\n",
    "        best_fraction = fraction\n",
    "\n",
    "\n",
    "print('best f1_up:', best_f1_up)\n",
    "print('При repeat:', best_repeat) \n",
    "print()\n",
    "print('best best_f1_down:', best_f1_down)\n",
    "print('При fraction:', best_fraction) "
   ]
  },
  {
   "cell_type": "code",
   "execution_count": 66,
   "metadata": {},
   "outputs": [
    {
     "data": {
      "image/png": "[encoded data removed]",
      "text/plain": [
       "<Figure size 432x288 with 1 Axes>"
      ]
     },
     "metadata": {
      "needs_background": "light"
     },
     "output_type": "display_data"
    }
   ],
   "source": [
    "plt.figure()\n",
    "plt.plot(repeat_list, f1_up_list,  label='UP', )\n",
    "plt.plot(repeat_list, f1_down_list, label='Down')\n",
    "plt.grid()"
   ]
  },
  {
   "cell_type": "markdown",
   "metadata": {},
   "source": [
    "Даже график при работе со случайным лесом выглядит более интересным и плавным. Но вы вод такой же"
   ]
  },
  {
   "cell_type": "code",
   "execution_count": 67,
   "metadata": {},
   "outputs": [],
   "source": [
    "best_f1_up = 0\n",
    "best_f1_down = 0\n",
    "metrics = []\n",
    "\n",
    "for repeat in range(1, 10):\n",
    "    for i in range(1, 100, 10):\n",
    "        fraction = i / 100\n",
    "\n",
    "        features_upsampled, target_upsampled = upsample(train_features, train_target, repeat)\n",
    "        features_downsampled, target_downsampled = downsample(features_upsampled, target_upsampled, fraction)\n",
    "\n",
    "        best_model.fit(features_downsampled, target_downsampled)\n",
    "        valid_prediction = best_model.predict(valid_features)\n",
    "        f1 = f1_score(valid_target, valid_prediction)\n",
    "        \n",
    "        metrics.append({\n",
    "            'repeat':repeat,\n",
    "            'fraction':fraction,\n",
    "            'f1':f1\n",
    "        })"
   ]
  },
  {
   "cell_type": "code",
   "execution_count": 68,
   "metadata": {},
   "outputs": [
    {
     "data": {
      "text/html": [
       "<div>\n",
       "<style scoped>\n",
       "    .dataframe tbody tr th:only-of-type {\n",
       "        vertical-align: middle;\n",
       "    }\n",
       "\n",
       "    .dataframe tbody tr th {\n",
       "        vertical-align: top;\n",
       "    }\n",
       "\n",
       "    .dataframe thead th {\n",
       "        text-align: right;\n",
       "    }\n",
       "</style>\n",
       "<table border=\"1\" class=\"dataframe\">\n",
       "  <thead>\n",
       "    <tr style=\"text-align: right;\">\n",
       "      <th></th>\n",
       "      <th>repeat</th>\n",
       "      <th>fraction</th>\n",
       "      <th>f1</th>\n",
       "    </tr>\n",
       "  </thead>\n",
       "  <tbody>\n",
       "    <tr>\n",
       "      <th>17</th>\n",
       "      <td>2</td>\n",
       "      <td>0.71</td>\n",
       "      <td>0.618327</td>\n",
       "    </tr>\n",
       "  </tbody>\n",
       "</table>\n",
       "</div>"
      ],
      "text/plain": [
       "    repeat  fraction        f1\n",
       "17       2      0.71  0.618327"
      ]
     },
     "execution_count": 68,
     "metadata": {},
     "output_type": "execute_result"
    }
   ],
   "source": [
    "metrics = pd.DataFrame(metrics)\n",
    "metrics[metrics['f1'] == metrics['f1'].max()]"
   ]
  },
  {
   "cell_type": "markdown",
   "metadata": {},
   "source": [
    "Лучшая комбинация параметров:\n",
    "<ul>\n",
    "    <li>repeat = 2</li>\n",
    "    <li>fraction = 0.61</li>\n",
    "</ul><br>\n",
    "В отличии от \"дерева\" в \"лесу\" мы уже что-то увеличиваем, а что-то уменьшаем"
   ]
  },
  {
   "cell_type": "code",
   "execution_count": 69,
   "metadata": {},
   "outputs": [
    {
     "data": {
      "text/plain": [
       "<AxesSubplot:>"
      ]
     },
     "execution_count": 69,
     "metadata": {},
     "output_type": "execute_result"
    },
    {
     "data": {
      "image/png": "[encoded data removed]",
      "text/plain": [
       "<Figure size 432x288 with 1 Axes>"
      ]
     },
     "metadata": {
      "needs_background": "light"
     },
     "output_type": "display_data"
    }
   ],
   "source": [
    "metrics['f1'].plot.line()"
   ]
  },
  {
   "cell_type": "code",
   "execution_count": 70,
   "metadata": {},
   "outputs": [
    {
     "data": {
      "text/plain": [
       "{'accuracy': 0.8266666666666667,\n",
       " 'recall_score': 0.7064846416382252,\n",
       " 'precision_score': 0.5433070866141733,\n",
       " 'f1_score': 0.6142433234421365,\n",
       " 'auc_roc': 0.8569822367249068}"
      ]
     },
     "execution_count": 70,
     "metadata": {},
     "output_type": "execute_result"
    }
   ],
   "source": [
    "repeat = 2\n",
    "fraction = 0.61\n",
    "\n",
    "features_upsampled, target_upsampled = upsample(train_features, train_target, repeat)\n",
    "features_downsampled, target_downsampled = downsample(features_upsampled, target_upsampled, fraction)\n",
    "\n",
    "best_model.fit(features_downsampled, target_downsampled)\n",
    "valid_prediction = best_model.predict(valid_features)\n",
    "valid_probabilities = best_model.predict_proba(valid_features)\n",
    "\n",
    "add_model_chars(valid_prediction, valid_target, valid_probabilities, models_type='DTC_sample_balanced')"
   ]
  },
  {
   "cell_type": "markdown",
   "metadata": {},
   "source": [
    "После обработки обучающей выборки \"Случайный лес\" покуазывает больший прирост f1, чем \"дерево\""
   ]
  },
  {
   "cell_type": "markdown",
   "metadata": {},
   "source": [
    "Посмотрим результаты изменяя порог (threshold):"
   ]
  },
  {
   "cell_type": "code",
   "execution_count": 71,
   "metadata": {},
   "outputs": [],
   "source": [
    "metrics = []\n",
    "probabilities_one_valid = valid_probabilities[:, 1]\n",
    "\n",
    "for threshold in np.arange(0, 0.8, 0.02):\n",
    "    predicted_valid = [int(probabilit > threshold) for probabilit in probabilities_one_valid] \n",
    "\n",
    "    metrics.append({\n",
    "            'threshold':threshold,\n",
    "            'precision':precision_score(valid_target, predicted_valid),\n",
    "            'recall':recall_score (valid_target, predicted_valid),\n",
    "            'f1':f1_score(valid_target, predicted_valid),\n",
    "        })"
   ]
  },
  {
   "cell_type": "code",
   "execution_count": 72,
   "metadata": {},
   "outputs": [
    {
     "data": {
      "text/plain": [
       "<AxesSubplot:xlabel='threshold'>"
      ]
     },
     "execution_count": 72,
     "metadata": {},
     "output_type": "execute_result"
    },
    {
     "data": {
      "image/png": "[encoded data removed]",
      "text/plain": [
       "<Figure size 432x288 with 1 Axes>"
      ]
     },
     "metadata": {
      "needs_background": "light"
     },
     "output_type": "display_data"
    }
   ],
   "source": [
    "pd.DataFrame(metrics).plot.line(x='threshold', y='f1', grid=True)"
   ]
  },
  {
   "cell_type": "markdown",
   "metadata": {},
   "source": [
    "График, вновь, более плавный"
   ]
  },
  {
   "cell_type": "code",
   "execution_count": 73,
   "metadata": {},
   "outputs": [
    {
     "data": {
      "text/html": [
       "<div>\n",
       "<style scoped>\n",
       "    .dataframe tbody tr th:only-of-type {\n",
       "        vertical-align: middle;\n",
       "    }\n",
       "\n",
       "    .dataframe tbody tr th {\n",
       "        vertical-align: top;\n",
       "    }\n",
       "\n",
       "    .dataframe thead th {\n",
       "        text-align: right;\n",
       "    }\n",
       "</style>\n",
       "<table border=\"1\" class=\"dataframe\">\n",
       "  <thead>\n",
       "    <tr style=\"text-align: right;\">\n",
       "      <th></th>\n",
       "      <th>threshold</th>\n",
       "      <th>precision</th>\n",
       "      <th>recall</th>\n",
       "      <th>f1</th>\n",
       "    </tr>\n",
       "  </thead>\n",
       "  <tbody>\n",
       "    <tr>\n",
       "      <th>27</th>\n",
       "      <td>0.54</td>\n",
       "      <td>0.584615</td>\n",
       "      <td>0.648464</td>\n",
       "      <td>0.614887</td>\n",
       "    </tr>\n",
       "  </tbody>\n",
       "</table>\n",
       "</div>"
      ],
      "text/plain": [
       "    threshold  precision    recall        f1\n",
       "27       0.54   0.584615  0.648464  0.614887"
      ]
     },
     "execution_count": 73,
     "metadata": {},
     "output_type": "execute_result"
    }
   ],
   "source": [
    "metrics = pd.DataFrame(metrics)\n",
    "metrics[metrics['f1'] == metrics['f1'].max()]"
   ]
  },
  {
   "cell_type": "code",
   "execution_count": 76,
   "metadata": {},
   "outputs": [],
   "source": [
    "valid_prediction = [int(probabilit > 0.54) for probabilit in probabilities_one_valid] "
   ]
  },
  {
   "cell_type": "code",
   "execution_count": 77,
   "metadata": {},
   "outputs": [
    {
     "data": {
      "text/plain": [
       "{'accuracy': 0.8413333333333334,\n",
       " 'recall_score': 0.6484641638225256,\n",
       " 'precision_score': 0.5846153846153846,\n",
       " 'f1_score': 0.6148867313915858,\n",
       " 'auc_roc': 0.8569822367249068}"
      ]
     },
     "execution_count": 77,
     "metadata": {},
     "output_type": "execute_result"
    }
   ],
   "source": [
    "add_model_chars(valid_prediction, valid_target, valid_probabilities, models_type='RFC_sample_balanced_thresholded')"
   ]
  },
  {
   "cell_type": "code",
   "execution_count": 78,
   "metadata": {},
   "outputs": [
    {
     "data": {
      "text/html": [
       "<div>\n",
       "<style scoped>\n",
       "    .dataframe tbody tr th:only-of-type {\n",
       "        vertical-align: middle;\n",
       "    }\n",
       "\n",
       "    .dataframe tbody tr th {\n",
       "        vertical-align: top;\n",
       "    }\n",
       "\n",
       "    .dataframe thead th {\n",
       "        text-align: right;\n",
       "    }\n",
       "</style>\n",
       "<table border=\"1\" class=\"dataframe\">\n",
       "  <thead>\n",
       "    <tr style=\"text-align: right;\">\n",
       "      <th></th>\n",
       "      <th>LR</th>\n",
       "      <th>DTC</th>\n",
       "      <th>RFC</th>\n",
       "      <th>DTC_sample_balanced</th>\n",
       "      <th>DTC_sample_balanced_thresholded</th>\n",
       "      <th>RFC_sample_balanced_thresholded</th>\n",
       "    </tr>\n",
       "  </thead>\n",
       "  <tbody>\n",
       "    <tr>\n",
       "      <th>accuracy</th>\n",
       "      <td>0.808667</td>\n",
       "      <td>0.862000</td>\n",
       "      <td>0.861667</td>\n",
       "      <td>0.826667</td>\n",
       "      <td>0.825667</td>\n",
       "      <td>0.841333</td>\n",
       "    </tr>\n",
       "    <tr>\n",
       "      <th>recall_score</th>\n",
       "      <td>0.237201</td>\n",
       "      <td>0.433447</td>\n",
       "      <td>0.389078</td>\n",
       "      <td>0.706485</td>\n",
       "      <td>0.590444</td>\n",
       "      <td>0.648464</td>\n",
       "    </tr>\n",
       "    <tr>\n",
       "      <th>precision_score</th>\n",
       "      <td>0.522556</td>\n",
       "      <td>0.755952</td>\n",
       "      <td>0.800000</td>\n",
       "      <td>0.543307</td>\n",
       "      <td>0.550079</td>\n",
       "      <td>0.584615</td>\n",
       "    </tr>\n",
       "    <tr>\n",
       "      <th>f1_score</th>\n",
       "      <td>0.326291</td>\n",
       "      <td>0.550976</td>\n",
       "      <td>0.523536</td>\n",
       "      <td>0.614243</td>\n",
       "      <td>0.569547</td>\n",
       "      <td>0.614887</td>\n",
       "    </tr>\n",
       "    <tr>\n",
       "      <th>auc_roc</th>\n",
       "      <td>0.759008</td>\n",
       "      <td>0.842088</td>\n",
       "      <td>0.850484</td>\n",
       "      <td>0.856982</td>\n",
       "      <td>0.818489</td>\n",
       "      <td>0.856982</td>\n",
       "    </tr>\n",
       "  </tbody>\n",
       "</table>\n",
       "</div>"
      ],
      "text/plain": [
       "                       LR       DTC       RFC  DTC_sample_balanced  \\\n",
       "accuracy         0.808667  0.862000  0.861667             0.826667   \n",
       "recall_score     0.237201  0.433447  0.389078             0.706485   \n",
       "precision_score  0.522556  0.755952  0.800000             0.543307   \n",
       "f1_score         0.326291  0.550976  0.523536             0.614243   \n",
       "auc_roc          0.759008  0.842088  0.850484             0.856982   \n",
       "\n",
       "                 DTC_sample_balanced_thresholded  \\\n",
       "accuracy                                0.825667   \n",
       "recall_score                            0.590444   \n",
       "precision_score                         0.550079   \n",
       "f1_score                                0.569547   \n",
       "auc_roc                                 0.818489   \n",
       "\n",
       "                 RFC_sample_balanced_thresholded  \n",
       "accuracy                                0.841333  \n",
       "recall_score                            0.648464  \n",
       "precision_score                         0.584615  \n",
       "f1_score                                0.614887  \n",
       "auc_roc                                 0.856982  "
      ]
     },
     "execution_count": 78,
     "metadata": {},
     "output_type": "execute_result"
    }
   ],
   "source": [
    "pd.DataFrame(models_chars)"
   ]
  },
  {
   "cell_type": "markdown",
   "metadata": {},
   "source": [
    "<div class=\"alert alert-block alert-success\">\n",
    "<b>✔️ Успех:</b>\n",
    "\n",
    "По модельной части замечаний нет!) Все этапы выполнены отлично 👍\n",
    "</div>"
   ]
  },
  {
   "cell_type": "markdown",
   "metadata": {},
   "source": [
    "## Тестирование модели"
   ]
  },
  {
   "cell_type": "markdown",
   "metadata": {},
   "source": [
    "Проверим нашу модель (пусть остаётся \"лес\") на валидационной выборке"
   ]
  },
  {
   "cell_type": "code",
   "execution_count": 79,
   "metadata": {},
   "outputs": [],
   "source": [
    "prediction = best_model.predict(test_features)"
   ]
  },
  {
   "cell_type": "markdown",
   "metadata": {},
   "source": [
    "Создаим target-набор сотоящий только из отрицательных меток: "
   ]
  },
  {
   "cell_type": "code",
   "execution_count": 80,
   "metadata": {},
   "outputs": [],
   "source": [
    "target_pred_constant = pd.Series(0, valid_target.index)"
   ]
  },
  {
   "cell_type": "code",
   "execution_count": 81,
   "metadata": {},
   "outputs": [
    {
     "data": {
      "text/plain": [
       "0.824"
      ]
     },
     "execution_count": 81,
     "metadata": {},
     "output_type": "execute_result"
    }
   ],
   "source": [
    "accuracy_score(test_target, prediction)"
   ]
  },
  {
   "cell_type": "code",
   "execution_count": 83,
   "metadata": {},
   "outputs": [
    {
     "data": {
      "text/plain": [
       "0.7976666666666666"
      ]
     },
     "execution_count": 83,
     "metadata": {},
     "output_type": "execute_result"
    }
   ],
   "source": [
    "accuracy_score(test_target, target_pred_constant)"
   ]
  },
  {
   "cell_type": "code",
   "execution_count": 85,
   "metadata": {},
   "outputs": [
    {
     "data": {
      "text/plain": [
       "0.6100443131462334"
      ]
     },
     "execution_count": 85,
     "metadata": {},
     "output_type": "execute_result"
    }
   ],
   "source": [
    "f1_score(test_target, prediction)"
   ]
  },
  {
   "cell_type": "markdown",
   "metadata": {},
   "source": [
    "Наша модель показывает большую точность чем \"случайные\" ответы. Метрика f1 привысила плановое значение. Считаю проверку пройденой :)"
   ]
  },
  {
   "cell_type": "markdown",
   "metadata": {},
   "source": [
    "<div class=\"alert alert-block alert-danger\">\n",
    "<b>❌ Замечание:</b>\n",
    "\n",
    "В тестировании нужно предсказывать тестовую выборку)\n",
    "</div>"
   ]
  },
  {
   "cell_type": "markdown",
   "metadata": {},
   "source": [
    "<div class=\"alert alert-block alert-info\">\n",
    "Переписал код раздела на проверку на тестовой выборке. Раньше было на валидационной\n",
    "</div>"
   ]
  },
  {
   "cell_type": "markdown",
   "metadata": {},
   "source": [
    "## Общий вывод проекта"
   ]
  },
  {
   "cell_type": "markdown",
   "metadata": {},
   "source": [
    "В общем выводе счита важным отметисть следующее: до примененния методов борьбы с дисбалансом классов, модель \"Решаюшего дерева\" имела более высокие показатели, но модель \"случайного леса\" лучше реагировала на борьбу с дисбалансом и обогнала \"дерево\" по показателям. Но с учетом не большой разници в итоговых показателях и того что обе модели превзошли плановоге значение `f1 = 0.59`, а модель \"дерева\" обрабатывает данные в 10 раз быстрее, возможно правельным решением для бизнеса будет, использовать в production`е именно её."
   ]
  },
  {
   "cell_type": "markdown",
   "metadata": {},
   "source": [
    "Сравнение показателей моделей:"
   ]
  },
  {
   "cell_type": "code",
   "execution_count": 86,
   "metadata": {},
   "outputs": [
    {
     "data": {
      "text/html": [
       "<div>\n",
       "<style scoped>\n",
       "    .dataframe tbody tr th:only-of-type {\n",
       "        vertical-align: middle;\n",
       "    }\n",
       "\n",
       "    .dataframe tbody tr th {\n",
       "        vertical-align: top;\n",
       "    }\n",
       "\n",
       "    .dataframe thead th {\n",
       "        text-align: right;\n",
       "    }\n",
       "</style>\n",
       "<table border=\"1\" class=\"dataframe\">\n",
       "  <thead>\n",
       "    <tr style=\"text-align: right;\">\n",
       "      <th></th>\n",
       "      <th>LR</th>\n",
       "      <th>DTC</th>\n",
       "      <th>RFC</th>\n",
       "      <th>DTC_sample_balanced</th>\n",
       "      <th>DTC_sample_balanced_thresholded</th>\n",
       "      <th>RFC_sample_balanced_thresholded</th>\n",
       "    </tr>\n",
       "  </thead>\n",
       "  <tbody>\n",
       "    <tr>\n",
       "      <th>accuracy</th>\n",
       "      <td>0.808667</td>\n",
       "      <td>0.862000</td>\n",
       "      <td>0.861667</td>\n",
       "      <td>0.826667</td>\n",
       "      <td>0.825667</td>\n",
       "      <td>0.841333</td>\n",
       "    </tr>\n",
       "    <tr>\n",
       "      <th>recall_score</th>\n",
       "      <td>0.237201</td>\n",
       "      <td>0.433447</td>\n",
       "      <td>0.389078</td>\n",
       "      <td>0.706485</td>\n",
       "      <td>0.590444</td>\n",
       "      <td>0.648464</td>\n",
       "    </tr>\n",
       "    <tr>\n",
       "      <th>precision_score</th>\n",
       "      <td>0.522556</td>\n",
       "      <td>0.755952</td>\n",
       "      <td>0.800000</td>\n",
       "      <td>0.543307</td>\n",
       "      <td>0.550079</td>\n",
       "      <td>0.584615</td>\n",
       "    </tr>\n",
       "    <tr>\n",
       "      <th>f1_score</th>\n",
       "      <td>0.326291</td>\n",
       "      <td>0.550976</td>\n",
       "      <td>0.523536</td>\n",
       "      <td>0.614243</td>\n",
       "      <td>0.569547</td>\n",
       "      <td>0.614887</td>\n",
       "    </tr>\n",
       "    <tr>\n",
       "      <th>auc_roc</th>\n",
       "      <td>0.759008</td>\n",
       "      <td>0.842088</td>\n",
       "      <td>0.850484</td>\n",
       "      <td>0.856982</td>\n",
       "      <td>0.818489</td>\n",
       "      <td>0.856982</td>\n",
       "    </tr>\n",
       "  </tbody>\n",
       "</table>\n",
       "</div>"
      ],
      "text/plain": [
       "                       LR       DTC       RFC  DTC_sample_balanced  \\\n",
       "accuracy         0.808667  0.862000  0.861667             0.826667   \n",
       "recall_score     0.237201  0.433447  0.389078             0.706485   \n",
       "precision_score  0.522556  0.755952  0.800000             0.543307   \n",
       "f1_score         0.326291  0.550976  0.523536             0.614243   \n",
       "auc_roc          0.759008  0.842088  0.850484             0.856982   \n",
       "\n",
       "                 DTC_sample_balanced_thresholded  \\\n",
       "accuracy                                0.825667   \n",
       "recall_score                            0.590444   \n",
       "precision_score                         0.550079   \n",
       "f1_score                                0.569547   \n",
       "auc_roc                                 0.818489   \n",
       "\n",
       "                 RFC_sample_balanced_thresholded  \n",
       "accuracy                                0.841333  \n",
       "recall_score                            0.648464  \n",
       "precision_score                         0.584615  \n",
       "f1_score                                0.614887  \n",
       "auc_roc                                 0.856982  "
      ]
     },
     "execution_count": 86,
     "metadata": {},
     "output_type": "execute_result"
    }
   ],
   "source": [
    "pd.DataFrame(models_chars)"
   ]
  },
  {
   "cell_type": "markdown",
   "metadata": {},
   "source": [
    "<div class=\"alert alert-block alert-success\">\n",
    "<b>✔️ Успех:</b>\n",
    "\n",
    "Вывод соответствует исследованию 👍\n",
    "</div>"
   ]
  },
  {
   "cell_type": "markdown",
   "metadata": {},
   "source": [
    "# <font color='orange'>Общее впечатление</font>\n",
    "* Этот проект выполнен очень хорошо\n",
    "* Видно, что приложено много усилий\n",
    "* Молодец, что структурируешь ноутбук, приятно проверять такие работы\n",
    "* У тебя чистый и лаконичный код\n",
    "* Мне было интересно читать твои промежуточные выводы\n",
    "* Твой уровень подачи материала находится на высоком уровне\n",
    "* Исправь, пожалуйста, мои замечания. Затем отправляй на повторную проверку\n",
    "* Жду новую версию проекта 👋"
   ]
  },
  {
   "cell_type": "markdown",
   "metadata": {},
   "source": [
    "# <font color='orange'>Рекомендации 🔥</font>\n",
    "* Анализ данных на python и pandas https://www.youtube.com/watch?v=dd3RcafdOQk&t=82s\n",
    "* Курс \"Введение в машинное обучение\" https://stepik.org/course/4852\n",
    "* Разумные способы кодирования категориальных данных для машинного обучения https://machinelearningmastery.ru/smarter-ways-to-encode-categorical-data-for-machine-learning-part-1-of-3-6dca2f71b159/\n",
    "* Статья про \"непонятную\" метрику ROC-AUC https://dyakonov.org/2017/07/28/auc-roc-площадь-под-кривой-ошибок/\n",
    "* Хочешь подтянуть математику для DS?) https://academy.stepik.org/math-for-data-science\n",
    "* Результаты обучения моделей можно визуализировать 😎 https://www.datatechnotes.com/2019/08/elasticnet-regression-example-in-python.html\n",
    "* В нашем деле нужно быть всегда в курсе всех новинок, новостей и тд, вот тут публикуют новости в области DS: https://www.infoq.com/data-analysis/news/\n",
    "* Всем аналитикам данных рекомендую книгу Даниела Канемана \"Думай медленно, решай быстро\""
   ]
  }
 ],
 "metadata": {
  "ExecuteTimeLog": [
   {
    "duration": 4,
    "start_time": "2023-01-10T15:23:37.016Z"
   },
   {
    "duration": 49,
    "start_time": "2023-01-10T15:23:47.028Z"
   },
   {
    "duration": 8,
    "start_time": "2023-01-10T15:24:01.792Z"
   },
   {
    "duration": 118,
    "start_time": "2023-01-10T15:24:03.396Z"
   },
   {
    "duration": 59,
    "start_time": "2023-01-10T15:24:23.603Z"
   },
   {
    "duration": 173,
    "start_time": "2023-01-10T15:24:29.092Z"
   },
   {
    "duration": 18,
    "start_time": "2023-01-10T15:24:31.635Z"
   },
   {
    "duration": 14,
    "start_time": "2023-01-10T15:24:35.220Z"
   },
   {
    "duration": 7,
    "start_time": "2023-01-10T15:24:40.494Z"
   },
   {
    "duration": 12,
    "start_time": "2023-01-10T15:24:44.422Z"
   },
   {
    "duration": 9,
    "start_time": "2023-01-10T15:24:45.533Z"
   },
   {
    "duration": 6,
    "start_time": "2023-01-10T15:24:45.868Z"
   },
   {
    "duration": 4,
    "start_time": "2023-01-10T15:24:46.596Z"
   },
   {
    "duration": 8,
    "start_time": "2023-01-10T15:24:47.714Z"
   },
   {
    "duration": 7,
    "start_time": "2023-01-10T15:24:48.028Z"
   },
   {
    "duration": 6,
    "start_time": "2023-01-10T15:24:49.147Z"
   },
   {
    "duration": 6,
    "start_time": "2023-01-10T15:24:50.258Z"
   },
   {
    "duration": 13,
    "start_time": "2023-01-10T15:24:50.714Z"
   },
   {
    "duration": 4,
    "start_time": "2023-01-10T15:24:51.157Z"
   },
   {
    "duration": 10,
    "start_time": "2023-01-10T15:24:54.148Z"
   },
   {
    "duration": 136,
    "start_time": "2023-01-10T15:24:54.684Z"
   },
   {
    "duration": 4,
    "start_time": "2023-01-10T15:24:58.230Z"
   },
   {
    "duration": 2,
    "start_time": "2023-01-10T15:25:02.636Z"
   },
   {
    "duration": 3,
    "start_time": "2023-01-10T15:25:05.628Z"
   },
   {
    "duration": 6,
    "start_time": "2023-01-10T15:25:09.961Z"
   },
   {
    "duration": 75,
    "start_time": "2023-01-10T15:26:26.041Z"
   },
   {
    "duration": 3,
    "start_time": "2023-01-10T15:26:41.689Z"
   },
   {
    "duration": 4,
    "start_time": "2023-01-10T15:27:10.625Z"
   },
   {
    "duration": 3,
    "start_time": "2023-01-10T15:27:41.162Z"
   },
   {
    "duration": 6,
    "start_time": "2023-01-10T15:30:18.815Z"
   },
   {
    "duration": 9,
    "start_time": "2023-01-10T15:30:19.503Z"
   },
   {
    "duration": 13,
    "start_time": "2023-01-10T15:33:00.208Z"
   },
   {
    "duration": 8,
    "start_time": "2023-01-10T15:34:54.514Z"
   },
   {
    "duration": 4,
    "start_time": "2023-01-10T15:35:05.274Z"
   },
   {
    "duration": 3,
    "start_time": "2023-01-10T15:35:26.873Z"
   },
   {
    "duration": 6,
    "start_time": "2023-01-10T15:35:27.186Z"
   },
   {
    "duration": 15,
    "start_time": "2023-01-10T15:35:27.517Z"
   },
   {
    "duration": 7,
    "start_time": "2023-01-10T15:35:35.978Z"
   },
   {
    "duration": 5,
    "start_time": "2023-01-10T15:35:45.080Z"
   },
   {
    "duration": 10,
    "start_time": "2023-01-10T15:36:14.842Z"
   },
   {
    "duration": 9,
    "start_time": "2023-01-10T15:36:30.292Z"
   },
   {
    "duration": 31,
    "start_time": "2023-01-10T15:37:21.585Z"
   },
   {
    "duration": 18,
    "start_time": "2023-01-10T15:37:31.807Z"
   },
   {
    "duration": 3,
    "start_time": "2023-01-10T15:37:36.463Z"
   },
   {
    "duration": 35,
    "start_time": "2023-01-10T15:39:32.267Z"
   },
   {
    "duration": 34,
    "start_time": "2023-01-10T15:39:38.622Z"
   },
   {
    "duration": 1460,
    "start_time": "2023-01-10T15:39:59.031Z"
   },
   {
    "duration": 53,
    "start_time": "2023-01-10T15:40:00.493Z"
   },
   {
    "duration": 16,
    "start_time": "2023-01-10T15:40:00.547Z"
   },
   {
    "duration": 38,
    "start_time": "2023-01-10T15:40:00.565Z"
   },
   {
    "duration": 20,
    "start_time": "2023-01-10T15:40:00.609Z"
   },
   {
    "duration": 21,
    "start_time": "2023-01-10T15:40:00.631Z"
   },
   {
    "duration": 30,
    "start_time": "2023-01-10T15:40:00.653Z"
   },
   {
    "duration": 32,
    "start_time": "2023-01-10T15:40:00.684Z"
   },
   {
    "duration": 17,
    "start_time": "2023-01-10T15:40:00.718Z"
   },
   {
    "duration": 25,
    "start_time": "2023-01-10T15:40:00.739Z"
   },
   {
    "duration": 64,
    "start_time": "2023-01-10T15:40:00.766Z"
   },
   {
    "duration": 43,
    "start_time": "2023-01-10T15:40:00.831Z"
   },
   {
    "duration": 15,
    "start_time": "2023-01-10T15:40:00.876Z"
   },
   {
    "duration": 25,
    "start_time": "2023-01-10T15:40:00.892Z"
   },
   {
    "duration": 127,
    "start_time": "2023-01-10T15:40:00.919Z"
   },
   {
    "duration": 4,
    "start_time": "2023-01-10T15:40:01.047Z"
   },
   {
    "duration": 13,
    "start_time": "2023-01-10T15:40:01.053Z"
   },
   {
    "duration": 12,
    "start_time": "2023-01-10T15:40:01.067Z"
   },
   {
    "duration": 15,
    "start_time": "2023-01-10T15:40:01.081Z"
   },
   {
    "duration": 6,
    "start_time": "2023-01-10T15:40:01.097Z"
   },
   {
    "duration": 7,
    "start_time": "2023-01-10T15:40:01.116Z"
   },
   {
    "duration": 17,
    "start_time": "2023-01-10T15:40:01.124Z"
   },
   {
    "duration": 39,
    "start_time": "2023-01-10T15:40:01.143Z"
   },
   {
    "duration": 11,
    "start_time": "2023-01-10T15:40:01.183Z"
   },
   {
    "duration": 40,
    "start_time": "2023-01-10T15:40:01.196Z"
   },
   {
    "duration": 10,
    "start_time": "2023-01-10T15:40:01.238Z"
   },
   {
    "duration": 20,
    "start_time": "2023-01-10T15:40:01.249Z"
   },
   {
    "duration": 67,
    "start_time": "2023-01-10T15:40:01.273Z"
   },
   {
    "duration": 120,
    "start_time": "2023-01-10T15:40:01.342Z"
   },
   {
    "duration": 0,
    "start_time": "2023-01-10T15:40:01.464Z"
   },
   {
    "duration": 0,
    "start_time": "2023-01-10T15:40:01.466Z"
   },
   {
    "duration": 0,
    "start_time": "2023-01-10T15:40:01.467Z"
   },
   {
    "duration": 0,
    "start_time": "2023-01-10T15:40:01.468Z"
   },
   {
    "duration": 0,
    "start_time": "2023-01-10T15:40:01.469Z"
   },
   {
    "duration": 0,
    "start_time": "2023-01-10T15:40:01.470Z"
   },
   {
    "duration": 0,
    "start_time": "2023-01-10T15:40:01.471Z"
   },
   {
    "duration": 0,
    "start_time": "2023-01-10T15:40:01.472Z"
   },
   {
    "duration": 0,
    "start_time": "2023-01-10T15:40:01.473Z"
   },
   {
    "duration": 0,
    "start_time": "2023-01-10T15:40:01.475Z"
   },
   {
    "duration": 0,
    "start_time": "2023-01-10T15:40:01.476Z"
   },
   {
    "duration": 0,
    "start_time": "2023-01-10T15:40:01.477Z"
   },
   {
    "duration": 0,
    "start_time": "2023-01-10T15:40:01.478Z"
   },
   {
    "duration": 0,
    "start_time": "2023-01-10T15:40:01.479Z"
   },
   {
    "duration": 0,
    "start_time": "2023-01-10T15:40:01.480Z"
   },
   {
    "duration": 0,
    "start_time": "2023-01-10T15:40:01.481Z"
   },
   {
    "duration": 0,
    "start_time": "2023-01-10T15:40:01.509Z"
   },
   {
    "duration": 0,
    "start_time": "2023-01-10T15:40:01.510Z"
   },
   {
    "duration": 0,
    "start_time": "2023-01-10T15:40:01.511Z"
   },
   {
    "duration": 0,
    "start_time": "2023-01-10T15:40:01.516Z"
   },
   {
    "duration": 0,
    "start_time": "2023-01-10T15:40:01.518Z"
   },
   {
    "duration": 0,
    "start_time": "2023-01-10T15:40:01.520Z"
   },
   {
    "duration": 0,
    "start_time": "2023-01-10T15:40:01.522Z"
   },
   {
    "duration": 0,
    "start_time": "2023-01-10T15:40:01.522Z"
   },
   {
    "duration": 0,
    "start_time": "2023-01-10T15:40:01.524Z"
   },
   {
    "duration": 0,
    "start_time": "2023-01-10T15:40:01.525Z"
   },
   {
    "duration": 0,
    "start_time": "2023-01-10T15:40:01.525Z"
   },
   {
    "duration": 0,
    "start_time": "2023-01-10T15:40:01.527Z"
   },
   {
    "duration": 0,
    "start_time": "2023-01-10T15:40:01.528Z"
   },
   {
    "duration": 0,
    "start_time": "2023-01-10T15:40:01.529Z"
   },
   {
    "duration": 0,
    "start_time": "2023-01-10T15:40:01.531Z"
   },
   {
    "duration": 0,
    "start_time": "2023-01-10T15:40:01.532Z"
   },
   {
    "duration": 0,
    "start_time": "2023-01-10T15:40:01.533Z"
   },
   {
    "duration": 0,
    "start_time": "2023-01-10T15:40:01.534Z"
   },
   {
    "duration": 0,
    "start_time": "2023-01-10T15:40:01.535Z"
   },
   {
    "duration": 0,
    "start_time": "2023-01-10T15:40:01.536Z"
   },
   {
    "duration": 0,
    "start_time": "2023-01-10T15:40:01.537Z"
   },
   {
    "duration": 0,
    "start_time": "2023-01-10T15:40:01.538Z"
   },
   {
    "duration": 0,
    "start_time": "2023-01-10T15:40:01.539Z"
   },
   {
    "duration": 0,
    "start_time": "2023-01-10T15:40:01.540Z"
   },
   {
    "duration": 0,
    "start_time": "2023-01-10T15:40:01.541Z"
   },
   {
    "duration": 0,
    "start_time": "2023-01-10T15:40:01.542Z"
   },
   {
    "duration": 0,
    "start_time": "2023-01-10T15:40:01.543Z"
   },
   {
    "duration": 0,
    "start_time": "2023-01-10T15:40:01.544Z"
   },
   {
    "duration": 0,
    "start_time": "2023-01-10T15:40:01.545Z"
   },
   {
    "duration": 0,
    "start_time": "2023-01-10T15:40:01.546Z"
   },
   {
    "duration": 0,
    "start_time": "2023-01-10T15:40:01.547Z"
   },
   {
    "duration": 0,
    "start_time": "2023-01-10T15:40:01.548Z"
   },
   {
    "duration": 0,
    "start_time": "2023-01-10T15:40:01.605Z"
   },
   {
    "duration": 8,
    "start_time": "2023-01-10T15:40:43.879Z"
   },
   {
    "duration": 6,
    "start_time": "2023-01-10T15:41:52.722Z"
   },
   {
    "duration": 7,
    "start_time": "2023-01-10T15:42:06.110Z"
   },
   {
    "duration": 4,
    "start_time": "2023-01-10T15:42:08.428Z"
   },
   {
    "duration": 3,
    "start_time": "2023-01-10T15:42:09.988Z"
   },
   {
    "duration": 6,
    "start_time": "2023-01-10T15:42:10.551Z"
   },
   {
    "duration": 176,
    "start_time": "2023-01-10T15:42:12.534Z"
   },
   {
    "duration": 211,
    "start_time": "2023-01-10T15:42:27.963Z"
   },
   {
    "duration": 109,
    "start_time": "2023-01-10T15:42:31.234Z"
   },
   {
    "duration": 17,
    "start_time": "2023-01-10T15:42:32.643Z"
   },
   {
    "duration": 202,
    "start_time": "2023-01-10T15:42:36.202Z"
   },
   {
    "duration": 380,
    "start_time": "2023-01-10T15:42:54.354Z"
   },
   {
    "duration": 5182,
    "start_time": "2023-01-10T15:42:55.417Z"
   },
   {
    "duration": 132,
    "start_time": "2023-01-10T15:43:00.605Z"
   },
   {
    "duration": 144,
    "start_time": "2023-01-10T15:43:00.739Z"
   },
   {
    "duration": 41,
    "start_time": "2023-01-10T15:43:39.098Z"
   },
   {
    "duration": 231,
    "start_time": "2023-01-10T15:43:49.017Z"
   },
   {
    "duration": 10,
    "start_time": "2023-01-10T15:43:49.457Z"
   },
   {
    "duration": 118,
    "start_time": "2023-01-10T15:43:53.049Z"
   },
   {
    "duration": 10,
    "start_time": "2023-01-10T15:43:56.123Z"
   },
   {
    "duration": 5,
    "start_time": "2023-01-10T15:44:05.951Z"
   },
   {
    "duration": 4,
    "start_time": "2023-01-10T15:44:09.152Z"
   },
   {
    "duration": 7,
    "start_time": "2023-01-10T15:44:09.603Z"
   },
   {
    "duration": 28,
    "start_time": "2023-01-10T15:44:11.650Z"
   },
   {
    "duration": 1973,
    "start_time": "2023-01-10T15:45:31.419Z"
   },
   {
    "duration": 134,
    "start_time": "2023-01-10T15:45:39.230Z"
   },
   {
    "duration": 1754,
    "start_time": "2023-01-10T15:45:53.903Z"
   },
   {
    "duration": 9,
    "start_time": "2023-01-10T15:45:55.659Z"
   },
   {
    "duration": 16,
    "start_time": "2023-01-10T15:47:17.036Z"
   },
   {
    "duration": 1416,
    "start_time": "2023-01-10T15:47:34.406Z"
   },
   {
    "duration": 42,
    "start_time": "2023-01-10T15:47:35.824Z"
   },
   {
    "duration": 17,
    "start_time": "2023-01-10T15:47:36.253Z"
   },
   {
    "duration": 15,
    "start_time": "2023-01-10T15:47:36.884Z"
   },
   {
    "duration": 8,
    "start_time": "2023-01-10T15:47:37.804Z"
   },
   {
    "duration": 6,
    "start_time": "2023-01-10T15:47:38.269Z"
   },
   {
    "duration": 5,
    "start_time": "2023-01-10T15:47:39.116Z"
   },
   {
    "duration": 8,
    "start_time": "2023-01-10T15:47:40.429Z"
   },
   {
    "duration": 6,
    "start_time": "2023-01-10T15:47:40.804Z"
   },
   {
    "duration": 5,
    "start_time": "2023-01-10T15:47:41.948Z"
   },
   {
    "duration": 7,
    "start_time": "2023-01-10T15:47:43.268Z"
   },
   {
    "duration": 13,
    "start_time": "2023-01-10T15:47:43.820Z"
   },
   {
    "duration": 5,
    "start_time": "2023-01-10T15:47:44.339Z"
   },
   {
    "duration": 9,
    "start_time": "2023-01-10T15:47:45.460Z"
   },
   {
    "duration": 117,
    "start_time": "2023-01-10T15:47:45.956Z"
   },
   {
    "duration": 6,
    "start_time": "2023-01-10T15:47:47.428Z"
   },
   {
    "duration": 2,
    "start_time": "2023-01-10T15:47:48.996Z"
   },
   {
    "duration": 13,
    "start_time": "2023-01-10T15:47:52.204Z"
   },
   {
    "duration": 5,
    "start_time": "2023-01-10T15:47:54.022Z"
   },
   {
    "duration": 6,
    "start_time": "2023-01-10T15:48:06.988Z"
   },
   {
    "duration": 4,
    "start_time": "2023-01-10T15:48:07.850Z"
   },
   {
    "duration": 8,
    "start_time": "2023-01-10T15:48:08.788Z"
   },
   {
    "duration": 15,
    "start_time": "2023-01-10T15:48:09.209Z"
   },
   {
    "duration": 4,
    "start_time": "2023-01-10T15:48:12.956Z"
   },
   {
    "duration": 18,
    "start_time": "2023-01-10T15:48:13.420Z"
   },
   {
    "duration": 18,
    "start_time": "2023-01-10T15:48:15.060Z"
   },
   {
    "duration": 3,
    "start_time": "2023-01-10T15:48:23.652Z"
   },
   {
    "duration": 44,
    "start_time": "2023-01-10T15:48:47.525Z"
   },
   {
    "duration": 6,
    "start_time": "2023-01-10T15:49:08.714Z"
   },
   {
    "duration": 6,
    "start_time": "2023-01-10T15:49:11.497Z"
   },
   {
    "duration": 5,
    "start_time": "2023-01-10T15:49:39.995Z"
   },
   {
    "duration": 2,
    "start_time": "2023-01-10T15:49:41.982Z"
   },
   {
    "duration": 3,
    "start_time": "2023-01-10T15:49:44.131Z"
   },
   {
    "duration": 6,
    "start_time": "2023-01-10T15:49:44.898Z"
   },
   {
    "duration": 164,
    "start_time": "2023-01-10T15:49:46.642Z"
   },
   {
    "duration": 221,
    "start_time": "2023-01-10T15:49:55.433Z"
   },
   {
    "duration": 117,
    "start_time": "2023-01-10T15:50:00.370Z"
   },
   {
    "duration": 17,
    "start_time": "2023-01-10T15:50:01.161Z"
   },
   {
    "duration": 225,
    "start_time": "2023-01-10T15:50:06.317Z"
   },
   {
    "duration": 313,
    "start_time": "2023-01-10T15:50:09.963Z"
   },
   {
    "duration": 6828,
    "start_time": "2023-01-10T15:50:15.465Z"
   },
   {
    "duration": 224,
    "start_time": "2023-01-10T15:50:22.295Z"
   },
   {
    "duration": 128,
    "start_time": "2023-01-10T15:50:22.521Z"
   },
   {
    "duration": 45,
    "start_time": "2023-01-10T15:50:41.754Z"
   },
   {
    "duration": 196,
    "start_time": "2023-01-10T15:50:46.738Z"
   },
   {
    "duration": 11,
    "start_time": "2023-01-10T15:50:50.393Z"
   },
   {
    "duration": 111,
    "start_time": "2023-01-10T15:51:34.643Z"
   },
   {
    "duration": 5,
    "start_time": "2023-01-10T15:51:43.328Z"
   },
   {
    "duration": 4,
    "start_time": "2023-01-10T15:51:45.791Z"
   },
   {
    "duration": 10,
    "start_time": "2023-01-10T15:51:47.704Z"
   },
   {
    "duration": 3143,
    "start_time": "2023-01-10T15:51:48.688Z"
   },
   {
    "duration": 141,
    "start_time": "2023-01-10T15:51:51.833Z"
   },
   {
    "duration": 2335,
    "start_time": "2023-01-10T15:52:03.857Z"
   },
   {
    "duration": 11,
    "start_time": "2023-01-10T15:52:06.194Z"
   },
   {
    "duration": 127,
    "start_time": "2023-01-10T15:52:06.206Z"
   },
   {
    "duration": 34,
    "start_time": "2023-01-10T15:52:06.465Z"
   },
   {
    "duration": 378,
    "start_time": "2023-01-10T15:52:12.727Z"
   },
   {
    "duration": 152,
    "start_time": "2023-01-10T15:52:13.151Z"
   },
   {
    "duration": 11,
    "start_time": "2023-01-10T15:52:13.721Z"
   },
   {
    "duration": 3,
    "start_time": "2023-01-10T15:52:15.687Z"
   },
   {
    "duration": 23,
    "start_time": "2023-01-10T15:52:16.399Z"
   },
   {
    "duration": 260,
    "start_time": "2023-01-10T15:52:23.271Z"
   },
   {
    "duration": 6736,
    "start_time": "2023-01-10T15:52:23.824Z"
   },
   {
    "duration": 268,
    "start_time": "2023-01-10T15:52:30.562Z"
   },
   {
    "duration": 0,
    "start_time": "2023-01-10T15:52:30.832Z"
   },
   {
    "duration": 27171,
    "start_time": "2023-01-10T15:53:02.342Z"
   },
   {
    "duration": 153,
    "start_time": "2023-01-10T15:53:29.515Z"
   },
   {
    "duration": 16009,
    "start_time": "2023-01-10T15:53:41.166Z"
   },
   {
    "duration": 10,
    "start_time": "2023-01-10T15:53:57.177Z"
   },
   {
    "duration": 140,
    "start_time": "2023-01-10T15:53:57.189Z"
   },
   {
    "duration": 175,
    "start_time": "2023-01-10T15:54:01.757Z"
   },
   {
    "duration": 369,
    "start_time": "2023-01-10T15:54:08.389Z"
   },
   {
    "duration": 183,
    "start_time": "2023-01-10T15:54:11.682Z"
   },
   {
    "duration": 12,
    "start_time": "2023-01-10T15:54:16.220Z"
   },
   {
    "duration": 5,
    "start_time": "2023-01-10T15:54:17.077Z"
   },
   {
    "duration": 20,
    "start_time": "2023-01-10T15:54:17.927Z"
   },
   {
    "duration": 4,
    "start_time": "2023-01-10T15:54:29.719Z"
   },
   {
    "duration": 16,
    "start_time": "2023-01-10T15:54:30.080Z"
   },
   {
    "duration": 11,
    "start_time": "2023-01-10T15:54:47.781Z"
   },
   {
    "duration": 22,
    "start_time": "2023-01-10T15:55:05.869Z"
   },
   {
    "duration": 3,
    "start_time": "2023-01-10T15:55:09.653Z"
   },
   {
    "duration": 5,
    "start_time": "2023-01-10T15:55:23.580Z"
   },
   {
    "duration": 5,
    "start_time": "2023-01-10T15:55:24.318Z"
   },
   {
    "duration": 6,
    "start_time": "2023-01-10T15:55:49.298Z"
   },
   {
    "duration": 10,
    "start_time": "2023-01-10T15:58:30.516Z"
   },
   {
    "duration": 7,
    "start_time": "2023-01-10T15:58:39.855Z"
   },
   {
    "duration": 20,
    "start_time": "2023-01-10T15:59:20.901Z"
   }
  ],
  "kernelspec": {
   "display_name": "Python 3 (ipykernel)",
   "language": "python",
   "name": "python3"
  },
  "language_info": {
   "codemirror_mode": {
    "name": "ipython",
    "version": 3
   },
   "file_extension": ".py",
   "mimetype": "text/x-python",
   "name": "python",
   "nbconvert_exporter": "python",
   "pygments_lexer": "ipython3",
   "version": "3.9.5"
  },
  "toc": {
   "base_numbering": 1,
   "nav_menu": {},
   "number_sections": true,
   "sideBar": true,
   "skip_h1_title": true,
   "title_cell": "Содержание",
   "title_sidebar": "Contents",
   "toc_cell": true,
   "toc_position": {
    "height": "calc(100% - 180px)",
    "left": "10px",
    "top": "150px",
    "width": "165px"
   },
   "toc_section_display": true,
   "toc_window_display": true
  },
  "vscode": {
   "interpreter": {
    "hash": "de47f5c92c0ee6f12a59a5613ac5feff6aab19ddff207ba0b3964cced08c4ccc"
   }
  }
 },
 "nbformat": 4,
 "nbformat_minor": 2
}
